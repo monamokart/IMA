{
 "cells": [
  {
   "cell_type": "markdown",
   "metadata": {
    "id": "vHxS3VcZ86wa"
   },
   "source": [
    "# Practical work on SAR statistics \n",
    "\n",
    "### Emanuele DALSASSO, Florence TUPIN\n",
    "\n",
    "Images of the practical work can be found on: \n",
    "https://perso.telecom-paristech.fr/dalsasso/TPSAR/\n",
    "and \n",
    "https://perso.telecom-paristech.fr/tupin/TPSAR/DATA/images/\n",
    "\n",
    "Some useful functions are available in the file *mvalab.py*. \n",
    "\n",
    "The practical work will be organised as follows:\n",
    "* A. Single look data distribution\n",
    "* B. Speckle simulation and multiplicative noise model\n",
    "* C. Image despeckling: simple averaging and Lee filter\n",
    "* D. Deep Learning based denoising\n",
    "\n",
    "### First steps\n",
    "The first three cells will download the *mvalab.py* stript with some useful functions to read the data, import the libraries needed and implement a fuction to visualize SAR images in a more pleasant way, as well as creating synthetic speckle noise.\n",
    "  "
   ]
  },
  {
   "cell_type": "code",
   "execution_count": 1,
   "metadata": {
    "id": "65GEQpj0xx4h"
   },
   "outputs": [
    {
     "name": "stderr",
     "output_type": "stream",
     "text": [
      "'wget' n'est pas reconnu en tant que commande interne\n",
      "ou externe, un programme ex‚cutable ou un fichier de commandes.\n",
      "'wget' n'est pas reconnu en tant que commande interne\n",
      "ou externe, un programme ex‚cutable ou un fichier de commandes.\n",
      "'wget' n'est pas reconnu en tant que commande interne\n",
      "ou externe, un programme ex‚cutable ou un fichier de commandes.\n"
     ]
    }
   ],
   "source": [
    "!wget https://perso.telecom-paristech.fr/dalsasso/TPSAR/mvalab.py\n",
    "!wget https://perso.telecom-paristech.fr/dalsasso/TPSAR/lely.npy\n",
    "!wget https://perso.telecom-paristech.fr/dalsasso/TPSAR/pepper.png"
   ]
  },
  {
   "cell_type": "code",
   "execution_count": 2,
   "metadata": {
    "id": "qQxFfpSCfQ8Y"
   },
   "outputs": [
    {
     "ename": "ModuleNotFoundError",
     "evalue": "No module named 'mvalab'",
     "output_type": "error",
     "traceback": [
      "\u001b[1;31m---------------------------------------------------------------------------\u001b[0m",
      "\u001b[1;31mModuleNotFoundError\u001b[0m                       Traceback (most recent call last)",
      "\u001b[1;32m<ipython-input-2-986744ee5b35>\u001b[0m in \u001b[0;36m<module>\u001b[1;34m\u001b[0m\n\u001b[0;32m     12\u001b[0m \u001b[1;32mimport\u001b[0m \u001b[0mmath\u001b[0m\u001b[1;33m\u001b[0m\u001b[1;33m\u001b[0m\u001b[0m\n\u001b[0;32m     13\u001b[0m \u001b[1;32mimport\u001b[0m \u001b[0mmatplotlib\u001b[0m\u001b[1;33m.\u001b[0m\u001b[0mpyplot\u001b[0m \u001b[1;32mas\u001b[0m \u001b[0mplt\u001b[0m\u001b[1;33m\u001b[0m\u001b[1;33m\u001b[0m\u001b[0m\n\u001b[1;32m---> 14\u001b[1;33m \u001b[1;32mimport\u001b[0m \u001b[0mmvalab\u001b[0m \u001b[1;32mas\u001b[0m \u001b[0mmvalab\u001b[0m\u001b[1;33m\u001b[0m\u001b[1;33m\u001b[0m\u001b[0m\n\u001b[0m\u001b[0;32m     15\u001b[0m \u001b[1;32mfrom\u001b[0m \u001b[0murllib\u001b[0m\u001b[1;33m.\u001b[0m\u001b[0mrequest\u001b[0m \u001b[1;32mimport\u001b[0m \u001b[0murlopen\u001b[0m\u001b[1;33m\u001b[0m\u001b[1;33m\u001b[0m\u001b[0m\n\u001b[0;32m     16\u001b[0m \u001b[1;32mimport\u001b[0m \u001b[0mcmath\u001b[0m\u001b[1;33m\u001b[0m\u001b[1;33m\u001b[0m\u001b[0m\n",
      "\u001b[1;31mModuleNotFoundError\u001b[0m: No module named 'mvalab'"
     ]
    }
   ],
   "source": [
    "%matplotlib inline\n",
    "import scipy\n",
    "from scipy import signal\n",
    "import scipy.signal\n",
    "import scipy as spy\n",
    "import scipy.fftpack\n",
    "import imageio\n",
    "from scipy import ndimage\n",
    "from scipy import special\n",
    "from scipy import ndimage\n",
    "import numpy as np\n",
    "import math\n",
    "import matplotlib.pyplot as plt\n",
    "import mvalab as mvalab\n",
    "from urllib.request import urlopen\n",
    "import cmath\n",
    "from bokeh.plotting import figure, output_file, show\n",
    "from bokeh.plotting import show as showbokeh\n",
    "from bokeh.io import output_notebook\n",
    "output_notebook()\n",
    "from bokeh.colors import Color as bcolor\n",
    "from bokeh.colors.rgb import RGB\n",
    "\n",
    "\n",
    "plt.rcParams['figure.figsize'] = [8, 8]\n",
    "plt.rcParams['figure.max_open_warning'] = 30"
   ]
  },
  {
   "cell_type": "code",
   "execution_count": null,
   "metadata": {
    "id": "XHdNMmFyxcpu"
   },
   "outputs": [],
   "source": [
    "def visusar_colab(im,size_fig=500,title='',threshold=None): #special colab\n",
    "    liste_couleurs_grises=[]\n",
    "    for k in range(256):\n",
    "      liste_couleurs_grises.append(RGB(k,k,k))\n",
    "    \n",
    "    '''\n",
    "    by default: compute mean and std on the image at hand\n",
    "    if 0: display full dynamic\n",
    "    else: use the custom value that is provided\n",
    "    '''\n",
    "    if threshold == None:\n",
    "      threshold = np.mean(im)+3*np.std(im)\n",
    "    elif threshold == 0:\n",
    "      threshold = np.max(im)\n",
    "    else:\n",
    "      threshold=threshold\n",
    "\n",
    "    def normalise_image_pour_bokeh(X,threshold):\n",
    "      imt=np.copy(X.copy())\n",
    "      imt/=threshold\n",
    "      imt[imt<0]=0\n",
    "      imt[imt>1]=1\n",
    "\n",
    "      imt*=255\n",
    "      imt=imt.astype(np.uint8)\n",
    "      return imt\n",
    "    img=normalise_image_pour_bokeh(np.flipud(im),threshold)# np.flipud(np.fliplr(im)))\n",
    "    title = title + ' : mean = '+str(np.mean(im)) + ' std = '+str(np.std(im))\n",
    "    p = figure(tooltips=[(\"x\", \"$x{int}\"), (\"y\", \"$y{int}\"), (\"value\", \"@image\")],title=title, y_range=[im.shape[0],0], x_range=[0, im.shape[1]],plot_width=size_fig, plot_height=int(size_fig*im.shape[0]/im.shape[1]), match_aspect=True)\n",
    "\n",
    "    # must give a vector of images\n",
    "    p.image(image=[img], palette=liste_couleurs_grises,x=0,y=im.shape[0], dw=im.shape[1], dh=im.shape[0],dilate=False)\n",
    "    showbokeh(p)\n",
    "\n",
    "\n",
    "def injectspeckle_amplitude(img,L):\n",
    "    rows = img.shape[0]\n",
    "    columns = img.shape[1]\n",
    "    s = np.zeros((rows, columns))\n",
    "    for k in range(0,L):\n",
    "        gamma = np.abs( np.random.randn(rows,columns) + np.random.randn(rows,columns)*1j )**2/2\n",
    "        s = s + gamma\n",
    "    s_amplitude = np.sqrt(s/L)\n",
    "    ima_speckle_amplitude = np.multiply(img,s_amplitude)\n",
    "    return ima_speckle_amplitude\n",
    "\n",
    "def read_png(filename):\n",
    "  ima = plt.imread(filename)\n",
    "  ima = np.array(ima)\n",
    "  ima = np.sqrt(ima[:,:,0]**2+ima[:,:,1]**2+ima[:,:,2]**2)\n",
    "  ima = ima / ima.max() * 255\n",
    "  return ima"
   ]
  },
  {
   "cell_type": "markdown",
   "metadata": {
    "heading_collapsed": true,
    "id": "qE0-4mm-JSH7"
   },
   "source": [
    "## A. Single look data distributions \n",
    "In this part, we will use a Single Look Complex (SLC) image and analyze the Probability Density Function (PDF) on a manually selected homogeneous area to verify Goodman's hypothesis.\n",
    "\n",
    "The image has been acquired by the Sentinel-1 sensor over the Lelystad zone in the Netherlands (flat area with fields crops, water and urban areas). \n",
    "Vizualize the amplitude image and interpret it. You may want to have a look to an [optical image](https://goo.gl/maps/JJcYcRjMKj1p6uqW8) of the area\n",
    "\n",
    "***N.B.***: An amplitude image is given by the modulus of the electro-magnetic field and intensity is the square of the amplitude (proportional to the signal power).  "
   ]
  },
  {
   "cell_type": "code",
   "execution_count": null,
   "metadata": {
    "hidden": true,
    "id": "JLSWCECQJjzm"
   },
   "outputs": [],
   "source": [
    "pageweb=\"https://perso.telecom-paristech.fr/dalsasso/TPSAR/pilelely/\"\n",
    "image='Lely.CXF'\n",
    "im_slc_senti_lely_liste=mvalab.imz2mat(pageweb+image);\n",
    "im_slc_senti_lely = im_slc_senti_lely_liste[0]\n",
    "ncol=im_slc_senti_lely_liste[1]\n",
    "nlig=im_slc_senti_lely_liste[2]\n",
    "\n",
    "# plot the amplitude image\n",
    "\n",
    "visusar_colab(...,size_fig=500) #- insert code here to display the image\n",
    "\n",
    "# because the image is big you can display a crop of 1024 x 1024 pixels\n",
    "\n",
    "... # complete"
   ]
  },
  {
   "cell_type": "markdown",
   "metadata": {
    "hidden": true,
    "id": "LpstbS21KD7v"
   },
   "source": [
    "### A.1.: Data distributions for an homogeneous area\n",
    "- Select a **physically homogeneous** area and compute the distribution of the intensity, amplitude, phase, real part and imaginary part. Some useful functions are:\n",
    "  - `np.angle`\n",
    "  - `np.real`\n",
    "  - `np.imag` \n",
    "\n",
    "- Compute the histograms for these variables and draw on the histogram the theoretical curve by computing the mean value $\\mu$ and the standard deviation $\\sigma$ with the function `scipy.stats.[distribution].fit` by replacing `[distribution]` with the [expected pdf](https://docs.scipy.org/doc/scipy/reference/stats.html) \n",
    "\n",
    "- Compute the coefficient of variation $\\gamma=\\frac{\\sigma}{\\mu}$ in amplitude and in intensity. \n",
    "\n",
    "***N.B.***: The Goodman model is valid only on homogeneous area. That is why it is important to select pixels sharing the same distribution (with the same underlying reflectivity).\n"
   ]
  },
  {
   "cell_type": "code",
   "execution_count": null,
   "metadata": {
    "hidden": true,
    "id": "qQeBa4zVfQ8_"
   },
   "outputs": [],
   "source": [
    "# Select a crop of at least 200 by 200 pixels on a homogeneous area\n",
    "crop_slc = ... # complete\n",
    "visusar_colab(np.abs(crop_slc))\n",
    "\n",
    "# Compute amplitude, intensity, phase, real and imaginary part\n",
    "amp_senti_lely = ... # complete\n",
    "int_senti_lely = ... # complete\n",
    "ph_senti_lely = ... # complete\n",
    "real_senti_lely = ... # complete\n",
    "imag_senti_lely = ... # complete"
   ]
  },
  {
   "cell_type": "code",
   "execution_count": null,
   "metadata": {
    "hidden": true,
    "id": "rltrId_r86w9"
   },
   "outputs": [],
   "source": [
    "# Plot the histograms and verify they match the theoretical distribution\n",
    "plt.rcParams['figure.figsize'] = [8, 8]\n",
    "\n",
    "# fitting of the distributions \n",
    "# use the right one :\n",
    "# Gaussian pdf : scipy.stats.norm\n",
    "# Rayleigh pdf : scipy.stats.rayleigh\n",
    "# Exponential pdf : scipy.stats.expon\n",
    "\n",
    "#example for real part of the data \n",
    "plt.figure()\n",
    "_, bins, _ = plt.hist(real_senti_lely.ravel(),bins='auto',density=True,range=[-100,100])  # Gaussian distribution\n",
    "mu, sigma = scipy.stats.norm.fit(real_senti_lely)\n",
    "best_fit_line = scipy.stats.norm.pdf(bins, mu, sigma) # complete\n",
    "plt.plot(bins, best_fit_line)\n",
    "plt.title('histogram of real part')\n",
    "plt.show()\n",
    "\n",
    "#complete for imaginary part \n",
    "plt.figure()\n",
    "...\n",
    "plt.title('histogram of imaginary part')\n",
    "plt.show()\n",
    "\n",
    "\n",
    "#complete for phase data \n",
    "plt.figure()\n",
    "...\n",
    "plt.title('histogram of phase')\n",
    "plt.show()\n",
    "\n",
    "\n",
    "#complete for intensity data \n",
    "plt.figure()\n",
    "...\n",
    "plt.title('histogram of intensity')\n",
    "plt.show()\n",
    "\n",
    "#complete for amplitude data \n",
    "plt.figure()\n",
    "...\n",
    "plt.title('histogram of amplitude')\n",
    "plt.show()"
   ]
  },
  {
   "cell_type": "code",
   "execution_count": null,
   "metadata": {
    "hidden": true,
    "id": "EiTJeyKwfQ9a"
   },
   "outputs": [],
   "source": [
    "# Compute the coefficient of variation on the homogeneous crop using intensity data\n",
    "m_I = ... # complete\n",
    "sigma_I = ... # complete\n",
    "coeff_var_I = ... # complete\n",
    "print('Coefficient of variation in intensity: '+str(coeff_var_I))\n",
    "\n",
    "# Compute the coefficient of variation on the homogeneous crop using amplitude data\n",
    "m_A = ... # complete\n",
    "sigma_A = ... # complete\n",
    "coeff_var_A = ... # complete\n",
    "print('Coefficient of variation in amplitude: '+str(coeff_var_A))"
   ]
  },
  {
   "cell_type": "markdown",
   "metadata": {
    "id": "TpCilYL1poy4"
   },
   "source": [
    "### Question A.1.\n",
    "What are the distributions followed by real part, imaginary part, phase, intensity and amplitude on an homogeneous area ? \n",
    "What are the values for the coefficient of variation for amplitude and intensity data? Are they in accordance with the theoretical values ? "
   ]
  },
  {
   "cell_type": "markdown",
   "metadata": {
    "id": "QrfF_eHD3LRc"
   },
   "source": [
    "### Answer A.1.\n",
    "..."
   ]
  },
  {
   "cell_type": "markdown",
   "metadata": {
    "id": "O5cXT6Jz3SEN"
   },
   "source": [
    "### A.2. Local analysis of the coefficient of variation\n",
    "\n",
    "The coefficient of variation $\\gamma=\\frac{\\sigma}{\\mu}$ (standard deviation normalized by the mean) is an indication of the local homogeneity of the scene. \n",
    "It can be computed locally around each pixel using a moving window.\n",
    "\n",
    "Using 2D convolution (`signal.convolve2d(..,..,mode='same')`) to speed up the processing, compute the image of the coefficient of variation by taking the intensity of `im_slc_senti_lely`. "
   ]
  },
  {
   "cell_type": "markdown",
   "metadata": {
    "id": "jTtpiWKg3fcc"
   },
   "source": [
    "### Question A.2.\n",
    "Comment the results of the image of local coefficient of variation and local standard deviation. \n",
    "- Which structures of the image are highlighted with the coefficient of variation ? \n",
    "- What is the influence of the window size ? \n",
    "- Why is the local standard deviation not adapted to measure the local homogeneity of the scene ?\n"
   ]
  },
  {
   "cell_type": "markdown",
   "metadata": {
    "id": "qlj4LhZ75W6t"
   },
   "source": [
    "### Answer A.2.\n",
    "..."
   ]
  },
  {
   "cell_type": "code",
   "execution_count": null,
   "metadata": {
    "id": "RwfVxanO5hho"
   },
   "outputs": [],
   "source": [
    "#function to compute the coefficient of variation\n",
    "def compute_coeff_var(ima_int,size_window):\n",
    "  # create the average window\n",
    "  mask = ... # complete\n",
    "\n",
    "  # compute the mean image E{I}\n",
    "  ima_int_mean = signal.convolve2d(ima_int, mask,mode='same')\n",
    "\n",
    "  # compute the variance image (var{I} = E{I^2} - E{I}^2)\n",
    "  ima_int_square = np.multiply(ima_int,ima_int) # I^2 \n",
    "  ima_int_mean_square = ... # complete # E{I^2}\n",
    "  ima_variance = ... # var{I}\n",
    "\n",
    "  # compute coefficient of variation\n",
    "  ima_coeff_var = ... # avoid division by 0\n",
    "  return ima_variance,ima_int_mean, ima_coeff_var"
   ]
  },
  {
   "cell_type": "code",
   "execution_count": null,
   "metadata": {
    "id": "a3-QUzd07iJ4"
   },
   "outputs": [],
   "source": [
    "# take the intensity \n",
    "ima_int = np.abs(np.multiply(im_slc_senti_lely, np.conjugate(im_slc_senti_lely)))\n",
    "visusar_colab(np.sqrt(ima_int))\n",
    "\n",
    "ima_variance,_, ima_coeff_var = compute_coeff_var(ima_int,7)\n",
    "\n",
    "# plot the coefficient of variation\n",
    "visusar_colab(ima_coeff_var,title='Coefficient of variation')\n",
    "\n",
    "# plot the standard deviation\n",
    "visusar_colab(np.sqrt(ima_variance), title='Standard deviation',threshold=20000)"
   ]
  },
  {
   "cell_type": "markdown",
   "metadata": {
    "id": "5ZtwQkmh9kTM"
   },
   "source": [
    "## B. Speckle simulation and multiplicative noise model\n",
    "Speckle phenomenon is a determined by the physics of the ground and is a deterministic process. It is however common to model is as a multiplicative noise. You can use the function `injectspeckle_amplitude(img,L)` to simulate speckle noise with a given number of looks L on an amplitude image.\n",
    "\n",
    "When processing noisy SAR images, it is often beneficial to move into the log domain. This way, the variance is stabilized (i.e. it becomes homogeneous on the whole image).\n",
    "\n",
    "Moreover, the distribution approaches a Gaussian distribution as L increases."
   ]
  },
  {
   "cell_type": "markdown",
   "metadata": {
    "id": "m1RQiRUEAB05"
   },
   "source": [
    "### B.1. Edge detection\n",
    "Create a simulated image by concatenating a dark rectangle with a bright one and simulate speckle noise on it (you can use values of 100 and 150 for the two parts). Use the sobel edge detector to process the amplitude image and the log of the amplitude.\n",
    "\n",
    "Do the same processing for the image *pepper.png* by reading it in the following way: `ima_pepper = read_png('pepper.png')`."
   ]
  },
  {
   "cell_type": "code",
   "execution_count": null,
   "metadata": {
    "id": "PRULC_jM_ERF"
   },
   "outputs": [],
   "source": [
    "simu_image = ... # complete\n",
    "\n",
    "# use the injectspeckle_amplitude function to create speckle with L=1\n",
    "simu_speckle = ... # complete\n",
    "plt.figure()\n",
    "plt.imshow(simu_speckle,cmap='gray')\n",
    "plt.show()\n",
    "\n",
    "# use pepper.png image to create a speckled image with L=1\n",
    "... #complete\n",
    "\n",
    "# plot the image\n",
    "... #complete"
   ]
  },
  {
   "cell_type": "code",
   "execution_count": null,
   "metadata": {
    "id": "8vwgPj4zJnVS"
   },
   "outputs": [],
   "source": [
    "def sobel_filters(img):\n",
    "    Kx = np.array([[-1, 0, 1], [-2, 0, 2], [-1, 0, 1]], np.float32)\n",
    "    Ky = np.array([[1, 2, 1], [0, 0, 0], [-1, -2, -1]], np.float32)\n",
    "    \n",
    "    Ix = ndimage.filters.convolve(img, Kx)\n",
    "    Iy = ndimage.filters.convolve(img, Ky)\n",
    "    \n",
    "    G = np.hypot(Ix, Iy)\n",
    "    G = G / G.max() * 255\n",
    "    theta = np.arctan2(Iy, Ix)\n",
    "\n",
    "    return (G, theta)"
   ]
  },
  {
   "cell_type": "code",
   "execution_count": null,
   "metadata": {
    "id": "eKC85u5k_NWO"
   },
   "outputs": [],
   "source": [
    "# apply filters in intensity\n",
    "edge_n, theta = sobel_filters(...) # complete\n",
    "\n",
    "#display the magnitude of the edge detector\n",
    "plt.figure()\n",
    "plt.imshow(...,cmap='gray') # complete\n",
    "plt.show()\n",
    "\n",
    "#apply a thresholding by choosing an appropriate value et plot the result\n",
    "... # thresholding: complete\n",
    "plt.figure()\n",
    "plt.imshow(...,cmap='gray') # complete\n",
    "plt.show()\n",
    "\n",
    "# do the same operations for pepper\n",
    "... \n"
   ]
  },
  {
   "cell_type": "code",
   "execution_count": null,
   "metadata": {
    "id": "wD3tVpl5LP5-"
   },
   "outputs": [],
   "source": [
    "# apply filters to log-transformed data\n",
    "edge_n, theta = sobel_filters(...) # complete\n",
    "\n",
    "plt.figure()\n",
    "plt.imshow(edge_n,cmap='gray')\n",
    "plt.show()\n",
    "\n",
    "# apply thresholding and plot the results as done above\n",
    "... # complete\n",
    "\n",
    "# apply it to image 'pepper' as well\n",
    "...\n",
    "\n"
   ]
  },
  {
   "cell_type": "markdown",
   "metadata": {
    "id": "HKNCSVGvNmZX"
   },
   "source": [
    "### Question B.1. \n",
    "Compare the two results (with and without the log-transform). What can you observe? Why do you have more false positives on the amplitude image?"
   ]
  },
  {
   "cell_type": "markdown",
   "metadata": {
    "id": "ib9tKBI_N4oo"
   },
   "source": [
    "### Answer B.1.\n",
    "..."
   ]
  },
  {
   "cell_type": "markdown",
   "metadata": {
    "id": "ZVnT5T5rm4OQ"
   },
   "source": [
    "### Question B.2. \n",
    "Discuss the influence of the number of looks L. Can you detect the edges with Sobel filter for L=1 ? What is the minimum value to start detecting the edges ?"
   ]
  },
  {
   "cell_type": "markdown",
   "metadata": {
    "id": "CpCND_H6nKse"
   },
   "source": [
    "###Answer B.2\n",
    "..."
   ]
  },
  {
   "cell_type": "markdown",
   "metadata": {
    "id": "r8XuXTBMOVGR"
   },
   "source": [
    "## C. Image despeckling: simple averaging and Lee filter\n",
    "\n",
    "The local coefficient of variation is also used in a very famous filter for SAR images: the Lee filter. \n",
    "The principle of the filter is to combine the pixel value $I_s$ (intensity value of pixel $s$) and the local mean $\\hat{\\mu}_{s}$ depending on the local coefficient of variation $\\hat{\\gamma}_s$ with the following formula :\n",
    "$\n",
    "  \\hat{I}_s= \\hat{\\mu}_{s}+k_s (I_s-\\hat{\\mu}_{s})\n",
    "$\n",
    "\n",
    "and\n",
    "$\n",
    "  k_s=1- \\frac{\\gamma_{Sp}^2}{\\hat{\\gamma}_s^2}\n",
    "$\n",
    "\n",
    "$\\gamma_{Sp}$ is the theoretical value of the coefficient of variation for a pure speckle ($\\gamma_{Sp}=\\frac{1}{\\sqrt{L}}$ for a L-look intensity image).\n",
    "\n",
    "In this part, we will work both on a noisless image with simulated speckle and on a real image."
   ]
  },
  {
   "cell_type": "markdown",
   "metadata": {
    "id": "7c-nPpebRanC"
   },
   "source": [
    "### Question C.1.\n",
    "Using the previously implemented `compute_coeff_var` function, implement the Lee filter and visualize the denoised image. Comment the result and compare it with a local mean. What are the differences ?\n",
    "\n",
    "Warning : $k$ should be in $[0,1]$."
   ]
  },
  {
   "cell_type": "markdown",
   "metadata": {
    "id": "6Zio1DmDTYvR"
   },
   "source": [
    "### Answer C.1.\n",
    "..."
   ]
  },
  {
   "cell_type": "code",
   "execution_count": null,
   "metadata": {
    "id": "sfkSRtyOQOll"
   },
   "outputs": [],
   "source": [
    "noiseless = np.load('./lely.npy')\n",
    "visusar_colab(noiseless)\n",
    "\n",
    "noisy = injectspeckle_amplitude(noiseless,1)\n",
    "visusar_colab(noisy,size_fig=500)"
   ]
  },
  {
   "cell_type": "code",
   "execution_count": null,
   "metadata": {
    "id": "7ep4z7yFPwAY"
   },
   "outputs": [],
   "source": [
    "ima_int = np.square(noisy) # take the intensity\n",
    "_,ima_int_mean, ima_coeff_var = compute_coeff_var(ima_int,7)\n",
    "\n",
    "# compute ks\n",
    "ks = ... # complete\n",
    "\n",
    "# force k to have values comprised in the range [0,1]\n",
    "ks[ks<0]=0\n",
    "visusar_colab(ks,threshold=0,size_fig=500)\n",
    "\n",
    "# filter the image\n",
    "image_lee_filtered = ... # complete\n",
    "visusar_colab(np.sqrt(image_lee_filtered),title='Image denoised using Lee filter',size_fig=500)\n",
    "visusar_colab(np.sqrt(ima_int_mean),title='Image denoised with local averaging',size_fig=500)"
   ]
  },
  {
   "cell_type": "markdown",
   "metadata": {
    "id": "EXbfn_T4TkHf"
   },
   "source": [
    "### Question C.2.\n",
    "Apply the same fitering to a real image and comment the result you obtain."
   ]
  },
  {
   "cell_type": "markdown",
   "metadata": {
    "id": "fgv4vv19T1pt"
   },
   "source": [
    "### Answer C.2.\n",
    "..."
   ]
  },
  {
   "cell_type": "code",
   "execution_count": null,
   "metadata": {
    "id": "FspdFYwISQvx"
   },
   "outputs": [],
   "source": [
    "# Real SLC SAR image\n",
    "real_noisy_slc = mvalab.imz2mat('https://perso.telecom-paristech.fr/dalsasso/TPSAR/pilelely/multitemp/lely_tuple_multitemp.IMA')\n",
    "real_noisy_int = np.square(np.abs(real_noisy_slc[0][:,:,0]))\n",
    "visusar_colab(np.sqrt(real_noisy_int),size_fig=500)\n"
   ]
  },
  {
   "cell_type": "code",
   "execution_count": null,
   "metadata": {
    "id": "gwIcKTBPS2KA"
   },
   "outputs": [],
   "source": [
    "_,ima_int_mean, ima_coeff_var = compute_coeff_var(real_noisy_int,7)\n",
    "\n",
    "# compute ks\n",
    "ks = ... # complete\n",
    "\n",
    "# force k to have values comprised in the range [0,1]\n",
    "ks[ks<0]=0\n",
    "visusar_colab(ks,threshold=0,size_fig=500)\n",
    "\n",
    "# filter the image\n",
    "image_lee_filtered = ... # complete\n",
    "visusar_colab(np.sqrt(image_lee_filtered),title='Image denoised using Lee filter',size_fig=500)\n",
    "visusar_colab(np.sqrt(ima_int_mean),title='Image denoised with local averaging',size_fig=500)"
   ]
  },
  {
   "cell_type": "markdown",
   "metadata": {
    "id": "f7-I23O_T8mB"
   },
   "source": [
    "### Question C.3.\n",
    "Apply the Lee filter to the synthetic image you have previously created by concatenating a brighter area with a darker one and by corrupting it with a single-look speckle. What is happening in the homogeneous areas ? And around the edge ?"
   ]
  },
  {
   "cell_type": "markdown",
   "metadata": {
    "id": "ogov7YTt0tUZ"
   },
   "source": [
    "### Answer C.3.\n",
    "..."
   ]
  },
  {
   "cell_type": "code",
   "execution_count": null,
   "metadata": {
    "id": "8hUlzlhq0wq-"
   },
   "outputs": [],
   "source": [
    "# Add speckle on the image\n",
    "... # complete\n",
    "\n",
    "# Apply the Lee filter\n",
    "... # complete\n",
    "\n",
    "# Display the result\n",
    "... # complete"
   ]
  },
  {
   "cell_type": "markdown",
   "metadata": {
    "id": "rQhdVbTC6ThY"
   },
   "source": [
    "## D: Deep Learning based denoising\n",
    "Most recent denoising approaches rely on deep neural networks. As you have seen, simulated speckle noise does not perfectly fit the statistics of real SAR images. In particular, the spatial correlation is not modeled by Goodman's model and this is a source of artifacts. \n",
    "\n",
    "The **SAR2SAR** algorithm has been trained in a semi-supervised way, learning speckle statistics directly from real images. You can test it on single look images using the notebook `` SAR2SAR_Single_Look_test.ipynb`` that you can find at [this Gitlab repository](https://gitlab.telecom-paris.fr/ring/sar2sar).\n"
   ]
  },
  {
   "cell_type": "markdown",
   "metadata": {
    "id": "BbrxIE0qC8PV"
   },
   "source": [
    "### Question D.1.\n",
    "Comment the main differences with respect to the Lee filter and the mean filter. Have the edges been preserved and the homogeneous areas denoised without creating artifacts?"
   ]
  },
  {
   "cell_type": "markdown",
   "metadata": {
    "id": "9kZKKH0YDHxb"
   },
   "source": [
    "### Answer D.1.\n",
    "..."
   ]
  }
 ],
 "metadata": {
  "colab": {
   "collapsed_sections": [],
   "name": "v2_tp_stats_IMA207_2021_students.ipynb",
   "provenance": [],
   "toc_visible": true
  },
  "kernelspec": {
   "display_name": "Python 3",
   "language": "python",
   "name": "python3"
  },
  "language_info": {
   "codemirror_mode": {
    "name": "ipython",
    "version": 3
   },
   "file_extension": ".py",
   "mimetype": "text/x-python",
   "name": "python",
   "nbconvert_exporter": "python",
   "pygments_lexer": "ipython3",
   "version": "3.8.3"
  },
  "varInspector": {
   "cols": {
    "lenName": 16,
    "lenType": 16,
    "lenVar": 40
   },
   "kernels_config": {
    "python": {
     "delete_cmd_postfix": "",
     "delete_cmd_prefix": "del ",
     "library": "var_list.py",
     "varRefreshCmd": "print(var_dic_list())"
    },
    "r": {
     "delete_cmd_postfix": ") ",
     "delete_cmd_prefix": "rm(",
     "library": "var_list.r",
     "varRefreshCmd": "cat(var_dic_list()) "
    }
   },
   "types_to_exclude": [
    "module",
    "function",
    "builtin_function_or_method",
    "instance",
    "_Feature"
   ],
   "window_display": false
  }
 },
 "nbformat": 4,
 "nbformat_minor": 1
}
