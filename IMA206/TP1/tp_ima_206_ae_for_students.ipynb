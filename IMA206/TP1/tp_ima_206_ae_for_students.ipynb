{
 "cells": [
  {
   "cell_type": "markdown",
   "metadata": {
    "id": "TdpPHz2Lp6VD"
   },
   "source": [
    "# TP Coding an autoencoder in tensorflow/keras\n",
    "\n",
    "Author : Alasdair Newson\n",
    "\n",
    "alasdair.newson@telecom-paris.fr\n",
    "\n",
    "## Objective:\n",
    "\n",
    "The goal of this TP is to explore autoencoders and variational autoencoders applied to a simple dataset. In this first part, we will look at an autoencoder applied to MNIST.\n",
    "\n",
    "### Your task:\n",
    "You need to add the missing parts in the code (parts between # --- START CODE HERE and # --- END CODE HERE or # FILL IN CODE)\n",
    "\n",
    "First of all, let's load some packages"
   ]
  },
  {
   "cell_type": "code",
   "execution_count": 1,
   "metadata": {
    "id": "JqNeIJ8Op8Ao"
   },
   "outputs": [],
   "source": [
    "\n",
    "import pdb\n",
    "import matplotlib.pyplot as plt\n",
    "import numpy as np\n",
    "import os\n",
    "\n",
    "from tensorflow.keras.datasets import mnist\n",
    "from tensorflow.keras.layers import Input, Dense, Reshape, Flatten, Dropout, BatchNormalization, Activation, ZeroPadding2D, MaxPooling2D, LeakyReLU\n",
    "from tensorflow.keras.layers import UpSampling2D, Conv2D, Conv2DTranspose\n",
    "from tensorflow.keras.models import Sequential, Model, load_model\n",
    "from tensorflow.keras.optimizers import Adam\n"
   ]
  },
  {
   "cell_type": "markdown",
   "metadata": {
    "id": "Hyj5dj_eui9D"
   },
   "source": [
    "First, we define a function to load the mnist dataset."
   ]
  },
  {
   "cell_type": "code",
   "execution_count": 2,
   "metadata": {
    "id": "4YPLKlPrufSk"
   },
   "outputs": [],
   "source": [
    "def load_data():\n",
    "  (X_train, Y_train_scalar), (X_test, Y_test_scalar) = mnist.load_data()\n",
    "\n",
    "  n_max = 10000\n",
    "  X_train = X_train[0:n_max,:,:]\n",
    "  X_test = X_test[0:n_max,:,:]\n",
    "  Y_train_scalar = Y_train_scalar[0:n_max]\n",
    "  Y_test_scalar = Y_test_scalar[0:n_max]\n",
    "\n",
    "  # normalise images between 0 and 1\n",
    "  X_train = X_train/255.0\n",
    "  X_test = X_test/255.0\n",
    "  #add a channel dimension, if need be (for mnist data)\n",
    "  if(X_train.ndim ==3):\n",
    "    X_train = np.expand_dims(X_train, axis=3)\n",
    "    X_test = np.expand_dims(X_test, axis=3)\n",
    "  return X_train,X_test"
   ]
  },
  {
   "cell_type": "markdown",
   "metadata": {
    "id": "t-bkK4ktwfvC"
   },
   "source": [
    "Now, we define the general parameters of the autoencoder"
   ]
  },
  {
   "cell_type": "code",
   "execution_count": 3,
   "metadata": {
    "id": "mD56EDzbvUxq"
   },
   "outputs": [],
   "source": [
    "X_train,X_test = load_data()\n",
    "\n",
    "# autoencoder parameters\n",
    "optimizer = Adam(0.01, 0.5) #\n",
    "img_rows = X_train.shape[1]\n",
    "img_cols = X_train.shape[2]\n",
    "img_channels = X_train.shape[3]\n",
    "img_size = X_train.shape[1] * X_train.shape[2] * X_train.shape[3]\n",
    "img_shape = (img_rows, img_cols, img_channels)\n",
    "z_dim = 10\n",
    "batch_size = 64\n",
    "n_epochs = 40"
   ]
  },
  {
   "cell_type": "markdown",
   "metadata": {
    "id": "6jLa2-jQwxSI"
   },
   "source": [
    "Now, define the autoencoder architecture. In the first part, we will use the following MLP architecture :\n",
    "\n",
    "Encoder :\n",
    "- Flatten input\n",
    "- Dense layer, output size z_dim\n",
    "- Leaky ReLU, with $\\alpha=0.2$\n",
    "\n",
    "Decoder :\n",
    "- Dense layer, output size 784\n",
    "- Sigmoid Activation\n",
    "- Reshape, to size $28\\times 28\\times 1$\n",
    "\n",
    "For the Reshape operation, use a ```Reshape``` layer"
   ]
  },
  {
   "cell_type": "code",
   "execution_count": 4,
   "metadata": {
    "id": "5fKIM5x0pxXR"
   },
   "outputs": [],
   "source": [
    "n_pixels = img_rows*img_cols*img_channels\n",
    "\n",
    "ae_model = Sequential([Flatten(),\n",
    "                       Dense(z_dim),\n",
    "                       LeakyReLU(alpha=0.2),\n",
    "                    \n",
    "                       Dense(784),\n",
    "                       Activation(\"sigmoid\"),\n",
    "                       Reshape(img_shape)])\n",
    "\n",
    "#BEGIN FILL IN CODE\n",
    "#END FILL IN CODE"
   ]
  },
  {
   "cell_type": "markdown",
   "metadata": {
    "id": "-659aM36xvXX"
   },
   "source": [
    "Now, display the model (summary) and compile it. Use the binary cross-entropy loss, since we are in the case of MNIST."
   ]
  },
  {
   "cell_type": "code",
   "execution_count": 8,
   "metadata": {
    "id": "wfqX6Brlxjyi"
   },
   "outputs": [
    {
     "name": "stdout",
     "output_type": "stream",
     "text": [
      "Model: \"sequential\"\n",
      "_________________________________________________________________\n",
      "Layer (type)                 Output Shape              Param #   \n",
      "=================================================================\n",
      "flatten (Flatten)            (None, 784)               0         \n",
      "_________________________________________________________________\n",
      "dense (Dense)                (None, 10)                7850      \n",
      "_________________________________________________________________\n",
      "leaky_re_lu (LeakyReLU)      (None, 10)                0         \n",
      "_________________________________________________________________\n",
      "dense_1 (Dense)              (None, 784)               8624      \n",
      "_________________________________________________________________\n",
      "activation (Activation)      (None, 784)               0         \n",
      "_________________________________________________________________\n",
      "reshape (Reshape)            (None, 28, 28, 1)         0         \n",
      "=================================================================\n",
      "Total params: 16,474\n",
      "Trainable params: 16,474\n",
      "Non-trainable params: 0\n",
      "_________________________________________________________________\n"
     ]
    }
   ],
   "source": [
    "# Build and compile the discriminator\n",
    "# BEGIN FILL IN CODE\n",
    "\n",
    "\n",
    "ae_model.compile(loss='binary_crossentropy', optimizer=optimizer, metrics=[\"accuracy\"])\n",
    "ae_model.summary()\n",
    "# END FILL IN CODE"
   ]
  },
  {
   "cell_type": "markdown",
   "metadata": {
    "id": "w3EbmswSzJdK"
   },
   "source": [
    "We define a function to carry out testing on the autoencoder model"
   ]
  },
  {
   "cell_type": "code",
   "execution_count": 6,
   "metadata": {
    "id": "T8jXjdRyzMy2"
   },
   "outputs": [],
   "source": [
    "\t\n",
    "def test_images(ae_model, test_data):\n",
    "  n_images = 5\n",
    "  idx = np.random.randint(0, test_data.shape[0], n_images)\n",
    "  test_imgs = test_data[idx,:,:,:]\n",
    "\n",
    "  #get output images\n",
    "  output_imgs = ae_model.predict( test_imgs )\n",
    "  \n",
    "  r = 2\n",
    "  c = n_images\n",
    "  fig, axs = plt.subplots(r, c)\n",
    "  for j in range(c):\n",
    "    #black and white images\n",
    "    axs[0,j].imshow(test_imgs[j, :,:,0], cmap='gray')\n",
    "    axs[0,j].axis('off')\n",
    "    axs[1,j].imshow(output_imgs[j, :,:,0], cmap='gray')\n",
    "    axs[1,j].axis('off')\n",
    "  plt.show()"
   ]
  },
  {
   "cell_type": "markdown",
   "metadata": {
    "id": "zO9ATQEiyr3b"
   },
   "source": [
    "### Train the model\n",
    "\n",
    "Now, train the model on the mnist dataset."
   ]
  },
  {
   "cell_type": "code",
   "execution_count": 9,
   "metadata": {
    "id": "sUXHCtvW2iQ0"
   },
   "outputs": [
    {
     "name": "stdout",
     "output_type": "stream",
     "text": [
      "Epoch 1/40\n",
      "157/157 [==============================] - 1s 2ms/step - loss: 0.1503 - accuracy: 0.8050\n",
      "Epoch 2/40\n",
      "157/157 [==============================] - 0s 1ms/step - loss: 0.1499 - accuracy: 0.8051\n",
      "Epoch 3/40\n",
      "157/157 [==============================] - 0s 2ms/step - loss: 0.1490 - accuracy: 0.8056\n",
      "Epoch 4/40\n",
      "157/157 [==============================] - 0s 1ms/step - loss: 0.1500 - accuracy: 0.8044\n",
      "Epoch 5/40\n",
      "157/157 [==============================] - 0s 2ms/step - loss: 0.1501 - accuracy: 0.8046\n",
      "Epoch 6/40\n",
      "157/157 [==============================] - 0s 1ms/step - loss: 0.1494 - accuracy: 0.8055\n",
      "Epoch 7/40\n",
      "157/157 [==============================] - 0s 2ms/step - loss: 0.1501 - accuracy: 0.8049\n",
      "Epoch 8/40\n",
      "157/157 [==============================] - 0s 1ms/step - loss: 0.1493 - accuracy: 0.8052\n",
      "Epoch 9/40\n",
      "157/157 [==============================] - 0s 2ms/step - loss: 0.1502 - accuracy: 0.8050\n",
      "Epoch 10/40\n",
      "157/157 [==============================] - 0s 2ms/step - loss: 0.1498 - accuracy: 0.8055\n",
      "Epoch 11/40\n",
      "157/157 [==============================] - 0s 1ms/step - loss: 0.1504 - accuracy: 0.8053\n",
      "Epoch 12/40\n",
      "157/157 [==============================] - 0s 2ms/step - loss: 0.1507 - accuracy: 0.8034\n",
      "Epoch 13/40\n",
      "157/157 [==============================] - 0s 1ms/step - loss: 0.1489 - accuracy: 0.8054\n",
      "Epoch 14/40\n",
      "157/157 [==============================] - 0s 2ms/step - loss: 0.1494 - accuracy: 0.8057\n",
      "Epoch 15/40\n",
      "157/157 [==============================] - 0s 2ms/step - loss: 0.1498 - accuracy: 0.8051\n",
      "Epoch 16/40\n",
      "157/157 [==============================] - 0s 2ms/step - loss: 0.1503 - accuracy: 0.8051\n",
      "Epoch 17/40\n",
      "157/157 [==============================] - 0s 2ms/step - loss: 0.1501 - accuracy: 0.8058\n",
      "Epoch 18/40\n",
      "157/157 [==============================] - 0s 2ms/step - loss: 0.1505 - accuracy: 0.8039\n",
      "Epoch 19/40\n",
      "157/157 [==============================] - 0s 2ms/step - loss: 0.1509 - accuracy: 0.8037\n",
      "Epoch 20/40\n",
      "157/157 [==============================] - 0s 2ms/step - loss: 0.1496 - accuracy: 0.8051\n",
      "Epoch 21/40\n",
      "157/157 [==============================] - 0s 2ms/step - loss: 0.1485 - accuracy: 0.8063\n",
      "Epoch 22/40\n",
      "157/157 [==============================] - 0s 2ms/step - loss: 0.1496 - accuracy: 0.8048\n",
      "Epoch 23/40\n",
      "157/157 [==============================] - 0s 1ms/step - loss: 0.1497 - accuracy: 0.8039\n",
      "Epoch 24/40\n",
      "157/157 [==============================] - 0s 2ms/step - loss: 0.1493 - accuracy: 0.8049\n",
      "Epoch 25/40\n",
      "157/157 [==============================] - 0s 1ms/step - loss: 0.1498 - accuracy: 0.8047\n",
      "Epoch 26/40\n",
      "157/157 [==============================] - 0s 2ms/step - loss: 0.1498 - accuracy: 0.8053\n",
      "Epoch 27/40\n",
      "157/157 [==============================] - 0s 2ms/step - loss: 0.1497 - accuracy: 0.8050\n",
      "Epoch 28/40\n",
      "157/157 [==============================] - 0s 3ms/step - loss: 0.1496 - accuracy: 0.8052\n",
      "Epoch 29/40\n",
      "157/157 [==============================] - 1s 4ms/step - loss: 0.1500 - accuracy: 0.8050\n",
      "Epoch 30/40\n",
      "157/157 [==============================] - 1s 4ms/step - loss: 0.1496 - accuracy: 0.8055\n",
      "Epoch 31/40\n",
      "157/157 [==============================] - 1s 4ms/step - loss: 0.1491 - accuracy: 0.8056\n",
      "Epoch 32/40\n",
      "157/157 [==============================] - 0s 2ms/step - loss: 0.1498 - accuracy: 0.8052\n",
      "Epoch 33/40\n",
      "157/157 [==============================] - 0s 1ms/step - loss: 0.1490 - accuracy: 0.8056\n",
      "Epoch 34/40\n",
      "157/157 [==============================] - 0s 2ms/step - loss: 0.1495 - accuracy: 0.8050\n",
      "Epoch 35/40\n",
      "157/157 [==============================] - 0s 1ms/step - loss: 0.1495 - accuracy: 0.8050\n",
      "Epoch 36/40\n",
      "157/157 [==============================] - 0s 2ms/step - loss: 0.1498 - accuracy: 0.8049\n",
      "Epoch 37/40\n",
      "157/157 [==============================] - 0s 2ms/step - loss: 0.1492 - accuracy: 0.8056\n",
      "Epoch 38/40\n",
      "157/157 [==============================] - 0s 2ms/step - loss: 0.1495 - accuracy: 0.8052\n",
      "Epoch 39/40\n",
      "157/157 [==============================] - 0s 2ms/step - loss: 0.1495 - accuracy: 0.8045\n",
      "Epoch 40/40\n",
      "157/157 [==============================] - 0s 2ms/step - loss: 0.1497 - accuracy: 0.8044\n"
     ]
    },
    {
     "data": {
      "image/png": "[encoded data removed]",
      "text/plain": [
       "<Figure size 432x288 with 10 Axes>"
      ]
     },
     "metadata": {
      "needs_background": "light"
     },
     "output_type": "display_data"
    }
   ],
   "source": [
    "# BEGIN FILL IN CODE\n",
    "ae_model.fit(X_train, X_train, epochs=n_epochs, batch_size=batch_size)\n",
    "# END FILL IN CODE\n",
    "test_images(ae_model, X_test)"
   ]
  },
  {
   "cell_type": "markdown",
   "metadata": {
    "id": "ktuGdSig5qC7"
   },
   "source": [
    "## Convolutional model\n",
    "\n",
    "Now, we are going to implement a convolutional architecture (with two dense layers in the middle) and compare the results. Implement the following architecture :\n",
    "\n",
    "Encoder :\n",
    "- 2D convolution, filter size $3\\times3$, 8 filters, stride=(2,2), padding=\"SAME\"\n",
    "- LeakyReLU ($\\alpha=0.2$)\n",
    "- 2D convolution, filter size $3\\times3$, 4 filters, stride=(2,2), padding=\"SAME\"\n",
    "- LeakyReLU ($\\alpha=0.2$)\n",
    "- Flatten tensor\n",
    "- Dense layer, output size z_dim\n",
    "\n",
    "Decoder :\n",
    "- Dense layer, output size 196\n",
    "- LeakyReLU ($\\alpha=0.2$)\n",
    "- Reshape $(7\\times7\\times 4)$\n",
    "- 2D transposed convolution, filter size $3\\times3$, 8 filters, stride=(2,2), padding=\"SAME\"\n",
    "- LeakyReLU ($\\alpha=0.2$)\n",
    "- 2D transposed convolution, filter size $3\\times3$, 1 filter, stride=(2,2), padding=\"SAME\"\n",
    "- Sigmoid activation\n",
    "\n",
    "The sizes of the tensors in the encoder and the decoder should be :\n",
    "- $28 \\times 28 \\times 1$ -> $14 \\times 14 \\times 8$ -> $7 \\times 7 \\times 4$ -> z_dim\n",
    "- z_dim -> $7 \\times 7 \\times 4$ -> $14 \\times 14 \\times 8$ -> $28 \\times 28 \\times 1$\n",
    "\n",
    "Use the previous code as an example, and implement and train the architecture."
   ]
  },
  {
   "cell_type": "code",
   "execution_count": 10,
   "metadata": {
    "id": "uWuikdCrvZ1V",
    "scrolled": false
   },
   "outputs": [
    {
     "name": "stdout",
     "output_type": "stream",
     "text": [
      "Epoch 1/40\n",
      "157/157 [==============================] - 2s 6ms/step - loss: 1.2555 - accuracy: 0.7650\n",
      "Epoch 2/40\n",
      "157/157 [==============================] - 1s 6ms/step - loss: 0.2330 - accuracy: 0.7954\n",
      "Epoch 3/40\n",
      "157/157 [==============================] - 1s 5ms/step - loss: 0.2078 - accuracy: 0.7949\n",
      "Epoch 4/40\n",
      "157/157 [==============================] - 1s 6ms/step - loss: 0.1848 - accuracy: 0.7982\n",
      "Epoch 5/40\n",
      "157/157 [==============================] - 1s 6ms/step - loss: 0.1748 - accuracy: 0.7994\n",
      "Epoch 6/40\n",
      "157/157 [==============================] - 1s 6ms/step - loss: 0.1687 - accuracy: 0.8014\n",
      "Epoch 7/40\n",
      "157/157 [==============================] - 1s 6ms/step - loss: 0.1649 - accuracy: 0.8017\n",
      "Epoch 8/40\n",
      "157/157 [==============================] - 1s 6ms/step - loss: 0.1610 - accuracy: 0.8024\n",
      "Epoch 9/40\n",
      "157/157 [==============================] - 1s 6ms/step - loss: 0.1590 - accuracy: 0.8036\n",
      "Epoch 10/40\n",
      "157/157 [==============================] - 1s 6ms/step - loss: 0.1567 - accuracy: 0.8025\n",
      "Epoch 11/40\n",
      "157/157 [==============================] - 1s 6ms/step - loss: 0.1534 - accuracy: 0.8037\n",
      "Epoch 12/40\n",
      "157/157 [==============================] - 1s 6ms/step - loss: 0.1528 - accuracy: 0.8022\n",
      "Epoch 13/40\n",
      "157/157 [==============================] - 1s 6ms/step - loss: 0.1512 - accuracy: 0.8034\n",
      "Epoch 14/40\n",
      "157/157 [==============================] - 1s 7ms/step - loss: 0.1510 - accuracy: 0.8041\n",
      "Epoch 15/40\n",
      "157/157 [==============================] - 1s 6ms/step - loss: 0.1497 - accuracy: 0.8037\n",
      "Epoch 16/40\n",
      "157/157 [==============================] - 1s 6ms/step - loss: 0.1476 - accuracy: 0.8043\n",
      "Epoch 17/40\n",
      "157/157 [==============================] - 1s 5ms/step - loss: 0.1472 - accuracy: 0.8040\n",
      "Epoch 18/40\n",
      "157/157 [==============================] - 1s 6ms/step - loss: 0.1449 - accuracy: 0.8047\n",
      "Epoch 19/40\n",
      "157/157 [==============================] - 1s 8ms/step - loss: 0.1442 - accuracy: 0.8051\n",
      "Epoch 20/40\n",
      "157/157 [==============================] - 1s 8ms/step - loss: 0.1437 - accuracy: 0.8051\n",
      "Epoch 21/40\n",
      "157/157 [==============================] - 1s 7ms/step - loss: 0.1425 - accuracy: 0.8061\n",
      "Epoch 22/40\n",
      "157/157 [==============================] - 1s 8ms/step - loss: 0.1430 - accuracy: 0.8054\n",
      "Epoch 23/40\n",
      "157/157 [==============================] - 1s 8ms/step - loss: 0.1425 - accuracy: 0.8047\n",
      "Epoch 24/40\n",
      "157/157 [==============================] - 1s 8ms/step - loss: 0.1411 - accuracy: 0.8048\n",
      "Epoch 25/40\n",
      "157/157 [==============================] - 1s 7ms/step - loss: 0.1399 - accuracy: 0.8056\n",
      "Epoch 26/40\n",
      "157/157 [==============================] - 1s 7ms/step - loss: 0.1411 - accuracy: 0.8051\n",
      "Epoch 27/40\n",
      "157/157 [==============================] - 2s 10ms/step - loss: 0.1397 - accuracy: 0.8065\n",
      "Epoch 28/40\n",
      "157/157 [==============================] - 1s 6ms/step - loss: 0.1387 - accuracy: 0.8059\n",
      "Epoch 29/40\n",
      "157/157 [==============================] - 1s 10ms/step - loss: 0.1382 - accuracy: 0.8063\n",
      "Epoch 30/40\n",
      "157/157 [==============================] - 1s 8ms/step - loss: 0.1385 - accuracy: 0.8052\n",
      "Epoch 31/40\n",
      "157/157 [==============================] - 1s 8ms/step - loss: 0.1375 - accuracy: 0.8059\n",
      "Epoch 32/40\n",
      "157/157 [==============================] - 1s 8ms/step - loss: 0.1386 - accuracy: 0.8049\n",
      "Epoch 33/40\n",
      "157/157 [==============================] - 1s 6ms/step - loss: 0.1379 - accuracy: 0.8054\n",
      "Epoch 34/40\n",
      "157/157 [==============================] - 1s 6ms/step - loss: 0.1379 - accuracy: 0.8055\n",
      "Epoch 35/40\n",
      "157/157 [==============================] - 1s 6ms/step - loss: 0.1368 - accuracy: 0.8055\n",
      "Epoch 36/40\n",
      "157/157 [==============================] - 1s 7ms/step - loss: 0.1376 - accuracy: 0.8062\n",
      "Epoch 37/40\n",
      "157/157 [==============================] - 1s 8ms/step - loss: 0.1364 - accuracy: 0.8061\n",
      "Epoch 38/40\n",
      "157/157 [==============================] - 1s 8ms/step - loss: 0.1368 - accuracy: 0.8054\n",
      "Epoch 39/40\n",
      "157/157 [==============================] - 1s 7ms/step - loss: 0.1372 - accuracy: 0.8057\n",
      "Epoch 40/40\n",
      "157/157 [==============================] - 1s 8ms/step - loss: 0.1364 - accuracy: 0.8053\n",
      "Model: \"sequential_1\"\n",
      "_________________________________________________________________\n",
      "Layer (type)                 Output Shape              Param #   \n",
      "=================================================================\n",
      "conv2d (Conv2D)              (None, 14, 14, 8)         80        \n",
      "_________________________________________________________________\n",
      "leaky_re_lu_1 (LeakyReLU)    (None, 14, 14, 8)         0         \n",
      "_________________________________________________________________\n",
      "conv2d_1 (Conv2D)            (None, 7, 7, 4)           292       \n",
      "_________________________________________________________________\n",
      "leaky_re_lu_2 (LeakyReLU)    (None, 7, 7, 4)           0         \n",
      "_________________________________________________________________\n",
      "flatten_1 (Flatten)          (None, 196)               0         \n",
      "_________________________________________________________________\n",
      "dense_2 (Dense)              (None, 10)                1970      \n",
      "_________________________________________________________________\n",
      "dense_3 (Dense)              (None, 196)               2156      \n",
      "_________________________________________________________________\n",
      "leaky_re_lu_3 (LeakyReLU)    (None, 196)               0         \n",
      "_________________________________________________________________\n",
      "reshape_1 (Reshape)          (None, 7, 7, 4)           0         \n",
      "_________________________________________________________________\n",
      "conv2d_transpose (Conv2DTran (None, 14, 14, 8)         296       \n",
      "_________________________________________________________________\n",
      "leaky_re_lu_4 (LeakyReLU)    (None, 14, 14, 8)         0         \n",
      "_________________________________________________________________\n",
      "conv2d_transpose_1 (Conv2DTr (None, 28, 28, 1)         73        \n",
      "_________________________________________________________________\n",
      "activation_1 (Activation)    (None, 28, 28, 1)         0         \n",
      "=================================================================\n",
      "Total params: 4,867\n",
      "Trainable params: 4,867\n",
      "Non-trainable params: 0\n",
      "_________________________________________________________________\n"
     ]
    },
    {
     "data": {
      "image/png": "[encoded data removed]",
      "text/plain": [
       "<Figure size 432x288 with 10 Axes>"
      ]
     },
     "metadata": {
      "needs_background": "light"
     },
     "output_type": "display_data"
    }
   ],
   "source": [
    "\n",
    "#BEGIN FILL IN CODE\n",
    "ae2_model = Sequential([Conv2D(filters=8, kernel_size=(3,3), strides=(2, 2), padding='same'),\n",
    "                       LeakyReLU(alpha=0.2),\n",
    "                       Conv2D(filters=4, kernel_size=(3,3), strides=(2, 2), padding='same'),\n",
    "                       LeakyReLU(alpha=0.2),\n",
    "                       Flatten(),\n",
    "                       Dense(z_dim),\n",
    "                       \n",
    "                       Dense(196),\n",
    "                       LeakyReLU(alpha=0.2),\n",
    "                       Reshape((7,7,4)),\n",
    "                       Conv2DTranspose(filters=8, kernel_size=(3,3), strides=(2, 2), padding='same'),\n",
    "                       LeakyReLU(alpha=0.2),\n",
    "                       Conv2DTranspose(filters=1, kernel_size=(3,3), strides=(2, 2), padding='same'),\n",
    "                       Activation(\"sigmoid\")])\n",
    "\n",
    "\n",
    "ae2_model.compile(loss='binary_crossentropy', optimizer=optimizer, metrics=[\"accuracy\"])\n",
    "ae2_model.fit(X_train, X_train, epochs=n_epochs, batch_size=batch_size)\n",
    "ae2_model.summary()\n",
    "test_images(ae2_model, X_test)\n",
    "#END FILL IN CODE\n",
    "\n"
   ]
  },
  {
   "cell_type": "markdown",
   "metadata": {
    "id": "WWs6uhIa-hko"
   },
   "source": [
    "Are the performances better with this model ? Compare the number of parameters in the MLP and convolutional case"
   ]
  },
  {
   "cell_type": "markdown",
   "metadata": {},
   "source": [
    "Les performances ne sont pas meilleures, elle ses ressemblent. Cependant le nombre de paramètres pour le reseau convolutionnel est 4x moins important. Ainsi pour 4x moins de paramètres on arrive à avoir un résultat qui ressemble au MLP. "
   ]
  },
  {
   "cell_type": "markdown",
   "metadata": {
    "id": "o5TmOfau_dhZ"
   },
   "source": [
    "## Denoising autoencoder\n",
    "\n",
    "In this part, we take the previous architecture, but now we implement a __denoising__ autoencoder. For this, we simply add Gaussian noise to the input during training, and require the autoencoder to reconstruct the non-noisy ground truth. You can do add the noise using the following function :\n",
    "- np.random.normal(loc=0.0, scale=1.0, size=curr_batch.shape)\n",
    "\n",
    "First, we modify the ```test_images``` function to take into account a noisy input."
   ]
  },
  {
   "cell_type": "code",
   "execution_count": 11,
   "metadata": {
    "id": "o6iYCO0S_5I_"
   },
   "outputs": [],
   "source": [
    "\n",
    "def test_images(ae_model, test_data, sigma):\n",
    "  n_images = 5\n",
    "  idx = np.random.randint(0, test_data.shape[0], n_images)\n",
    "  test_imgs = test_data[idx,:,:,:]\n",
    "\n",
    "  #get output images\n",
    "  test_imgs = np.clip(test_imgs + sigma * np.random.normal(loc=0.0, scale=1.0, size=test_imgs.shape),0.,1.)\n",
    "  output_imgs = ae_model.predict( test_imgs )\n",
    "  \n",
    "  r = 2\n",
    "  c = n_images\n",
    "  fig, axs = plt.subplots(r, c)\n",
    "  for j in range(c):\n",
    "    #black and white images\n",
    "    axs[0,j].imshow(test_imgs[j, :,:,0], cmap='gray')\n",
    "    axs[0,j].axis('off')\n",
    "    axs[1,j].imshow(output_imgs[j, :,:,0], cmap='gray')\n",
    "    axs[1,j].axis('off')\n",
    "  plt.show()"
   ]
  },
  {
   "cell_type": "markdown",
   "metadata": {
    "id": "nbRhMZv6_5y4"
   },
   "source": [
    "Now, use the previous codes to implement the denoising autoencoder. Use either the MLP architecture or the convolutional architecture.\n",
    "\n",
    "__IMPORTANT NOTE__ For this part of the TP, you will have to use a custom training process (to add the noise to a batch). For this, you can use the following function :\n",
    "\n",
    "- loss_value = ae_model.train_on_batch(X,Y)\n",
    "\n",
    "This allows you to create a custom batch. X should be the noisy batch, and Y should be the non-noisy batch\n",
    "\n",
    "In this case, to simplify things, __do not worry about carrying out the complete batch over the database__, simply iterate n_iters times, and select a random batch at each iteration. To select a random set (of size batch_size) of integers between 0 and X_train.shape, use :\n",
    "\n",
    "- np.random.randint(0, X_train.shape[0], batch_size)\n",
    "\n",
    "Use sigma = 25.0/255.0"
   ]
  },
  {
   "cell_type": "code",
   "execution_count": 14,
   "metadata": {
    "id": "MUU7ky7D_bV7"
   },
   "outputs": [
    {
     "name": "stdout",
     "output_type": "stream",
     "text": [
      "[0.13588422536849976, 0.8061190247535706]\n",
      "[0.14003042876720428, 0.8106864094734192]\n",
      "[0.14370448887348175, 0.7961575388908386]\n",
      "[0.14564821124076843, 0.792988657951355]\n",
      "[0.13519541919231415, 0.8039700388908386]\n",
      "[0.1433061808347702, 0.7916334271430969]\n",
      "[0.13276511430740356, 0.8072983026504517]\n",
      "[0.13186964392662048, 0.8154894709587097]\n",
      "[0.1265157014131546, 0.8143534660339355]\n",
      "[0.13474604487419128, 0.8067402839660645]\n"
     ]
    }
   ],
   "source": [
    "\n",
    "sigma = 25.0/255.0\n",
    "n_iters = 1000\n",
    "display_loss_step = 100\n",
    "\n",
    "#BEGIN FILL IN CODE\n",
    "for i in range(n_iters):\n",
    "    index = np.random.randint(0, X_train.shape[0], batch_size)\n",
    "    X = X_train[index]\n",
    "    Y = np.clip(X + sigma * np.random.normal(loc=0.0, scale=1.0, size=X.shape),0.,1.)\n",
    "    loss_value = ae2_model.train_on_batch(Y, X)\n",
    "    if i%100==0:\n",
    "        print(loss_value)\n",
    "\n",
    "# END FILL IN CODE"
   ]
  },
  {
   "cell_type": "code",
   "execution_count": 15,
   "metadata": {},
   "outputs": [
    {
     "data": {
      "image/png": "[encoded data removed]",
      "text/plain": [
       "<Figure size 432x288 with 10 Axes>"
      ]
     },
     "metadata": {
      "needs_background": "light"
     },
     "output_type": "display_data"
    }
   ],
   "source": [
    "test_images(ae2_model, X_test, sigma)"
   ]
  },
  {
   "cell_type": "markdown",
   "metadata": {},
   "source": [
    "On peut voir que le bruit a disparu mais que les lettres ne sont pas totalement reconsitutées. Cela est dû au fait que de initialement notre prmier model avait une accuracy de 0.8 seulement et donnait des résultats similaires à ce qu'on a ici (des lettres un peu floues). On comparant les résultats avec le prmier modèle, on peut dire que le denoising encoder fonctionne bien "
   ]
  },
  {
   "cell_type": "code",
   "execution_count": null,
   "metadata": {},
   "outputs": [],
   "source": []
  }
 ],
 "metadata": {
  "accelerator": "GPU",
  "colab": {
   "collapsed_sections": [],
   "name": "tp_ima_206_ae_for_students.ipynb",
   "provenance": []
  },
  "kernelspec": {
   "display_name": "Python 3",
   "language": "python",
   "name": "python3"
  },
  "language_info": {
   "codemirror_mode": {
    "name": "ipython",
    "version": 3
   },
   "file_extension": ".py",
   "mimetype": "text/x-python",
   "name": "python",
   "nbconvert_exporter": "python",
   "pygments_lexer": "ipython3",
   "version": "3.8.3"
  }
 },
 "nbformat": 4,
 "nbformat_minor": 1
}
