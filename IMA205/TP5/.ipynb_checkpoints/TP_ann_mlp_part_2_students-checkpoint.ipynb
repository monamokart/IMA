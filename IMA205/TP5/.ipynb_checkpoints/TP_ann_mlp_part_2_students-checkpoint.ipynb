{
 "cells": [
  {
   "cell_type": "markdown",
   "metadata": {
    "id": "RIjFqlgERHAq"
   },
   "source": [
    "# IMA-205\n",
    "# TP ANN (part B) 2021/03/29\n",
    "\n",
    "## Coding a Multi-Layer Perceptron with Tensorflow\n",
    "Author : Alasdair Newson"
   ]
  },
  {
   "cell_type": "markdown",
   "metadata": {
    "id": "oG_lwX5GRHAs"
   },
   "source": [
    "In the second part of this TP, we will be looking at the Multi-Layer Perceptron (MLP) using Tensorflow (http://www.tensorflow.org)\n",
    "\n",
    "We will be using the following packages :\n",
    "   \n",
    "   - Scikit-learn (http://scikit-learn.org/)\n",
    "   - Tensorflow (http://www.tensorflow.org)\n",
    "\n",
    "The following commands will make sure that you have all the necessary packages"
   ]
  },
  {
   "cell_type": "code",
   "execution_count": 5,
   "metadata": {
    "id": "sCGFw05kRHAs"
   },
   "outputs": [
    {
     "name": "stdout",
     "output_type": "stream",
     "text": [
      "2.4.0\n"
     ]
    }
   ],
   "source": [
    "%matplotlib inline                      \n",
    "\n",
    "import numpy as np\n",
    "import matplotlib.pyplot as plt\n",
    "import os\n",
    "import pdb\n",
    "\n",
    "import sklearn  # scikit-learn\n",
    "import tensorflow as tf\n",
    "\n",
    "# import tensorflow models\n",
    "from tensorflow.keras.models import Sequential, Model\n",
    "from tensorflow.keras.layers import Dense, Dropout, Activation, Flatten, Input\n",
    "from tensorflow.keras.layers import Conv2D, MaxPooling2D\n",
    "from tensorflow.keras import optimizers\n",
    "print(tf.keras.__version__)"
   ]
  },
  {
   "cell_type": "markdown",
   "metadata": {
    "id": "dxgAcMrMRHAt"
   },
   "source": [
    "# 1 - Multi-Layer Perceptron with Tensorflow"
   ]
  },
  {
   "cell_type": "markdown",
   "metadata": {
    "id": "OjK-B5mkRHAt"
   },
   "source": [
    "## Introduction to TensorFlow"
   ]
  },
  {
   "cell_type": "markdown",
   "metadata": {
    "id": "gzVmdesCRHAu"
   },
   "source": [
    "Tensorflow is an environment written by Google which allows easy implementation of deep neural networks. In particular, it provides automatic differentiation so that the user does not have to determine gradients manually, which can be extremely long even for simple networks, as you have seen in the previous TP*.\n",
    "\n",
    "This, in turn allows a user to apply techniques such as stochastic gradient descent for training purposes. The differentiation graph is created symbolically when the network is created. Since a neural network is simply a cascade (or concatenation) of simple functions, the network in Tensorflow is simply a sequence of functions which are applied to one or several variables. The output of the final function is the output of the network.\n",
    "\n",
    "For instance, if the input were ```x``` and the network consisted of two functions ```a``` and ```b```, you could create the network simply by writing :\n",
    "\n",
    "```y = b(a(x))```\n",
    "\n",
    "However, it is clear that these functions and variables must be of some special type, so that the computer can figure out how to carry out the automatic differentiation for training. Tensorflow provides these functions and variables, which must be created with the Tensorflow package.\n",
    "\n",
    "Previously, Tensorflow required a strict separation between the creation (declaration) of variables and their execution (giving a numerical value, using the ```Session``` function). With Keras and Tensorflow 2, this separation has been removed, and the language has become simpler, in particular for creating and training networks.\n",
    "\n",
    "## Creating a network\n",
    "\n",
    "To create a network, there are two (main) methods :\n",
    "\n",
    "### Creating a model using the Sequential API\n",
    "\n",
    "Tensorflow has a simple way of adding layers to create a neural network. First, you can indicate to Tensorflow that the model is 'sequential' (a simple model, with not many tweaks). For this, you can use the following function :\n",
    "- ```model = Sequential()```\n",
    "\n",
    "After this, you can add layers with the function.\n",
    "\n",
    "- ```model.add()```\n",
    "\n",
    "You can then use the ```Dense``` (and other) functions to specify different layer types.  __Note that in the case of this approach, you will have to specify the input image size in the first layer of the network, inside the first layer function.__ So, for example, if the first layer is a dense layer with a relu activation, with n_out output neurons, and n_input neurons :\n",
    "\n",
    "- model = Sequential()\n",
    "- model.add(Dense(n_out,activation,input_shape=(n_in,),activation='relu'))\n",
    "\n",
    "Otherwise, the network does not know how many weights to create. __Be careful of this special case (the first layer)__ \n",
    "\n",
    "### Creating a model using the standard API\n",
    "\n",
    "Otherwise, another approach to creating the model is to explicitly create the input variable, and just cascade the different functions, as in Tensorflow. So, for the same example, we would have :\n",
    "\n",
    "- input = Input(shape=(n_in,))\n",
    "- output = Dense(n_in,n_out,activation='relu')(input)\n",
    "- model = Model(input, output)\n",
    "\n",
    "\n",
    "For now, let's use the Sequential API (however, if you want to try the standard API, go ahead).\n",
    "\n",
    "## Training and testing a network\n",
    "\n",
    "Tensorflow allows the easy training of a network with the following functions :\n",
    "\n",
    "- model.compile(loss='binary_crossentropy', optimizer=optimizers.Adam(lr=learning_rate)) : create the loss function and define the optimiser used. This function can do many other useful things (such as specifying different metrics to look at the model's performance\n",
    "\n",
    "- model.fit(...) : train the model\n",
    "- model.evaluate(...) : test the model\n",
    "- model.predict(...) : carry out a simple forward pass on the model\n",
    "\n",
    "Please look at the Tensorflow documenation for further details on these functions.\n"
   ]
  },
  {
   "cell_type": "markdown",
   "metadata": {
    "id": "UYFxzt5mRHAy"
   },
   "source": [
    "# MLP with TensorFlow\n",
    "\n",
    "We are now going to create an MLP with tensorflow. We will start with an MLP with one hidden layer. The network should consist of the following operations, in the following order :\n",
    "\n",
    "- Fully connected layer, with weights w1 and biases b1\n",
    "- ReLU activation\n",
    "- Fully connected layer, with weights w2 and biases b2\n",
    "- Sigmoid output activation\n",
    "\n",
    "We are going to be solving a binary classification \n",
    "problem, so the output of the network should be a scalar between 0 and 1 (thus the last layer is a Sigmoid activation).\n",
    "\n",
    "The loss function should be defined as the binary cross-entropy between the predicted class and the true class\n"
   ]
  },
  {
   "cell_type": "markdown",
   "metadata": {
    "id": "jdGVzE6NRHAy"
   },
   "source": [
    "First, we load the data."
   ]
  },
  {
   "cell_type": "code",
   "execution_count": 2,
   "metadata": {
    "id": "EfiJwuLmRHAy"
   },
   "outputs": [
    {
     "data": {
      "image/png": "[encoded data removed]",
      "text/plain": [
       "<Figure size 432x288 with 1 Axes>"
      ]
     },
     "metadata": {
      "needs_background": "light"
     },
     "output_type": "display_data"
    }
   ],
   "source": [
    "from sklearn import datasets\n",
    "from sklearn.preprocessing import MinMaxScaler\n",
    "from sklearn.model_selection import train_test_split\n",
    "\n",
    "X, Y = datasets.make_circles(n_samples=1000, noise=0.05, factor=0.5)\n",
    "# X, y = datasets.make_moons(n_samples=1000, random_state=42)  # try with 2 moons\n",
    "X = MinMaxScaler().fit_transform(X)\n",
    "\n",
    "#show data in plot\n",
    "plt.plot(X[Y == 1, 0], X[Y == 1, 1], 'ro')\n",
    "plt.plot(X[Y == 0, 0], X[Y == 0, 1], 'bo')\n",
    "plt.grid('on')"
   ]
  },
  {
   "cell_type": "markdown",
   "metadata": {
    "id": "cRL1c6UyRHAy"
   },
   "source": [
    "We are now going to define some useful auxillary functions.\n",
    "\n",
    "First, a function that shows the decision boundary of our network. This works only for 2D input data"
   ]
  },
  {
   "cell_type": "code",
   "execution_count": 3,
   "metadata": {
    "id": "x0cUhY8xRHAz"
   },
   "outputs": [],
   "source": [
    "# THIS CODE IS GIVEN\n",
    "\n",
    "def plot_decision_function_2d(model_mlp, X, Y):\n",
    "   # create a mesh to plot in\n",
    "    h = .02  # step size in the mesh\n",
    "    offset = 0.1\n",
    "    x_min, x_max = X[:, 0].min() - offset, X[:, 0].max() + offset\n",
    "    y_min, y_max = X[:, 1].min() - offset, X[:, 1].max() + offset\n",
    "    xx, yy = np.meshgrid(np.arange(x_min, x_max, h),\n",
    "                         np.arange(y_min, y_max, h))\n",
    "\n",
    "    # Plot the decision boundary. For that, we will assign a color to each\n",
    "    # point in the mesh [x_min, x_max]x[y_min, y_max].\n",
    "    Z = model_mlp.predict(np.c_[xx.ravel(), yy.ravel()])\n",
    "    print(Z.shape)\n",
    "    print(Z)\n",
    "    \n",
    "    Z = Z<0.5\n",
    "    # Put the result into a color plot\n",
    "    Z = Z.reshape(xx.shape)\n",
    "    plt.figure()\n",
    "    plt.contourf(xx, yy, Z, cmap=plt.cm.Paired)\n",
    "\n",
    "    plt.plot(X[Y == 1, 0], X[Y == 1, 1], 'yo')\n",
    "    plt.plot(X[Y == 0, 0], X[Y == 0, 1], 'ko')\n",
    "\n",
    "    plt.title(\"Decision surface\")\n",
    "    plt.axis('tight')"
   ]
  },
  {
   "cell_type": "markdown",
   "metadata": {
    "id": "CKtZJ5iQRHA0"
   },
   "source": [
    "## CREATING AND TRAINING THE MODEL\n",
    "\n",
    "We are now ready to create our network with a Tensorflow Session and to carry out training on our training dataset."
   ]
  },
  {
   "cell_type": "code",
   "execution_count": 15,
   "metadata": {
    "id": "WO8dHtrGRHA0"
   },
   "outputs": [
    {
     "name": "stdout",
     "output_type": "stream",
     "text": [
      "(850, 2)\n",
      "Training\n",
      "Epoch 1/20\n",
      "14/14 [==============================] - 1s 1ms/step - loss: 0.6837 - accuracy: 0.5657\n",
      "Epoch 2/20\n",
      "14/14 [==============================] - 0s 1ms/step - loss: 0.6605 - accuracy: 0.6725\n",
      "Epoch 3/20\n",
      "14/14 [==============================] - 0s 1ms/step - loss: 0.6429 - accuracy: 0.7256\n",
      "Epoch 4/20\n",
      "14/14 [==============================] - 0s 1ms/step - loss: 0.6031 - accuracy: 0.7203\n",
      "Epoch 5/20\n",
      "14/14 [==============================] - 0s 1ms/step - loss: 0.5726 - accuracy: 0.7781\n",
      "Epoch 6/20\n",
      "14/14 [==============================] - 0s 1ms/step - loss: 0.5517 - accuracy: 0.7920\n",
      "Epoch 7/20\n",
      "14/14 [==============================] - 0s 1ms/step - loss: 0.5053 - accuracy: 0.8109\n",
      "Epoch 8/20\n",
      "14/14 [==============================] - 0s 1ms/step - loss: 0.4813 - accuracy: 0.7967\n",
      "Epoch 9/20\n",
      "14/14 [==============================] - 0s 1ms/step - loss: 0.4451 - accuracy: 0.8284\n",
      "Epoch 10/20\n",
      "14/14 [==============================] - 0s 1ms/step - loss: 0.4036 - accuracy: 0.8489\n",
      "Epoch 11/20\n",
      "14/14 [==============================] - 0s 1ms/step - loss: 0.3779 - accuracy: 0.8635\n",
      "Epoch 12/20\n",
      "14/14 [==============================] - 0s 1ms/step - loss: 0.3344 - accuracy: 0.9400\n",
      "Epoch 13/20\n",
      "14/14 [==============================] - 0s 1ms/step - loss: 0.2970 - accuracy: 0.9666\n",
      "Epoch 14/20\n",
      "14/14 [==============================] - 0s 1ms/step - loss: 0.2620 - accuracy: 0.9693\n",
      "Epoch 15/20\n",
      "14/14 [==============================] - 0s 1ms/step - loss: 0.2242 - accuracy: 0.9956\n",
      "Epoch 16/20\n",
      "14/14 [==============================] - 0s 1ms/step - loss: 0.2032 - accuracy: 0.9931\n",
      "Epoch 17/20\n",
      "14/14 [==============================] - 0s 1ms/step - loss: 0.1711 - accuracy: 1.0000\n",
      "Epoch 18/20\n",
      "14/14 [==============================] - 0s 1ms/step - loss: 0.1392 - accuracy: 1.0000\n",
      "Epoch 19/20\n",
      "14/14 [==============================] - 0s 1ms/step - loss: 0.1225 - accuracy: 1.0000\n",
      "Epoch 20/20\n",
      "14/14 [==============================] - 0s 1ms/step - loss: 0.1061 - accuracy: 1.0000\n",
      "Testing\n",
      "5/5 - 0s - loss: 0.1042 - accuracy: 1.0000\n"
     ]
    },
    {
     "data": {
      "text/plain": [
       "[0.10418841987848282, 1.0]"
      ]
     },
     "execution_count": 15,
     "metadata": {},
     "output_type": "execute_result"
    }
   ],
   "source": [
    "# FILL IN CODE BY STUDENTS IN THIS SECTION\n",
    "\n",
    "#We split up the data into training and test data, using a function from Scikit-learn :\n",
    "X_train, X_test, Y_train, Y_test = train_test_split(X, Y, test_size=0.15)\n",
    "print(X_train.shape)\n",
    "\n",
    "# Layer sizes\n",
    "n_input = X.shape[1]  # Number of input features\n",
    "n_hidden = 50  # Number of hidden nodes\n",
    "\n",
    "# create the model (using the sequential API)\n",
    "\n",
    "model_mlp = Sequential([Dense(n_hidden, input_shape=(n_input,)),\n",
    "                        Activation('relu'),\n",
    "                        Dense(1, input_shape=(n_hidden,)),\n",
    "                        Activation('sigmoid')])   # FILL IN STUDENTS\n",
    "\n",
    "# create the loss and optimiser\n",
    "learning_rate = 0.01\n",
    "model_mlp.compile(loss='binary_crossentropy', optimizer=optimizers.Adam(lr=learning_rate),metrics=[\"accuracy\"]) # TO FILL IN\n",
    "# Run optimisation algorithm\n",
    "n_epochs = 20\n",
    "batch_size = 64\n",
    "\n",
    "print('Training')\n",
    "model_mlp.fit(X_train, Y_train, epochs=n_epochs, batch_size=batch_size) # TO FILL IN\n",
    "\n",
    "print('Testing')\n",
    "model_mlp.evaluate(X_test,  Y_test, verbose=2) # TO FILL IN\n"
   ]
  },
  {
   "cell_type": "code",
   "execution_count": 16,
   "metadata": {
    "id": "lpBaU1rcc0oY"
   },
   "outputs": [
    {
     "name": "stdout",
     "output_type": "stream",
     "text": [
      "(3481, 1)\n",
      "[[3.1883857e-05]\n",
      " [4.4862190e-05]\n",
      " [6.2999112e-05]\n",
      " ...\n",
      " [8.1020594e-04]\n",
      " [6.5320730e-04]\n",
      " [5.2663684e-04]]\n"
     ]
    },
    {
     "data": {
      "image/png": "[encoded data removed]",
      "text/plain": [
       "<Figure size 432x288 with 1 Axes>"
      ]
     },
     "metadata": {
      "needs_background": "light"
     },
     "output_type": "display_data"
    }
   ],
   "source": [
    "plot_decision_function_2d(model_mlp, X_test, Y_test)"
   ]
  },
  {
   "cell_type": "markdown",
   "metadata": {
    "id": "6oni6Q5vRHA0"
   },
   "source": [
    "# MLP with several hidden layers\n",
    "\n",
    "We are now going to create an MLP with several hidden layers. We are going to use a more complicated dataset : the MNIST dataset, which contains images of handwritten digits. There are 10 classes, one for each digit.\n",
    "\n",
    "We are going to implement the following architecture :\n",
    "\n",
    "- Fully connected layer\n",
    "- Relu activation\n",
    "- Fully connected layer\n",
    "- Relu activation\n",
    "- Fully connected layer\n",
    "- Relu activation\n",
    "- Fully connected layer\n",
    "- Softmax output activation\n",
    "\n",
    "__IMPORTANT Note__ The sigmoid layer has been replaced by a softmax layer (at the end). This is normal, since we have a multi-class problem.\n",
    "\n",
    "\n",
    "First, we load the MNIST dataset."
   ]
  },
  {
   "cell_type": "code",
   "execution_count": 17,
   "metadata": {
    "id": "Z0cGLMKRRHA0"
   },
   "outputs": [
    {
     "name": "stdout",
     "output_type": "stream",
     "text": [
      "Downloading data from https://storage.googleapis.com/tensorflow/tf-keras-datasets/mnist.npz\n",
      "11493376/11490434 [==============================] - 2s 0us/step\n"
     ]
    }
   ],
   "source": [
    "# Import MNIST data\n",
    "mnist = tf.keras.datasets.mnist\n",
    "(X_train, y_train),(X_test, y_test) = mnist.load_data()\n",
    "\n",
    "Y_train = tf.keras.utils.to_categorical(y_train)  # in order to convert y to a matrix with (num_examples, num_classes) (one-hot encoding)\n",
    "Y_test = tf.keras.utils.to_categorical(y_test)  # in order to convert y to a matrix with (num_examples, num_classes) (one-hot encoding)\n",
    "\n",
    "#reshape the input images : flatten the last two dimensions\n",
    "X_train = np.reshape(X_train,(X_train.shape[0],X_train.shape[1]*X_train.shape[2]))\n",
    "X_test = np.reshape(X_test,(X_test.shape[0],X_test.shape[1]*X_test.shape[2]))\n"
   ]
  },
  {
   "cell_type": "markdown",
   "metadata": {
    "id": "EzMV_9-NRHA1"
   },
   "source": [
    "Finally, fill in the following code to create and train your MLP"
   ]
  },
  {
   "cell_type": "code",
   "execution_count": 20,
   "metadata": {
    "id": "2G7AToqyRHA1"
   },
   "outputs": [
    {
     "name": "stdout",
     "output_type": "stream",
     "text": [
      "Training\n",
      "Epoch 1/20\n",
      "938/938 [==============================] - 2s 2ms/step - loss: 12.2469 - accuracy: 0.7236\n",
      "Epoch 2/20\n",
      "938/938 [==============================] - 2s 2ms/step - loss: 0.3362 - accuracy: 0.9120\n",
      "Epoch 3/20\n",
      "938/938 [==============================] - 2s 2ms/step - loss: 0.3240 - accuracy: 0.9203\n",
      "Epoch 4/20\n",
      "938/938 [==============================] - 2s 2ms/step - loss: 0.3380 - accuracy: 0.9167\n",
      "Epoch 5/20\n",
      "938/938 [==============================] - 2s 2ms/step - loss: 0.4488 - accuracy: 0.8920\n",
      "Epoch 6/20\n",
      "938/938 [==============================] - 2s 2ms/step - loss: 0.7619 - accuracy: 0.7938\n",
      "Epoch 7/20\n",
      "938/938 [==============================] - 2s 2ms/step - loss: 0.8864 - accuracy: 0.6832\n",
      "Epoch 8/20\n",
      "938/938 [==============================] - 3s 3ms/step - loss: 0.7088 - accuracy: 0.7544\n",
      "Epoch 9/20\n",
      "938/938 [==============================] - 2s 3ms/step - loss: 0.7658 - accuracy: 0.7786\n",
      "Epoch 10/20\n",
      "938/938 [==============================] - 2s 3ms/step - loss: 0.9647 - accuracy: 0.7116\n",
      "Epoch 11/20\n",
      "938/938 [==============================] - 3s 3ms/step - loss: 1.1200 - accuracy: 0.5895\n",
      "Epoch 12/20\n",
      "938/938 [==============================] - 3s 3ms/step - loss: 1.5118 - accuracy: 0.5114\n",
      "Epoch 13/20\n",
      "938/938 [==============================] - 3s 3ms/step - loss: 1.5647 - accuracy: 0.3761\n",
      "Epoch 14/20\n",
      "938/938 [==============================] - 2s 2ms/step - loss: 1.8390 - accuracy: 0.2835\n",
      "Epoch 15/20\n",
      "938/938 [==============================] - 2s 2ms/step - loss: 1.9521 - accuracy: 0.2684\n",
      "Epoch 16/20\n",
      "938/938 [==============================] - 2s 2ms/step - loss: 2.0653 - accuracy: 0.1993\n",
      "Epoch 17/20\n",
      "938/938 [==============================] - 2s 2ms/step - loss: 1.9417 - accuracy: 0.1989\n",
      "Epoch 18/20\n",
      "938/938 [==============================] - 2s 2ms/step - loss: 2.1462 - accuracy: 0.2046\n",
      "Epoch 19/20\n",
      "938/938 [==============================] - 2s 2ms/step - loss: 2.0850 - accuracy: 0.1916\n",
      "Epoch 20/20\n",
      "938/938 [==============================] - 2s 2ms/step - loss: 2.0486 - accuracy: 0.2081\n",
      "Testing\n",
      "313/313 - 0s - loss: 2.0832 - accuracy: 0.2094\n"
     ]
    },
    {
     "data": {
      "text/plain": [
       "[2.0831832885742188, 0.2093999981880188]"
      ]
     },
     "execution_count": 20,
     "metadata": {},
     "output_type": "execute_result"
    }
   ],
   "source": [
    "\n",
    "# Network Parameters\n",
    "n_hidden_1 = 256 # 1st layer number of neurons\n",
    "n_hidden_2 = 256 # 2nd layer number of neurons\n",
    "n_hidden_3 = 128 # 2nd layer number of neurons\n",
    "\n",
    "n_input = X_train.shape[1]\n",
    "n_classes = Y_train.shape[1] # MNIST total classes (0-9 digits)\n",
    "\n",
    "# TO CODE BY STUDENTS\n",
    "\n",
    "\n",
    "model_mlp_multi_layer =  Sequential([Dense(n_hidden_1, input_shape=(n_input,)),\n",
    "                        Activation('relu'),\n",
    "                        Dense(n_hidden_2, input_shape=(n_hidden_1,)),\n",
    "                        Activation('relu'),\n",
    "                        Dense(n_hidden_3, input_shape=(n_hidden_2,)),\n",
    "                        Activation('relu'),\n",
    "                        Dense(10, input_shape=(n_hidden_3,)),\n",
    "                        Activation('softmax')])\n",
    "\n",
    "# create the loss and optimiser, use 'categorical_crossentropy' in loss\n",
    "learning_rate = 0.01\n",
    "model_mlp_multi_layer.compile(loss='categorical_crossentropy', optimizer=optimizers.Adam(lr=learning_rate),metrics=[\"accuracy\"])\n",
    "\n",
    "# Run optimisation algorithm\n",
    "n_epochs = 20\n",
    "batch_size = 64\n",
    "\n",
    "print('Training')\n",
    "model_mlp_multi_layer.fit(X_train, Y_train, epochs=n_epochs, batch_size=batch_size)\n",
    "\n",
    "print('Testing')\n",
    "model_mlp_multi_layer.evaluate(X_test,  Y_test, verbose=2)"
   ]
  },
  {
   "cell_type": "code",
   "execution_count": 23,
   "metadata": {
    "id": "s6Q-JntxluxG"
   },
   "outputs": [],
   "source": [
    "# THIS CODE IS GIVEN\n",
    "\n",
    "def test_mnist_images(model_mlp_multi_layer,X_test):\n",
    "  plt.figure(figsize=(10, 6))\n",
    "  for idx in range(0,10):\n",
    "      plt.subplot(2, 5, idx+1)\n",
    "      rand_ind = np.random.randint(0,X_test.shape[0])\n",
    "      plt.imshow(np.reshape(X_test[rand_ind,:],(28,28)),cmap='gray')\n",
    "      # get prediction\n",
    "      model_prediction = np.argmax(model_mlp_multi_layer.predict(np.expand_dims( X_test[rand_ind,:], axis=0)),axis=1)\n",
    "      plt.title(int(model_prediction))"
   ]
  },
  {
   "cell_type": "code",
   "execution_count": 24,
   "metadata": {
    "id": "r2D9RE4apVWW"
   },
   "outputs": [
    {
     "data": {
      "image/png": "[encoded data removed]",
      "text/plain": [
       "<Figure size 720x432 with 10 Axes>"
      ]
     },
     "metadata": {
      "needs_background": "light"
     },
     "output_type": "display_data"
    }
   ],
   "source": [
    "test_mnist_images(model_mlp_multi_layer,X_test)"
   ]
  },
  {
   "cell_type": "markdown",
   "metadata": {
    "id": "lItdBVnfu7xK"
   },
   "source": [
    "You may observe some difficulties in getting good performance in this case. To improve training, we can turn to __regularisation__"
   ]
  },
  {
   "cell_type": "markdown",
   "metadata": {
    "id": "Vgao_U5XRHA2"
   },
   "source": [
    "## BATCH NORMALISATION\n",
    "\n",
    "One approach to regularisation which we have seen during the lesson is known as batch normalisation, which we have seen during the lesson. This can be implemented very simply in Tensorflow by adding the following layer :\n",
    "\n",
    "- ```BatchNormalization()```\n",
    "\n",
    "Change your model below, and implement this using your code above"
   ]
  },
  {
   "cell_type": "code",
   "execution_count": 25,
   "metadata": {
    "id": "6Ela5-4XRHA2"
   },
   "outputs": [
    {
     "name": "stdout",
     "output_type": "stream",
     "text": [
      "Training\n",
      "Epoch 1/20\n",
      "938/938 [==============================] - 4s 3ms/step - loss: 0.3784 - accuracy: 0.9056\n",
      "Epoch 2/20\n",
      "938/938 [==============================] - 3s 3ms/step - loss: 0.1214 - accuracy: 0.9654\n",
      "Epoch 3/20\n",
      "938/938 [==============================] - 3s 3ms/step - loss: 0.0847 - accuracy: 0.9742\n",
      "Epoch 4/20\n",
      "938/938 [==============================] - 4s 4ms/step - loss: 0.0707 - accuracy: 0.9789\n",
      "Epoch 5/20\n",
      "938/938 [==============================] - 4s 4ms/step - loss: 0.0558 - accuracy: 0.9828\n",
      "Epoch 6/20\n",
      "938/938 [==============================] - 4s 4ms/step - loss: 0.0478 - accuracy: 0.9852\n",
      "Epoch 7/20\n",
      "938/938 [==============================] - 3s 4ms/step - loss: 0.0440 - accuracy: 0.9864\n",
      "Epoch 8/20\n",
      "938/938 [==============================] - 3s 4ms/step - loss: 0.0379 - accuracy: 0.9882\n",
      "Epoch 9/20\n",
      "938/938 [==============================] - 3s 4ms/step - loss: 0.0284 - accuracy: 0.9907\n",
      "Epoch 10/20\n",
      "938/938 [==============================] - 3s 4ms/step - loss: 0.0288 - accuracy: 0.9907\n",
      "Epoch 11/20\n",
      "938/938 [==============================] - 3s 4ms/step - loss: 0.0230 - accuracy: 0.9929\n",
      "Epoch 12/20\n",
      "938/938 [==============================] - 4s 4ms/step - loss: 0.0226 - accuracy: 0.9931\n",
      "Epoch 13/20\n",
      "938/938 [==============================] - 4s 4ms/step - loss: 0.0211 - accuracy: 0.9932\n",
      "Epoch 14/20\n",
      "938/938 [==============================] - 3s 4ms/step - loss: 0.0233 - accuracy: 0.9930\n",
      "Epoch 15/20\n",
      "938/938 [==============================] - 3s 4ms/step - loss: 0.0203 - accuracy: 0.9937\n",
      "Epoch 16/20\n",
      "938/938 [==============================] - 4s 4ms/step - loss: 0.0160 - accuracy: 0.9951\n",
      "Epoch 17/20\n",
      "938/938 [==============================] - 4s 4ms/step - loss: 0.0174 - accuracy: 0.9950\n",
      "Epoch 18/20\n",
      "938/938 [==============================] - 3s 4ms/step - loss: 0.0147 - accuracy: 0.9948\n",
      "Epoch 19/20\n",
      "938/938 [==============================] - 3s 4ms/step - loss: 0.0143 - accuracy: 0.9952\n",
      "Epoch 20/20\n",
      "938/938 [==============================] - 4s 4ms/step - loss: 0.0136 - accuracy: 0.9961\n",
      "Testing\n",
      "313/313 - 1s - loss: 0.0607 - accuracy: 0.9839\n"
     ]
    },
    {
     "data": {
      "text/plain": [
       "[0.06074332818388939, 0.9839000105857849]"
      ]
     },
     "execution_count": 25,
     "metadata": {},
     "output_type": "execute_result"
    }
   ],
   "source": [
    "from tensorflow.keras.layers import Dense, BatchNormalization\n",
    "\n",
    "# TO CODE BY STUDENTS\n",
    "# Network Parameters\n",
    "n_hidden_1 = 256 # 1st layer number of neurons\n",
    "n_hidden_2 = 256 # 2nd layer number of neurons\n",
    "n_hidden_3 = 128 # 2nd layer number of neurons\n",
    "\n",
    "n_input = X_train.shape[1]\n",
    "n_classes = Y_train.shape[1] # MNIST total classes (0-9 digits)\n",
    "\n",
    "# TO CODE BY STUDENTS\n",
    "\n",
    "\n",
    "model_mlp_multi_layer =  Sequential([Dense(n_hidden_1, input_shape=(n_input,)),\n",
    "                                    BatchNormalization(),\n",
    "                                    Activation('relu'),\n",
    "                                    Dense(n_hidden_2, input_shape=(n_hidden_1,)),\n",
    "                                    BatchNormalization(),\n",
    "                                    Activation('relu'),\n",
    "                                    Dense(n_hidden_3, input_shape=(n_hidden_2,)),\n",
    "                                    BatchNormalization(),\n",
    "                                    Activation('relu'),\n",
    "                                    Dense(10, input_shape=(n_hidden_3,)),\n",
    "                                    BatchNormalization(),\n",
    "                                    Activation('softmax')])\n",
    "\n",
    "# create the loss and optimiser, use 'categorical_crossentropy' in loss\n",
    "learning_rate = 0.01\n",
    "model_mlp_multi_layer.compile(loss='categorical_crossentropy', optimizer=optimizers.Adam(lr=learning_rate),metrics=[\"accuracy\"])\n",
    "\n",
    "# Run optimisation algorithm\n",
    "n_epochs = 20\n",
    "batch_size = 64\n",
    "\n",
    "print('Training')\n",
    "model_mlp_multi_layer.fit(X_train, Y_train, epochs=n_epochs, batch_size=batch_size)\n",
    "\n",
    "print('Testing')\n",
    "model_mlp_multi_layer.evaluate(X_test,  Y_test, verbose=2)"
   ]
  },
  {
   "cell_type": "code",
   "execution_count": 26,
   "metadata": {
    "id": "cSxGzvQ3pg3u"
   },
   "outputs": [
    {
     "data": {
      "image/png": "[encoded data removed]",
      "text/plain": [
       "<Figure size 720x432 with 10 Axes>"
      ]
     },
     "metadata": {
      "needs_background": "light"
     },
     "output_type": "display_data"
    }
   ],
   "source": [
    "test_mnist_images(model_mlp_multi_layer,X_test)"
   ]
  },
  {
   "cell_type": "markdown",
   "metadata": {
    "id": "Wp2VIfZ1v7lN"
   },
   "source": [
    "Question : do you observe improved convergence ?"
   ]
  },
  {
   "cell_type": "markdown",
   "metadata": {},
   "source": [
    "Oui c'est beaucoup mieux, en normalisant on a réduit le biais sur l'importance des features, et donc on a réduit le biais des poids. On a donc une meilleure prédiction."
   ]
  },
  {
   "cell_type": "markdown",
   "metadata": {
    "id": "Y2CWgKZeRHA2"
   },
   "source": [
    "#### Documentation:\n",
    "\n",
    "  - http://www.tensorflow.org\n",
    "  - http://www.deeplearningbook.org/"
   ]
  }
 ],
 "metadata": {
  "accelerator": "GPU",
  "colab": {
   "collapsed_sections": [],
   "name": "TP_ann_mlp_part_2_students.ipynb",
   "provenance": [],
   "toc_visible": true
  },
  "kernelspec": {
   "display_name": "Python 3",
   "language": "python",
   "name": "python3"
  },
  "language_info": {
   "codemirror_mode": {
    "name": "ipython",
    "version": 3
   },
   "file_extension": ".py",
   "mimetype": "text/x-python",
   "name": "python",
   "nbconvert_exporter": "python",
   "pygments_lexer": "ipython3",
   "version": "3.8.3"
  }
 },
 "nbformat": 4,
 "nbformat_minor": 1
}
