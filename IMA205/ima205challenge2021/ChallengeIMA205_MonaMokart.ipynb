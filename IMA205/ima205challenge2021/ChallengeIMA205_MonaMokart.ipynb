{
 "cells": [
  {
   "cell_type": "markdown",
   "metadata": {},
   "source": [
    "Mona Mokart\n",
    "\n",
    "# Challenge IMA 205\n",
    "## Classification of cell images\n",
    "_____________________________________________________________\n",
    "L'objectif de ce challenge est de trouver les meilleurs modèles possibles pour classer des images de cellules. Ce projet est composé de deux challenges : un challenge de classification binaire et un challenge de classification à classes multiples. Cela s'est fait via Kaggle.\n",
    "\n",
    "Sommaire : \n",
    "- **I Importations**\n",
    "- **II Modèles à partir des premières features**\n",
    "    - *1. LDA*\n",
    "    - *2. QDA*\n",
    "    - *3. KNN*\n",
    "    - *4. Linear SVM - Binary*\n",
    "    - *5. Gaussian SVM - Binary*\n",
    "        \n",
    "- **III Modèles à partir des deuxièmes features**\n",
    "    - *1. SVM (binary)*\n",
    "    - *2. LDA (Multiclass)*\n",
    "    - *3. SVM one vs rest (Multiclass)*\n",
    "    - *4. Random Forest*\n",
    "    - *5. AdaBoost*\n",
    "    - *6. MLP*\n",
    "- **IV Deep Learning**\n",
    "    - *1. Test sur 5 modèles*\n",
    "    - *2. Data augmentation*\n",
    "- **V Autres méthodes**\n",
    "    - *1. Deep features*\n",
    "    - *2. Somme des meilleures predictions*\n",
    "- **VI - Conclusion**"
   ]
  },
  {
   "cell_type": "markdown",
   "metadata": {},
   "source": [
    "# <u>I - Importations </u>"
   ]
  },
  {
   "cell_type": "code",
   "execution_count": 136,
   "metadata": {},
   "outputs": [],
   "source": [
    "import pandas as pd\n",
    "import numpy as np\n",
    "from skimage.io import imread\n",
    "import cv2\n",
    "import seaborn as sn\n",
    "from skimage import measure\n",
    "from skimage.measure import find_contours\n",
    "from time import time\n",
    "import matplotlib.pyplot as plt\n",
    "from sklearn.preprocessing import StandardScaler, MinMaxScaler\n",
    "from sklearn.discriminant_analysis import LinearDiscriminantAnalysis\n",
    "from sklearn.discriminant_analysis import QuadraticDiscriminantAnalysis\n",
    "from sklearn.model_selection import GridSearchCV, KFold, cross_validate\n",
    "from sklearn.metrics import f1_score\n",
    "from sklearn.metrics import matthews_corrcoef as mcc, make_scorer, accuracy_score\n",
    "from sklearn.metrics import confusion_matrix\n",
    "from sklearn.neighbors import KNeighborsClassifier\n",
    "from sklearn.model_selection import train_test_split\n",
    "from sklearn.svm import SVC\n",
    "import tensorflow as tf\n",
    "from sklearn.ensemble import AdaBoostClassifier\n",
    "from sklearn.decomposition import PCA\n",
    "import warnings\n",
    "from skimage.transform import resize\n",
    "\n",
    "# import tensorflow models\n",
    "from tensorflow.keras.models import Sequential, Model\n",
    "from tensorflow.keras.layers import Dense, Dropout, Activation, Flatten, Input,BatchNormalization\n",
    "from tensorflow.keras.layers import Conv2D, MaxPooling2D\n",
    "from tensorflow.keras import optimizers, Input\n",
    "from tensorflow.keras.optimizers import SGD\n",
    "\n",
    "from tensorflow.keras.utils import to_categorical\n",
    "from tensorflow.keras.applications import VGG19, Xception, ResNet50, MobileNet\n",
    "\n",
    "from tensorflow.nn import sigmoid_cross_entropy_with_logits \n",
    "from tensorflow.keras.preprocessing.image import ImageDataGenerator"
   ]
  },
  {
   "cell_type": "code",
   "execution_count": 2,
   "metadata": {},
   "outputs": [],
   "source": [
    "def plot_cm(y_test, y_pred):  # Pour afficher les matrices de confusions\n",
    "    n_class = max(np.unique(y_test))+1\n",
    "    labels = list(range(n_class))\n",
    "    m = confusion_matrix(y_test, y_pred, labels=labels)\n",
    "    m = m.astype('float') / m.sum(axis=1)[:, np.newaxis]\n",
    "\n",
    "    df_cm = pd.DataFrame(m, columns=labels, index=labels)\n",
    "    df_cm.index.name = 'Actual'\n",
    "    df_cm.columns.name = 'Predicted'\n",
    "    sn.heatmap(df_cm, annot=True, cmap=\"Reds\")"
   ]
  },
  {
   "cell_type": "code",
   "execution_count": 3,
   "metadata": {},
   "outputs": [],
   "source": [
    "Working_directory = \"./\" \n",
    "df_train = pd.read_csv(Working_directory + 'metadataTrain.csv')\n",
    "df_test = pd.read_csv(Working_directory + 'SampleSubmission.csv')"
   ]
  },
  {
   "cell_type": "code",
   "execution_count": 4,
   "metadata": {},
   "outputs": [],
   "source": [
    "# Importation des labels et leur ids\n",
    "id_train = df_train[\"ID\"].values\n",
    "y_train = df_train[\"ABNORMAL\"].values\n",
    "y_train_bis = df_train[\"GROUP\"].values\n",
    "id_test = df_test[\"ID\"].values\n",
    "\n",
    "#  mettre dans l'ordre d'abord : \n",
    "order_id_train = np.argsort(id_train)\n",
    "id_train = id_train[order_id_train]\n",
    "y_train = y_train[order_id_train]\n",
    "y_train_bis = y_train_bis[order_id_train]\n",
    "\n",
    "id_test.sort()"
   ]
  },
  {
   "cell_type": "code",
   "execution_count": 5,
   "metadata": {},
   "outputs": [],
   "source": [
    "# Importation des images de training\n",
    "warnings.filterwarnings(\"ignore\")\n",
    "\n",
    "Images_train = []\n",
    "Images_segCyt_train = []\n",
    "Images_segNuc_train = []\n",
    "for i in id_train :\n",
    "    Images_train.append(imread(Working_directory+ \"Train/Train/\" + str(i)+\".bmp\"))\n",
    "    Images_segCyt_train.append(imread(Working_directory+ \"Train/Train/\" + str(i)+\"_segCyt.bmp\"))\n",
    "    Images_segNuc_train.append(imread(Working_directory+ \"Train/Train/\" + str(i)+\"_segNuc.bmp\"))\n",
    "Images_train = np.array(Images_train)\n",
    "Images_segCyt_train = np.array(Images_segCyt_train)\n",
    "Images_segNuc_train = np.array(Images_segNuc_train)\n",
    "N = Images_train.shape[0]"
   ]
  },
  {
   "cell_type": "code",
   "execution_count": 6,
   "metadata": {},
   "outputs": [
    {
     "name": "stdout",
     "output_type": "stream",
     "text": [
      "Number of train images: 2921\n",
      "Number of normal cells: 1302; Number of abnormal cells: 1619\n"
     ]
    }
   ],
   "source": [
    "print('Number of train images: {0}'.format(N))\n",
    "print('Number of normal cells: {0}; Number of abnormal cells: {1}'.format(N-np.sum(y_train), np.sum(y_train)))"
   ]
  },
  {
   "cell_type": "code",
   "execution_count": 7,
   "metadata": {},
   "outputs": [],
   "source": [
    "# Importation des images de test\n",
    "Images_test = []\n",
    "Images_segCyt_test = []\n",
    "Images_segNuc_test = []\n",
    "for i in id_test :\n",
    "    Images_test.append(imread(Working_directory+ \"Test/Test/\" + str(i)+\".bmp\"))\n",
    "    Images_segCyt_test.append(imread(Working_directory+ \"Test/Test/\" + str(i)+\"_segCyt.bmp\"))\n",
    "    Images_segNuc_test.append(imread(Working_directory+ \"Test/Test/\" + str(i)+\"_segNuc.bmp\"))\n",
    "Images_test = np.array(Images_test)\n",
    "Images_segCyt_test = np.array(Images_segCyt_test)\n",
    "Images_segNuc_test = np.array(Images_segNuc_test)\n",
    "M = Images_test.shape[0]"
   ]
  },
  {
   "cell_type": "code",
   "execution_count": 8,
   "metadata": {},
   "outputs": [
    {
     "name": "stdout",
     "output_type": "stream",
     "text": [
      "Number of test images: 1252\n"
     ]
    }
   ],
   "source": [
    "print('Number of test images: {0}'.format(M))"
   ]
  },
  {
   "cell_type": "markdown",
   "metadata": {},
   "source": [
    "# <u>II - Modèles à partir des premières features</u>\n",
    "\n",
    "**Creation des features**"
   ]
  },
  {
   "cell_type": "code",
   "execution_count": 9,
   "metadata": {},
   "outputs": [],
   "source": [
    "# Functions pour extraires les features\n",
    "def norm_grad(im):\n",
    "    sobelx = cv2.Sobel(im, cv2.CV_64F, 1, 0, ksize=5)\n",
    "    sobely = cv2.Sobel(im, cv2.CV_64F, 0, 1, ksize=5)\n",
    "    return(sobelx**2 + sobely**2)**0.5\n",
    "\n",
    "\n",
    "\n",
    "\n",
    "\n",
    "def features(im, segCyt, segNuc):\n",
    "    features = []\n",
    "    #  ratio and areas\n",
    "    features.append(np.sum(segCyt))\n",
    "    features.append(np.sum(segNuc))\n",
    "    features.append(np.sum(segNuc)/np.sum(segCyt))\n",
    "    \n",
    "    \n",
    "    if np.sum(segNuc)!=0:\n",
    "        contours_Cyt = find_contours(segCyt,0.5)\n",
    "        contours_Nuc = find_contours(segNuc,0.5)\n",
    "        tension1 = np.gradient(contours_Cyt[0],axis=0)\n",
    "        tension2 = np.gradient(contours_Nuc[0],axis=0)\n",
    "        features.append(np.abs(tension1).mean())\n",
    "        features.append(np.abs(tension2).mean())\n",
    "    \n",
    "        courbure1 = np.gradient(tension1,axis=0)\n",
    "        courbure2 = np.gradient(tension2,axis=0)\n",
    "        features.append(np.abs(courbure1).mean())\n",
    "        features.append(np.abs(courbure2).mean())\n",
    "    else : \n",
    "        features.append(0)\n",
    "        features.append(0)\n",
    "        features.append(0)\n",
    "        features.append(0)\n",
    "    \n",
    "    \n",
    "    for i in range(3):\n",
    "        channel = cv2.equalizeHist(im[:,:,i])\n",
    "        #  average intensity\n",
    "        av_Cyt = (channel*segCyt).mean()\n",
    "        av_Nuc = (channel*segNuc).mean()\n",
    "        features.append(av_Cyt)\n",
    "        features.append(av_Nuc)\n",
    "        \n",
    "        #  standard deviation \n",
    "        std_Cyt = (channel*segCyt).std()\n",
    "        std_Nuc = (channel*segNuc).std()\n",
    "        features.append(std_Cyt)\n",
    "        features.append(std_Nuc)\n",
    "        \n",
    "        #  gradient\n",
    "        grad_Cyt = norm_grad(channel*segCyt).mean()\n",
    "        grad_Nuc = norm_grad(channel*segNuc).mean()\n",
    "        features.append(grad_Cyt)\n",
    "        features.append(grad_Nuc)\n",
    "    return features"
   ]
  },
  {
   "cell_type": "code",
   "execution_count": 10,
   "metadata": {
    "scrolled": true
   },
   "outputs": [],
   "source": [
    "X_train = []\n",
    "for i in range(N):\n",
    "    X_train.append(features(Images_train[i],Images_segCyt_train[i],Images_segNuc_train[i]))"
   ]
  },
  {
   "cell_type": "code",
   "execution_count": 11,
   "metadata": {},
   "outputs": [],
   "source": [
    "# Enregistrement des features dans un fichier csv pour gagner du temps\n",
    "X_train = np.array(X_train)\n",
    "pd.DataFrame(X_train).to_csv(Working_directory + \"features_train.csv\", index=None)"
   ]
  },
  {
   "cell_type": "code",
   "execution_count": 12,
   "metadata": {},
   "outputs": [],
   "source": [
    "X_test = []\n",
    "for i in range(M):\n",
    "    X_test.append(features(Images_test[i],Images_segCyt_test[i],Images_segNuc_test[i]))"
   ]
  },
  {
   "cell_type": "code",
   "execution_count": 13,
   "metadata": {},
   "outputs": [],
   "source": [
    "# Enregistrement des features \n",
    "X_test = np.array(X_test)\n",
    "pd.DataFrame(X_test).to_csv(Working_directory + \"features_test.csv\", index=None)"
   ]
  },
  {
   "cell_type": "markdown",
   "metadata": {},
   "source": [
    "______________________________________________________\n",
    "**Entrainement**"
   ]
  },
  {
   "cell_type": "code",
   "execution_count": 14,
   "metadata": {},
   "outputs": [],
   "source": [
    "# Importation des features\n",
    "X_traindf = pd.read_csv(Working_directory + 'features_train.csv')\n",
    "X_testdf = pd.read_csv(Working_directory + 'features_test.csv')"
   ]
  },
  {
   "cell_type": "code",
   "execution_count": 15,
   "metadata": {},
   "outputs": [],
   "source": [
    "X_train = X_traindf[X_traindf.columns[:]].values\n",
    "X_test = X_testdf[X_testdf.columns[:]].values"
   ]
  },
  {
   "cell_type": "code",
   "execution_count": 16,
   "metadata": {},
   "outputs": [],
   "source": [
    "# Suffle data\n",
    "\n",
    "i = np.random.randint(100)\n",
    "np.random.seed(i)\n",
    "Xp = np.random.permutation(X_train)\n",
    "\n",
    "np.random.seed(i)\n",
    "yp = np.random.permutation(y_train)\n",
    "\n",
    "np.random.seed(i)\n",
    "yp_bis = np.random.permutation(y_train_bis)\n",
    "\n",
    "np.random.seed(i)\n",
    "idsp = np.random.permutation(id_train)"
   ]
  },
  {
   "cell_type": "code",
   "execution_count": 17,
   "metadata": {},
   "outputs": [],
   "source": [
    "# Normalize data\n",
    "normalizer = MinMaxScaler()\n",
    "normalizer.fit(Xp)\n",
    "X_train_n = normalizer.transform(Xp)\n",
    "X_test_n = normalizer.transform(X_test)"
   ]
  },
  {
   "cell_type": "code",
   "execution_count": 18,
   "metadata": {},
   "outputs": [],
   "source": [
    "scores = pd.DataFrame(index = [\"Train\", \"Test\"])\n",
    "scores_bis = pd.DataFrame(index = [\"Train\", \"Test\"])"
   ]
  },
  {
   "cell_type": "markdown",
   "metadata": {},
   "source": [
    "## II.1 - LDA"
   ]
  },
  {
   "cell_type": "markdown",
   "metadata": {},
   "source": [
    "### Classification binaire"
   ]
  },
  {
   "cell_type": "code",
   "execution_count": 19,
   "metadata": {},
   "outputs": [
    {
     "name": "stdout",
     "output_type": "stream",
     "text": [
      "Time of computation : 0.0898740291595459\n",
      "Accuracy score on the training set : 0.8986648408079425\n",
      "MCC score on the training set : 0.7982827872036355\n"
     ]
    }
   ],
   "source": [
    "# LDA - Binary\n",
    "t0 = time()\n",
    "lda = LinearDiscriminantAnalysis()\n",
    "lda.fit(X_train_n, yp)\n",
    "y_pred_lda = lda.predict(X_test_n)\n",
    "dt = time() - t0\n",
    "train_score_LDA = mcc(lda.predict(X_train_n), yp)\n",
    "\n",
    "print(\"Time of computation :\", dt)\n",
    "print(\"Accuracy score on the training set :\", lda.score(X_train_n, yp))\n",
    "print(\"MCC score on the training set :\", mcc(lda.predict(X_train_n), yp))\n",
    "\n",
    "\n",
    "submission_lda = pd.DataFrame()\n",
    "submission_lda[\"ID\"] = id_test\n",
    "submission_lda[\"ABNORMAL\"] = y_pred_lda\n",
    "submission_lda.to_csv(Working_directory + \"submission_lda.csv\", index=False)"
   ]
  },
  {
   "cell_type": "markdown",
   "metadata": {},
   "source": [
    "Résultat : 0.77781 (private score)"
   ]
  },
  {
   "cell_type": "code",
   "execution_count": 20,
   "metadata": {},
   "outputs": [],
   "source": [
    "scores[\"LDA\"] = [train_score_LDA, 0.77781]"
   ]
  },
  {
   "cell_type": "markdown",
   "metadata": {},
   "source": [
    "### Classification en 9 classes"
   ]
  },
  {
   "cell_type": "code",
   "execution_count": 23,
   "metadata": {},
   "outputs": [
    {
     "name": "stdout",
     "output_type": "stream",
     "text": [
      "Time of computation : 0.026674985885620117\n",
      "accuracy score on the training set : 0.8206093803491955\n",
      "f1 score on the training set : 0.6806761057018837\n"
     ]
    }
   ],
   "source": [
    "#LDA - multiclass classification\n",
    "t0 = time()\n",
    "lda = LinearDiscriminantAnalysis()\n",
    "lda.fit(X_train_n, yp_bis)\n",
    "y_pred_lda_bis = lda.predict(X_test_n)\n",
    "dt = time() - t0\n",
    "train_score_LDA_bis = f1_score(lda.predict(X_train_n), yp_bis, average=\"macro\")\n",
    "\n",
    "print(\"Time of computation :\", dt)\n",
    "print(\"accuracy score on the training set :\", lda.score(X_train_n, yp_bis))\n",
    "print(\"f1 score on the training set :\", train_score_LDA_bis)\n",
    "\n",
    "submission_lda_bis = pd.DataFrame()\n",
    "submission_lda_bis[\"ID\"] = id_test\n",
    "submission_lda_bis[\"GROUP\"] = y_pred_lda_bis\n",
    "submission_lda_bis.to_csv(Working_directory + \"submission_lda_bis.csv\", index=False)"
   ]
  },
  {
   "cell_type": "markdown",
   "metadata": {},
   "source": [
    "Résultat : 0.59987"
   ]
  },
  {
   "cell_type": "code",
   "execution_count": 24,
   "metadata": {},
   "outputs": [],
   "source": [
    "scores_bis[\"LDA\"] = [train_score_LDA_bis, 0.59987]"
   ]
  },
  {
   "cell_type": "markdown",
   "metadata": {},
   "source": [
    "## II.2 - QDA"
   ]
  },
  {
   "cell_type": "markdown",
   "metadata": {},
   "source": [
    "### Classification binaire"
   ]
  },
  {
   "cell_type": "code",
   "execution_count": 26,
   "metadata": {},
   "outputs": [
    {
     "name": "stdout",
     "output_type": "stream",
     "text": [
      "Time of computation : 0.008731842041015625\n",
      "Accuracy score on the train set : 0.845258473125642\n",
      "mcc score on the train set : 0.6967986218474556\n"
     ]
    }
   ],
   "source": [
    "# QDA - Binary\n",
    "t0 = time()\n",
    "qda = QuadraticDiscriminantAnalysis()\n",
    "qda.fit(X_train_n, yp)\n",
    "y_pred_qda = qda.predict(X_test_n)\n",
    "dt = time() - t0\n",
    "train_score_QDA = mcc(qda.predict(X_train_n), yp)\n",
    "\n",
    "print(\"Time of computation :\", dt)\n",
    "print(\"Accuracy score on the train set :\",qda.score(X_train_n,yp))\n",
    "print(\"mcc score on the train set :\", train_score_QDA)\n",
    "\n",
    "submission_qda = pd.DataFrame()\n",
    "submission_qda[\"ID\"] = id_test\n",
    "submission_qda[\"ABNORMAL\"] = y_pred_qda\n",
    "submission_qda.to_csv(Working_directory + \"submission_qda.csv\",index=False)"
   ]
  },
  {
   "cell_type": "markdown",
   "metadata": {},
   "source": [
    "Résultat : 0.65339"
   ]
  },
  {
   "cell_type": "code",
   "execution_count": 27,
   "metadata": {},
   "outputs": [],
   "source": [
    "scores[\"QDA\"] = [train_score_QDA, 0.65339]"
   ]
  },
  {
   "cell_type": "markdown",
   "metadata": {},
   "source": [
    "### Classification en 9 classes"
   ]
  },
  {
   "cell_type": "code",
   "execution_count": 28,
   "metadata": {},
   "outputs": [
    {
     "name": "stdout",
     "output_type": "stream",
     "text": [
      "Time of computation : 0.027808189392089844\n",
      "Accuracy score on the train set : 0.7939061965080452\n",
      "f1 score on the train set : 0.7270935067310862\n"
     ]
    }
   ],
   "source": [
    "# QDA - Multiclass\n",
    "t0 = time()\n",
    "qda = QuadraticDiscriminantAnalysis()\n",
    "qda.fit(X_train_n, yp_bis)\n",
    "y_pred_qda_bis = qda.predict(X_test_n)\n",
    "dt= time() - t0\n",
    "train_score_QDA_bis = f1_score(qda.predict(X_train_n), yp_bis, average=\"macro\")\n",
    "\n",
    "print(\"Time of computation :\", dt)\n",
    "print(\"Accuracy score on the train set :\",qda.score(X_train_n, yp_bis))\n",
    "print(\"f1 score on the train set :\", train_score_QDA_bis)\n",
    "\n",
    "submission_qda_bis = pd.DataFrame()\n",
    "submission_qda_bis[\"ID\"] = id_test\n",
    "submission_qda_bis[\"GROUP\"] = y_pred_qda_bis\n",
    "submission_qda_bis.to_csv(Working_directory + \"submission_qda_bis.csv\",index=False)"
   ]
  },
  {
   "cell_type": "markdown",
   "metadata": {},
   "source": [
    "Résultat : 0.51379"
   ]
  },
  {
   "cell_type": "code",
   "execution_count": 29,
   "metadata": {},
   "outputs": [],
   "source": [
    "scores_bis[\"QDA\"] = [train_score_QDA_bis, 0.51379]"
   ]
  },
  {
   "cell_type": "markdown",
   "metadata": {},
   "source": [
    "## II.3 - KNN"
   ]
  },
  {
   "cell_type": "markdown",
   "metadata": {},
   "source": [
    "### Classification binaire"
   ]
  },
  {
   "cell_type": "code",
   "execution_count": 30,
   "metadata": {},
   "outputs": [
    {
     "name": "stdout",
     "output_type": "stream",
     "text": [
      "Time of computation : 4.345381259918213\n",
      "Best training params: {'n_neighbors': 9}\n",
      "Accuracy score on the train set : 0.9226292365628209\n",
      "mcc score on the train set : 0.8434403859445926\n"
     ]
    }
   ],
   "source": [
    "#KNN - cross validation \n",
    "t0 = time()\n",
    "class_names = [\"abnormal\",\"normal\"]\n",
    "p_grid_KNN = {'n_neighbors': [1,2,3,4,5,6,7,8,9,10]}\n",
    "KNN = KNeighborsClassifier()\n",
    "grid_KNN = GridSearchCV(estimator=KNN, param_grid=p_grid_KNN, scoring=\"accuracy\", cv=5)\n",
    "grid_KNN.fit(X_train_n, yp)\n",
    "y_pred_KNN = grid_KNN.predict(X_test_n)\n",
    "dt = time() - t0\n",
    "train_score_KNN = mcc(grid_KNN.predict(X_train_n), yp)\n",
    "\n",
    "print(\"Time of computation :\", dt)\n",
    "print(\"Best training params: {}\".format(grid_KNN.best_params_))\n",
    "print(\"Accuracy score on the train set :\", grid_KNN.score(X_train_n,yp))\n",
    "print(\"mcc score on the train set :\", train_score_KNN)\n",
    "\n",
    "submission_KNN = pd.DataFrame()\n",
    "submission_KNN[\"ID\"] = id_test\n",
    "submission_KNN[\"ABNORMAL\"] = y_pred_KNN\n",
    "submission_KNN.to_csv(Working_directory + \"submission_KNN.csv\",index=False)"
   ]
  },
  {
   "cell_type": "markdown",
   "metadata": {},
   "source": [
    "Résultat : 0.73830"
   ]
  },
  {
   "cell_type": "code",
   "execution_count": 31,
   "metadata": {},
   "outputs": [],
   "source": [
    "scores[\"KNN\"] = [train_score_KNN, 0.73830]"
   ]
  },
  {
   "cell_type": "markdown",
   "metadata": {},
   "source": [
    "### Classification en 9 classes\n"
   ]
  },
  {
   "cell_type": "code",
   "execution_count": 47,
   "metadata": {},
   "outputs": [
    {
     "name": "stdout",
     "output_type": "stream",
     "text": [
      "Time of computation : 5.322679281234741\n",
      "Best training params: {'n_neighbors': 5}\n",
      "Accuracy score on the train set : 0.8034919548099966\n",
      "f1 score on the train set : 0.7069525454329894\n"
     ]
    }
   ],
   "source": [
    "#  KNN - cross validation \n",
    "t0 = time()\n",
    "p_grid_KNN = {'n_neighbors': [1,2,3,4,5,6,7,8,9,10]}\n",
    "KNN = KNeighborsClassifier()\n",
    "grid_KNN = GridSearchCV(estimator=KNN, param_grid=p_grid_KNN, scoring=\"accuracy\", cv=5)\n",
    "grid_KNN.fit(X_train_n, yp_bis)\n",
    "y_pred_KNN_bis = grid_KNN.predict(X_test_n)\n",
    "dt = time() - t0\n",
    "train_score_KNN_bis = f1_score(grid_KNN.predict(X_train_n), yp_bis, average=\"macro\")\n",
    "\n",
    "print(\"Time of computation :\", dt)\n",
    "print(\"Best training params: {}\".format(grid_KNN.best_params_))\n",
    "print(\"Accuracy score on the train set :\", grid_KNN.score(X_train_n, yp_bis))\n",
    "print(\"f1 score on the train set :\", train_score_KNN_bis)\n",
    "\n",
    "\n",
    "submission_KNN_bis = pd.DataFrame()\n",
    "submission_KNN_bis[\"ID\"] = id_test\n",
    "submission_KNN_bis[\"GROUP\"] = y_pred_KNN_bis\n",
    "submission_KNN_bis.to_csv(Working_directory + \"submission_KNN_bis.csv\",index=False)"
   ]
  },
  {
   "cell_type": "markdown",
   "metadata": {},
   "source": [
    "Résultat : 0.51379"
   ]
  },
  {
   "cell_type": "code",
   "execution_count": 33,
   "metadata": {},
   "outputs": [],
   "source": [
    "scores_bis[\"KNN\"] = [train_score_KNN_bis, 0.51379]"
   ]
  },
  {
   "cell_type": "markdown",
   "metadata": {},
   "source": [
    "## II.4 - Linear SVM : binary"
   ]
  },
  {
   "cell_type": "code",
   "execution_count": 34,
   "metadata": {},
   "outputs": [
    {
     "name": "stdout",
     "output_type": "stream",
     "text": [
      "Time of computation : 16.03715419769287\n",
      "Best training params: {'C': 10.0}\n",
      "Accuracy score on the train set : 0.9301219149568838\n",
      "mcc score on the train set : 0.8388458215675472\n"
     ]
    }
   ],
   "source": [
    "t0 = time()\n",
    "p_grid_lsvm = {'C': [1e-3,1e-2,1e-1,1,2,3,4,5,6,7,8,9,1e1]}\n",
    "Lsvm = SVC(kernel='linear')\n",
    "grid_lsvm = GridSearchCV(estimator= Lsvm,param_grid=p_grid_lsvm, scoring='f1', cv=5)\n",
    "grid_lsvm.fit(X_train_n, yp)\n",
    "y_pred_lsvm = grid_lsvm.predict(X_test_n)\n",
    "dt = time() - t0\n",
    "train_score_LSVM = mcc(grid_lsvm.predict(X_train_n), yp)\n",
    "\n",
    "print(\"Time of computation :\", dt)\n",
    "print(\"Best training params: {}\".format(grid_lsvm.best_params_))\n",
    "print(\"Accuracy score on the train set :\", grid_lsvm.score(X_train_n, yp))\n",
    "print(\"mcc score on the train set :\", train_score_LSVM)\n",
    "\n",
    "\n",
    "submission_lsvm = pd.DataFrame()\n",
    "submission_lsvm[\"ID\"] = id_test\n",
    "submission_lsvm[\"ABNORMAL\"] = y_pred_lsvm\n",
    "submission_lsvm.to_csv(Working_directory + \"submission_lsvm.csv\",index=False)"
   ]
  },
  {
   "cell_type": "markdown",
   "metadata": {},
   "source": [
    "Résultat  :  0.75663"
   ]
  },
  {
   "cell_type": "code",
   "execution_count": 35,
   "metadata": {},
   "outputs": [],
   "source": [
    "scores[\"LSVM\"] = [train_score_LSVM, 0.75663]"
   ]
  },
  {
   "cell_type": "markdown",
   "metadata": {},
   "source": [
    "## II.5 - NLSVM : binary"
   ]
  },
  {
   "cell_type": "code",
   "execution_count": 37,
   "metadata": {},
   "outputs": [
    {
     "name": "stdout",
     "output_type": "stream",
     "text": [
      "Time of computation : 257.9193985462189\n",
      "Best training params: {'C': 10.0, 'gamma': 0.1}\n",
      "Accuracy score on the train set : 0.9202327969873331\n",
      "mcc score on the train set : 0.8426738461648732\n"
     ]
    }
   ],
   "source": [
    "t0 = time()\n",
    "p_grid_nlsvm = {'C': [1e-3,1e-2,1e-1,1,2,3,4,5,6,7,8,9,1e1],\n",
    "              'gamma': [0.0001, 0.0005, 0.001, 0.005, 0.01, 0.1], }\n",
    "NLsvm = SVC(kernel='rbf')\n",
    "grid_nlsvm = GridSearchCV(estimator= NLsvm,param_grid=p_grid_nlsvm, scoring='accuracy', cv=5 )\n",
    "grid_nlsvm.fit(X_train_n, yp)\n",
    "y_pred_nlsvm = grid_nlsvm.predict(X_test_n)\n",
    "dt = time() - t0\n",
    "train_score_NLSVM = mcc(grid_nlsvm.predict(X_train_n), yp)\n",
    "\n",
    "print(\"Time of computation :\", dt)\n",
    "print(\"Best training params: {}\".format(grid_nlsvm.best_params_))\n",
    "print(\"Accuracy score on the train set :\", grid_nlsvm.score(X_train_n, yp))\n",
    "print(\"mcc score on the train set :\", train_score_NLSVM)\n",
    "\n",
    "submission_nlsvm = pd.DataFrame()\n",
    "submission_nlsvm[\"ID\"] = id_test\n",
    "submission_nlsvm[\"ABNORMAL\"] = y_pred_nlsvm\n",
    "submission_nlsvm.to_csv(Working_directory + \"submission_nlsvm2.csv\",index=False)"
   ]
  },
  {
   "cell_type": "markdown",
   "metadata": {},
   "source": [
    "Résultat : 0.81023"
   ]
  },
  {
   "cell_type": "code",
   "execution_count": 38,
   "metadata": {},
   "outputs": [],
   "source": [
    "scores[\"NLSVM\"] = [train_score_NLSVM, 0.81023]"
   ]
  },
  {
   "cell_type": "markdown",
   "metadata": {},
   "source": [
    "______________________________________________________________________________________________________________\n",
    " **Mini conclu**:\n",
    " \n",
    "Finalement ici les meilleures techniques semblent être LDA pour la multiclass et NLSVM pour la binary class classification\n",
    "Je viens de tester certains algorithmes sur des features imples afin de me faire une idée de ce qui fonctionne bien, maintentant il faut améliorer les résultats.\n",
    "\n",
    "Il faudrait tester la prédition de l'algorithme avec des méthodes d'ensemble, cela pourrait réduire la variance et peut-être l'overfitting.\n",
    "\n",
    "De plus, jusqu'ici on n'avait pas de vue sur ce que l'on faisait car on n'a pas accès aux classifications du testset, ainsi par la suite on va séparer le trainset en un mini trainset et un mini testset pour voir le comportement des prédictions surtout pour la classification binaire afin de determiner si il y a des biais (faux positifs et faux negatifs). J'utiliserais alors les scores recommandés :  Matthews correlation coefficient et Weighted Categorization Accuracy pour la cross validation.\n",
    "\n",
    "Enfin, ici les features peuvent être améliorées, c'est que je vais faire, mais toujours sans résaux de neurones.\n",
    "______________________________________________________________________________________________________________"
   ]
  },
  {
   "cell_type": "markdown",
   "metadata": {},
   "source": [
    "# <u>III - Modèles à partir des deuxièmes features</u>\n",
    "**Creation des features**"
   ]
  },
  {
   "cell_type": "code",
   "execution_count": 39,
   "metadata": {},
   "outputs": [],
   "source": [
    "from skimage.measure import regionprops\n",
    "\n",
    "\n",
    "def norm_grad(im):\n",
    "    sobelx = cv2.Sobel(im, cv2.CV_64F, 1, 0, ksize=5)\n",
    "    sobely = cv2.Sobel(im, cv2.CV_64F, 0, 1, ksize=5)\n",
    "    return(sobelx**2 + sobely**2)**0.5\n",
    "\n",
    "\n",
    "\n",
    "def features2(im, segCyt, segNuc):\n",
    "    sumN = np.sum(segNuc)\n",
    "    features = []\n",
    "    #  ratio and areas\n",
    "    features.append(np.sum(segCyt))\n",
    "    features.append(np.sum(segNuc))\n",
    "    features.append(np.sum(segNuc)/np.sum(segCyt))\n",
    "    \n",
    "    # relative position\n",
    "    cCyt = regionprops(segCyt)[0].centroid\n",
    "    if sumN!=0:\n",
    "        cNuc = regionprops(segNuc)[0].centroid\n",
    "    else:\n",
    "        cNuc = (0,0)\n",
    "    features.append(cCyt[0]-cNuc[0])  # decalage en x\n",
    "    features.append(cCyt[1]-cNuc[1])  # decalage en y\n",
    "    \n",
    "    # eccentricity\n",
    "    features.append(regionprops(segCyt)[0].eccentricity)\n",
    "    if sumN !=0:\n",
    "        features.append(regionprops(segNuc)[0].eccentricity)\n",
    "    else :\n",
    "        features.append(0)\n",
    "    \n",
    "    # major_axis_length\n",
    "    features.append(regionprops(segCyt)[0].major_axis_length)\n",
    "    if sumN !=0:\n",
    "        features.append(regionprops(segNuc)[0].major_axis_length)\n",
    "    else :\n",
    "        features.append(0)\n",
    "    \n",
    "    # minor_axis_length\n",
    "    features.append(regionprops(segCyt)[0].minor_axis_length)\n",
    "    if sumN !=0:\n",
    "        features.append(regionprops(segNuc)[0].minor_axis_length)\n",
    "    else :\n",
    "        features.append(0)\n",
    "    \n",
    "    # perimeter\n",
    "    features.append(regionprops(segCyt)[0].perimeter)\n",
    "    if sumN !=0:\n",
    "        features.append(regionprops(segNuc)[0].perimeter)\n",
    "    else :\n",
    "        features.append(0)\n",
    "    \n",
    "    # orientation\n",
    "    features.append(regionprops(segCyt)[0].orientation)\n",
    "    if sumN !=0:\n",
    "        features.append(regionprops(segNuc)[0].orientation)\n",
    "    else :\n",
    "        features.append(0)\n",
    "    \n",
    "    if sumN !=0:\n",
    "        contours_Cyt = find_contours(segCyt,0.5)\n",
    "        contours_Nuc = find_contours(segNuc,0.5)\n",
    "        tension1 = np.gradient(contours_Cyt[0],axis=0)\n",
    "        tension2 = np.gradient(contours_Nuc[0],axis=0)\n",
    "        features.append(np.abs(tension1).mean())\n",
    "        features.append(np.abs(tension2).mean())\n",
    "    \n",
    "        courbure1 = np.gradient(tension1,axis=0)\n",
    "        courbure2 = np.gradient(tension2,axis=0)\n",
    "        features.append(np.abs(courbure1).mean())\n",
    "        features.append(np.abs(courbure2).mean())\n",
    "    else : \n",
    "        features.append(0)\n",
    "        features.append(0)\n",
    "        features.append(0)\n",
    "        features.append(0)\n",
    "    \n",
    "    \n",
    "    for i in range(3):\n",
    "        channel = cv2.equalizeHist(im[:,:,i])\n",
    "        # average intensity\n",
    "        av_Cyt = (channel*segCyt).mean()\n",
    "        av_Nuc = (channel*segNuc).mean()\n",
    "        features.append(av_Cyt)\n",
    "        features.append(av_Nuc)\n",
    "        \n",
    "        # standard deviation \n",
    "        std_Cyt = (channel*segCyt).std()\n",
    "        std_Nuc = (channel*segNuc).std()\n",
    "        features.append(std_Cyt)\n",
    "        features.append(std_Nuc)\n",
    "        \n",
    "        # gradient\n",
    "        grad_Cyt = norm_grad(channel*segCyt).mean()\n",
    "        grad_Nuc = norm_grad(channel*segNuc).mean()\n",
    "        features.append(grad_Cyt)\n",
    "        features.append(grad_Nuc)\n",
    "        \n",
    "        # max and min intensity\n",
    "        features.append(np.max(channel*segCyt))\n",
    "        features.append(np.max(channel*segNuc))\n",
    "        features.append(np.min(channel*segCyt))\n",
    "        features.append(np.min(channel*segNuc))\n",
    "        \n",
    "        \n",
    "    return features"
   ]
  },
  {
   "cell_type": "code",
   "execution_count": 40,
   "metadata": {},
   "outputs": [],
   "source": [
    "X_train2 = []\n",
    "for i in range(N):\n",
    "    X_train2.append(features2(Images_train[i],Images_segCyt_train[i],Images_segNuc_train[i]))"
   ]
  },
  {
   "cell_type": "code",
   "execution_count": 41,
   "metadata": {},
   "outputs": [],
   "source": [
    "X_train2 = np.array(X_train2)\n",
    "pd.DataFrame(X_train2).to_csv(Working_directory + \"features_train2.csv\", index=None)"
   ]
  },
  {
   "cell_type": "code",
   "execution_count": 42,
   "metadata": {},
   "outputs": [],
   "source": [
    "X_test2 = []\n",
    "for i in range(M):\n",
    "    X_test2.append(features2(Images_test[i],Images_segCyt_test[i],Images_segNuc_test[i]))"
   ]
  },
  {
   "cell_type": "code",
   "execution_count": 43,
   "metadata": {},
   "outputs": [],
   "source": [
    "X_test2 = np.array(X_test2)\n",
    "pd.DataFrame(X_test2).to_csv(Working_directory + \"features_test2.csv\", index=None)"
   ]
  },
  {
   "cell_type": "markdown",
   "metadata": {},
   "source": [
    "_____________________________________\n",
    "**Entrainement**\n"
   ]
  },
  {
   "cell_type": "code",
   "execution_count": 44,
   "metadata": {},
   "outputs": [],
   "source": [
    "# Import data\n",
    "X_traindf = pd.read_csv(Working_directory + 'features_train2.csv')\n",
    "X_testdf = pd.read_csv(Working_directory + 'features_test2.csv')\n",
    "\n",
    "X_train = X_traindf[X_traindf.columns[:]].values\n",
    "X_test = X_testdf[X_testdf.columns[:]].values"
   ]
  },
  {
   "cell_type": "code",
   "execution_count": 45,
   "metadata": {},
   "outputs": [],
   "source": [
    "# Suffle data\n",
    "\n",
    "i=np.random.randint(100)\n",
    "np.random.seed(i)\n",
    "Xp=np.random.permutation(X_train)\n",
    "\n",
    "np.random.seed(i)\n",
    "yp=np.random.permutation(y_train)\n",
    "\n",
    "np.random.seed(i)\n",
    "yp_bis=np.random.permutation(y_train_bis)\n",
    "\n",
    "np.random.seed(i)\n",
    "idsp=np.random.permutation(id_train)\n",
    "\n",
    "\n",
    "# Normalize data\n",
    "normalizer2 = MinMaxScaler()\n",
    "normalizer2.fit(Xp)\n",
    "X_train_n = normalizer2.transform(Xp)\n",
    "X_test_n = normalizer2.transform(X_test)"
   ]
  },
  {
   "cell_type": "code",
   "execution_count": 46,
   "metadata": {},
   "outputs": [],
   "source": [
    "# split mini trainset min testset\n",
    "\n",
    "miniX_train, miniX_test, my_train, my_test = train_test_split(Xp, yp, test_size=0.2)\n",
    "miniX_train_bis, miniX_test_bis, my_train_bis, my_test_bis = train_test_split(Xp, yp_bis, test_size=0.2)\n",
    "\n",
    "mininormalizer = MinMaxScaler()\n",
    "mininormalizer.fit(miniX_train)\n",
    "mX_train = mininormalizer.transform(miniX_train)\n",
    "mX_test = mininormalizer.transform(miniX_test)\n",
    "\n",
    "mininormalizer = MinMaxScaler()\n",
    "mininormalizer.fit(miniX_train_bis)\n",
    "mX_train_bis = mininormalizer.transform(miniX_train_bis)\n",
    "mX_test_bis = mininormalizer.transform(miniX_test_bis)"
   ]
  },
  {
   "cell_type": "markdown",
   "metadata": {},
   "source": [
    "## III.1 - NLSVM"
   ]
  },
  {
   "cell_type": "code",
   "execution_count": 48,
   "metadata": {},
   "outputs": [
    {
     "name": "stdout",
     "output_type": "stream",
     "text": [
      "Best mini training params: {'C': 10, 'gamma': 1}\n",
      "Mini training mcc score : 0.9609612620770825\n",
      "Mini testing mcc score : 0.9179288771965108\n"
     ]
    },
    {
     "data": {
      "image/png": "[encoded data removed]",
      "text/plain": [
       "<Figure size 432x288 with 2 Axes>"
      ]
     },
     "metadata": {
      "needs_background": "light"
     },
     "output_type": "display_data"
    }
   ],
   "source": [
    "warnings.filterwarnings(\"ignore\")\n",
    "\n",
    "p_grid_nlsvm = {'C': [0.001, 0.01, 0.1, 1, 10, 100],\n",
    "              'gamma': [0.001, 0.01, 0.1, 1, 10, 100], }\n",
    "NLsvm = SVC(kernel='rbf')\n",
    "grid_nlsvm = GridSearchCV(estimator= NLsvm,param_grid=p_grid_nlsvm, scoring=make_scorer(mcc), cv=5 )\n",
    "grid_nlsvm.fit(mX_train, my_train)\n",
    "my_pred_nlsvm = grid_nlsvm.predict(mX_test)\n",
    "\n",
    "\n",
    "print(\"Best mini training params: {}\".format(grid_nlsvm.best_params_))\n",
    "print(\"Mini training mcc score :\", mcc(grid_nlsvm.predict(mX_train), my_train))\n",
    "print(\"Mini testing mcc score :\", mcc(grid_nlsvm.predict(mX_test), my_test))\n",
    "\n",
    "\n",
    "plot_cm(my_test, my_pred_nlsvm)"
   ]
  },
  {
   "cell_type": "code",
   "execution_count": 50,
   "metadata": {},
   "outputs": [
    {
     "name": "stdout",
     "output_type": "stream",
     "text": [
      "Mcc training score : 0.9653748762127792\n"
     ]
    }
   ],
   "source": [
    "NLsvm = SVC(kernel='rbf', C=grid_nlsvm.best_params_[\"C\"], gamma=grid_nlsvm.best_params_[\"gamma\"])\n",
    "NLsvm.fit(X_train_n, yp)\n",
    "train_score_nlsvm2 = mcc(NLsvm.predict(X_train_n), yp)\n",
    "\n",
    "print(\"Mcc training score :\", train_score_nlsvm2)\n",
    "y_pred_nlsvm = NLsvm.predict(X_test_n)\n",
    "\n",
    "submission_nlsvm = pd.DataFrame()\n",
    "submission_nlsvm[\"ID\"] = id_test\n",
    "submission_nlsvm[\"ABNORMAL\"] = y_pred_nlsvm\n",
    "submission_nlsvm.to_csv(Working_directory + \"submission_nlsvm2.csv\",index=False)"
   ]
  },
  {
   "cell_type": "markdown",
   "metadata": {},
   "source": [
    "Résultat : 0.80884"
   ]
  },
  {
   "cell_type": "code",
   "execution_count": 51,
   "metadata": {},
   "outputs": [],
   "source": [
    "scores[\"NLSVM2\"] = [train_score_nlsvm2, 0.80884]"
   ]
  },
  {
   "cell_type": "markdown",
   "metadata": {},
   "source": [
    "## III.2 - LDA - Multiclass classification"
   ]
  },
  {
   "cell_type": "code",
   "execution_count": 55,
   "metadata": {},
   "outputs": [
    {
     "name": "stdout",
     "output_type": "stream",
     "text": [
      "Mini training f1 score : 0.7248802056575379\n",
      "Mini testing f1 score : 0.6957147036642779\n"
     ]
    },
    {
     "data": {
      "image/png": "[encoded data removed]",
      "text/plain": [
       "<Figure size 432x288 with 2 Axes>"
      ]
     },
     "metadata": {
      "needs_background": "light"
     },
     "output_type": "display_data"
    }
   ],
   "source": [
    "lda = LinearDiscriminantAnalysis()\n",
    "lda.fit(mX_train_bis, my_train_bis)\n",
    "my_pred_lda_bis = lda.predict(mX_test_bis)\n",
    "\n",
    "print(\"Mini training f1 score :\", f1_score(lda.predict(mX_train_bis), my_train_bis, average=\"macro\"))\n",
    "print(\"Mini testing f1 score :\", f1_score(lda.predict(mX_test_bis), my_test_bis, average=\"macro\"))\n",
    "\n",
    "\n",
    "plot_cm(my_test_bis, my_pred_lda_bis)"
   ]
  },
  {
   "cell_type": "code",
   "execution_count": 56,
   "metadata": {},
   "outputs": [
    {
     "name": "stdout",
     "output_type": "stream",
     "text": [
      "f1 training score : 0.7239981636634982\n"
     ]
    }
   ],
   "source": [
    "lda = LinearDiscriminantAnalysis()\n",
    "lda.fit(X_train_n, yp_bis)\n",
    "train_score_lda_bis2 = f1_score(lda.predict(X_train_n),yp_bis,average=\"macro\")\n",
    "\n",
    "print(\"f1 training score :\", train_score_lda_bis2)\n",
    "\n",
    "y_pred_lda_bis = lda.predict(X_test_n)\n",
    "submission_lda_bis = pd.DataFrame()\n",
    "submission_lda_bis[\"ID\"] = id_test\n",
    "submission_lda_bis[\"GROUP\"] = y_pred_lda_bis\n",
    "submission_lda_bis.to_csv(Working_directory + \"submission_lda2_bis.csv\", index=False)"
   ]
  },
  {
   "cell_type": "markdown",
   "metadata": {},
   "source": [
    "Résultat : 0.70684"
   ]
  },
  {
   "cell_type": "code",
   "execution_count": 57,
   "metadata": {},
   "outputs": [],
   "source": [
    "scores_bis[\"LDA2\"] = [train_score_lda_bis2, 0.70684]"
   ]
  },
  {
   "cell_type": "markdown",
   "metadata": {},
   "source": [
    "## III.3 - NLSVM One versus rest - Multiclass classification"
   ]
  },
  {
   "cell_type": "code",
   "execution_count": 59,
   "metadata": {},
   "outputs": [
    {
     "name": "stdout",
     "output_type": "stream",
     "text": [
      "Mini training f1 score : 0.8581321339811738\n",
      "Mini testing f1 score : 0.7182312003765675\n"
     ]
    },
    {
     "data": {
      "image/png": "[encoded data removed]",
      "text/plain": [
       "<Figure size 432x288 with 2 Axes>"
      ]
     },
     "metadata": {
      "needs_background": "light"
     },
     "output_type": "display_data"
    }
   ],
   "source": [
    "p_grid_ovr = {'C': [0.001, 0.01, 0.1, 1, 10, 100],\n",
    "              'gamma': [0.001, 0.01, 0.1, 1, 10, 100], }\n",
    "\n",
    "OVR = SVC(kernel='rbf', decision_function_shape='ovr')\n",
    "grid_ovr = GridSearchCV(estimator= OVR, param_grid=p_grid_ovr, scoring=\"f1_weighted\", cv=5)\n",
    "grid_ovr.fit(mX_train_bis, my_train_bis)\n",
    "my_pred_ovr = grid_ovr.predict(mX_test_bis)\n",
    "\n",
    "print(\"Mini training f1 score :\", f1_score(grid_ovr.predict(mX_train_bis), my_train_bis, average=\"macro\"))\n",
    "print(\"Mini testing f1 score :\", f1_score(grid_ovr.predict(mX_test_bis), my_test_bis, average=\"macro\"))\n",
    "\n",
    "my_pred_ovr = grid_ovr.predict(mX_test_bis)\n",
    "\n",
    "plot_cm(my_test_bis, my_pred_ovr)"
   ]
  },
  {
   "cell_type": "code",
   "execution_count": 60,
   "metadata": {},
   "outputs": [
    {
     "name": "stdout",
     "output_type": "stream",
     "text": [
      "F1 training score : 0.837680426239618\n"
     ]
    }
   ],
   "source": [
    "OVR = SVC(kernel='rbf', decision_function_shape='ovr', C=grid_ovr.best_params_[\"C\"], gamma=grid_ovr.best_params_[\"gamma\"])\n",
    "OVR.fit(X_train_n, yp_bis)\n",
    "train_score_ovr_bis2 = f1_score(OVR.predict(X_train_n), yp_bis,average=\"macro\")\n",
    "\n",
    "print(\"F1 training score :\", train_score_ovr_bis2)\n",
    "\n",
    "y_pred_ovr = OVR.predict(X_test_n)\n",
    "submission_ovr = pd.DataFrame()\n",
    "submission_ovr[\"ID\"] = id_test\n",
    "submission_ovr[\"GROUP\"] = y_pred_ovr\n",
    "submission_ovr.to_csv(Working_directory + \"submission_ovr2.csv\",index=False)"
   ]
  },
  {
   "cell_type": "markdown",
   "metadata": {},
   "source": [
    "Résultat : 0.69823"
   ]
  },
  {
   "cell_type": "code",
   "execution_count": 61,
   "metadata": {},
   "outputs": [],
   "source": [
    "scores_bis[\"SVM_OvR_2\"] = [train_score_ovr_bis2, 0.69823]"
   ]
  },
  {
   "cell_type": "markdown",
   "metadata": {},
   "source": [
    "## III.4 - Random Forest"
   ]
  },
  {
   "cell_type": "markdown",
   "metadata": {},
   "source": [
    "### Binary classification"
   ]
  },
  {
   "cell_type": "code",
   "execution_count": 65,
   "metadata": {},
   "outputs": [
    {
     "name": "stdout",
     "output_type": "stream",
     "text": [
      "Mini best training params: {'max_features': 'sqrt', 'min_samples_leaf': 2, 'n_estimators': 100}\n",
      "Mini training score : 0.9973968435901831\n",
      "Mini testing score : 0.885762243386165\n"
     ]
    },
    {
     "data": {
      "image/png": "[encoded data removed]",
      "text/plain": [
       "<Figure size 432x288 with 2 Axes>"
      ]
     },
     "metadata": {
      "needs_background": "light"
     },
     "output_type": "display_data"
    }
   ],
   "source": [
    "from sklearn.ensemble import RandomForestClassifier\n",
    "RF = RandomForestClassifier()\n",
    "p_grid_RF = {'n_estimators': [10,20,30,50, 100, 150], 'min_samples_leaf': [2,3,4,5,6,7,8,9,10], 'max_features': ['sqrt','log2']}   \n",
    "\n",
    "grid_RF = GridSearchCV(estimator=RF, param_grid=p_grid_RF, scoring=make_scorer(mcc), cv=5)\n",
    "grid_RF.fit(mX_train, my_train)\n",
    "my_pred_RF = grid_RF.predict(mX_test)\n",
    "\n",
    "\n",
    "print(\"Mini best training params: {}\".format(grid_RF.best_params_))\n",
    "print(\"Mini training score :\", mcc(grid_RF.predict(mX_train), my_train))\n",
    "print(\"Mini testing score :\", mcc(my_pred_RF, my_test))\n",
    "\n",
    "\n",
    "\n",
    "plot_cm(my_test, my_pred_RF)"
   ]
  },
  {
   "cell_type": "code",
   "execution_count": 66,
   "metadata": {},
   "outputs": [
    {
     "name": "stdout",
     "output_type": "stream",
     "text": [
      "Mcc training score : 0.9930768897312089\n"
     ]
    }
   ],
   "source": [
    "max_features = grid_RF.best_params_[\"max_features\"]\n",
    "min_samples_leaf = grid_RF.best_params_[\"min_samples_leaf\"]\n",
    "n_estimators = grid_RF.best_params_[\"n_estimators\"]\n",
    "\n",
    "RF = RandomForestClassifier(max_features=max_features, min_samples_leaf=min_samples_leaf,\n",
    "                            n_estimators=n_estimators) \n",
    "RF.fit(X_train_n, yp)\n",
    "train_score_RF2 = mcc(RF.predict(X_train_n), yp)\n",
    "\n",
    "print(\"Mcc training score :\", train_score_RF2)\n",
    "\n",
    "\n",
    "y_pred_RF = RF.predict(X_test_n)\n",
    "submission_RF = pd.DataFrame()\n",
    "submission_RF[\"ID\"] = id_test\n",
    "submission_RF[\"ABNORMAL\"] = y_pred_RF\n",
    "submission_RF.to_csv(Working_directory + \"submission_RF2.csv\",index=False)"
   ]
  },
  {
   "cell_type": "code",
   "execution_count": 71,
   "metadata": {},
   "outputs": [],
   "source": [
    "scores[\"RF2\"] = [train_score_RF2, 0.80121]"
   ]
  },
  {
   "cell_type": "markdown",
   "metadata": {},
   "source": [
    "Résultat :0.80121"
   ]
  },
  {
   "cell_type": "markdown",
   "metadata": {},
   "source": [
    "### Multi class"
   ]
  },
  {
   "cell_type": "code",
   "execution_count": 68,
   "metadata": {},
   "outputs": [
    {
     "name": "stdout",
     "output_type": "stream",
     "text": [
      "Best mini training params: {'max_features': 'sqrt', 'min_samples_leaf': 2, 'n_estimators': 150}\n",
      "Mini training f1 score : 0.9973558028369615\n",
      "Mini testing f1 score : 0.6846193106558355\n"
     ]
    },
    {
     "data": {
      "image/png": "[encoded data removed]",
      "text/plain": [
       "<Figure size 432x288 with 2 Axes>"
      ]
     },
     "metadata": {
      "needs_background": "light"
     },
     "output_type": "display_data"
    }
   ],
   "source": [
    "RF = RandomForestClassifier()\n",
    "p_grid_RF2 = {'n_estimators': [10,20,30,50, 100, 150], 'min_samples_leaf': [2,3,4,5,6,7,8,9,10],\n",
    "              'max_features': ['sqrt','log2']}   \n",
    "\n",
    "grid_RF2 = GridSearchCV(estimator=RF, param_grid=p_grid_RF, scoring=\"f1_weighted\", cv=5)\n",
    "grid_RF2.fit(mX_train_bis, my_train_bis)\n",
    "my_pred_RF2 = grid_RF2.predict(mX_test_bis)\n",
    "\n",
    "print(\"Best mini training params: {}\".format(grid_RF2.best_params_))\n",
    "print(\"Mini training f1 score :\", f1_score(grid_RF2.predict(mX_train_bis), my_train_bis, average=\"macro\"))\n",
    "print(\"Mini testing f1 score :\", f1_score(grid_RF2.predict(mX_test_bis), my_test_bis, average=\"macro\"))\n",
    "\n",
    "plot_cm(my_test_bis, my_pred_RF2)"
   ]
  },
  {
   "cell_type": "code",
   "execution_count": 69,
   "metadata": {},
   "outputs": [
    {
     "name": "stdout",
     "output_type": "stream",
     "text": [
      "F1 training score : 0.9976792140272678\n"
     ]
    }
   ],
   "source": [
    "max_features2 = grid_RF2.best_params_[\"max_features\"]\n",
    "min_samples_leaf2 = grid_RF2.best_params_[\"min_samples_leaf\"]\n",
    "n_estimators2 = grid_RF2.best_params_[\"n_estimators\"]\n",
    "\n",
    "RF = RandomForestClassifier(max_features=max_features2, min_samples_leaf=min_samples_leaf2,\n",
    "                            n_estimators=n_estimators2) \n",
    "RF.fit(X_train_n, yp_bis)\n",
    "y_pred_RF_bis = RF.predict(X_test_n)\n",
    "train_score_RF_bis2 = f1_score(RF.predict(X_train_n), yp_bis, average=\"macro\")\n",
    "\n",
    "print(\"F1 training score :\", train_score_RF_bis2)\n",
    "\n",
    "submission_RF_bis = pd.DataFrame()\n",
    "submission_RF_bis[\"ID\"] = id_test\n",
    "submission_RF_bis[\"GROUP\"] = y_pred_RF_bis\n",
    "submission_RF_bis.to_csv(Working_directory + \"submission_RF2_bis.csv\",index=False)"
   ]
  },
  {
   "cell_type": "markdown",
   "metadata": {},
   "source": [
    "Résultat : 0.67171"
   ]
  },
  {
   "cell_type": "code",
   "execution_count": 72,
   "metadata": {},
   "outputs": [],
   "source": [
    "scores_bis[\"RF2\"] = [train_score_RF_bis2, 0.67171]"
   ]
  },
  {
   "cell_type": "markdown",
   "metadata": {},
   "source": [
    "## III.5 - Ada Boost\n",
    "### Binary classification"
   ]
  },
  {
   "cell_type": "code",
   "execution_count": 76,
   "metadata": {},
   "outputs": [
    {
     "name": "stdout",
     "output_type": "stream",
     "text": [
      "Mini best training params: {'n_estimators': 200}\n",
      "Mini training score : 0.9558592334571093\n",
      "Mini testing score : 0.8416303304743032\n"
     ]
    },
    {
     "data": {
      "image/png": "[encoded data removed]",
      "text/plain": [
       "<Figure size 432x288 with 2 Axes>"
      ]
     },
     "metadata": {
      "needs_background": "light"
     },
     "output_type": "display_data"
    }
   ],
   "source": [
    "Ada = AdaBoostClassifier()\n",
    "p_grid_Ada = {'n_estimators': [20, 30, 50, 100, 150, 200]}   \n",
    "grid_Ada = GridSearchCV(estimator=Ada, param_grid=p_grid_Ada, scoring=make_scorer(mcc), cv=5)\n",
    "grid_Ada.fit(mX_train, my_train)\n",
    "my_pred_Ada = grid_Ada.predict(mX_test)\n",
    "\n",
    "\n",
    "print(\"Mini best training params: {}\".format(grid_Ada.best_params_))\n",
    "print(\"Mini training score :\", mcc(grid_Ada.predict(mX_train), my_train))\n",
    "print(\"Mini testing score :\", mcc(my_pred_Ada, my_test))\n",
    "\n",
    "\n",
    "plot_cm(my_test, my_pred_Ada)"
   ]
  },
  {
   "cell_type": "code",
   "execution_count": 77,
   "metadata": {},
   "outputs": [
    {
     "name": "stdout",
     "output_type": "stream",
     "text": [
      "Mcc training score : 0.9397984073235843\n"
     ]
    }
   ],
   "source": [
    "Ada = AdaBoostClassifier(n_estimators=grid_Ada.best_params_[\"n_estimators\"]) \n",
    "Ada.fit(X_train_n, yp)\n",
    "y_pred_ada = Ada.predict(X_test_n)\n",
    "\n",
    "\n",
    "train_score_ada2 = mcc(Ada.predict(X_train_n), yp)\n",
    "\n",
    "print(\"Mcc training score :\", train_score_ada2)\n",
    "\n",
    "submission_ada = pd.DataFrame()\n",
    "submission_ada[\"ID\"] = id_test\n",
    "submission_ada[\"ABNORMAL\"] = y_pred_ada\n",
    "submission_ada.to_csv(Working_directory + \"submission_Ada_cv2.2csv\",index=False)"
   ]
  },
  {
   "cell_type": "markdown",
   "metadata": {},
   "source": [
    "Résultat : 0.78634"
   ]
  },
  {
   "cell_type": "code",
   "execution_count": 78,
   "metadata": {},
   "outputs": [],
   "source": [
    "scores[\"AdaBoost2\"] = [train_score_ada2, 0.78634]"
   ]
  },
  {
   "cell_type": "markdown",
   "metadata": {},
   "source": [
    "### Multiclass"
   ]
  },
  {
   "cell_type": "code",
   "execution_count": 79,
   "metadata": {},
   "outputs": [
    {
     "name": "stdout",
     "output_type": "stream",
     "text": [
      "Best mini validation score: 0.36929134167120814\n",
      "Best mini training params: {'n_estimators': 100}\n",
      "Mini testing score : 0.34640844748898864\n"
     ]
    },
    {
     "data": {
      "image/png": "[encoded data removed]",
      "text/plain": [
       "<Figure size 432x288 with 2 Axes>"
      ]
     },
     "metadata": {
      "needs_background": "light"
     },
     "output_type": "display_data"
    }
   ],
   "source": [
    "Ada = AdaBoostClassifier()\n",
    "p_grid_Ada_bis = {'n_estimators': [20, 30, 50, 100, 150, 200]}   \n",
    "grid_Ada_bis = GridSearchCV(estimator=Ada, param_grid=p_grid_Ada_bis, scoring=\"f1_weighted\", cv=5)\n",
    "grid_Ada_bis.fit(mX_train_bis, my_train_bis)\n",
    "print(\"Best mini validation score: {}\".format(grid_Ada_bis.best_score_))\n",
    "print(\"Best mini training params: {}\".format(grid_Ada_bis.best_params_))\n",
    "print(\"Mini testing score :\", grid_Ada_bis.score(mX_test_bis, my_test_bis))\n",
    "my_pred_Ada_bis = grid_Ada_bis.predict(mX_test_bis)\n",
    "\n",
    "plot_cm(my_test_bis, my_pred_Ada_bis)"
   ]
  },
  {
   "cell_type": "markdown",
   "metadata": {},
   "source": [
    "_____________________________________________________\n",
    "## III.6 - MLP sur les features \n",
    "### Binary"
   ]
  },
  {
   "cell_type": "code",
   "execution_count": 82,
   "metadata": {},
   "outputs": [
    {
     "name": "stdout",
     "output_type": "stream",
     "text": [
      "Training\n",
      "Epoch 1/30\n",
      "30/30 - 3s - loss: 0.4782 - accuracy: 0.8107\n",
      "Epoch 2/30\n",
      "30/30 - 0s - loss: 0.4061 - accuracy: 0.8881\n",
      "Epoch 3/30\n",
      "30/30 - 0s - loss: 0.3688 - accuracy: 0.9295\n",
      "Epoch 4/30\n",
      "30/30 - 0s - loss: 0.3469 - accuracy: 0.9486\n",
      "Epoch 5/30\n",
      "30/30 - 0s - loss: 0.3376 - accuracy: 0.9493\n",
      "Epoch 6/30\n",
      "30/30 - 0s - loss: 0.3213 - accuracy: 0.9599\n",
      "Epoch 7/30\n",
      "30/30 - 0s - loss: 0.3140 - accuracy: 0.9610\n",
      "Epoch 8/30\n",
      "30/30 - 0s - loss: 0.3013 - accuracy: 0.9675\n",
      "Epoch 9/30\n",
      "30/30 - 0s - loss: 0.2887 - accuracy: 0.9750\n",
      "Epoch 10/30\n",
      "30/30 - 0s - loss: 0.2803 - accuracy: 0.9767\n",
      "Epoch 11/30\n",
      "30/30 - 0s - loss: 0.2755 - accuracy: 0.9754\n",
      "Epoch 12/30\n",
      "30/30 - 0s - loss: 0.2635 - accuracy: 0.9843\n",
      "Epoch 13/30\n",
      "30/30 - 0s - loss: 0.2571 - accuracy: 0.9832\n",
      "Epoch 14/30\n",
      "30/30 - 0s - loss: 0.2561 - accuracy: 0.9819\n",
      "Epoch 15/30\n",
      "30/30 - 0s - loss: 0.2446 - accuracy: 0.9849\n",
      "Epoch 16/30\n",
      "30/30 - 0s - loss: 0.2352 - accuracy: 0.9890\n",
      "Epoch 17/30\n",
      "30/30 - 0s - loss: 0.2288 - accuracy: 0.9914\n",
      "Epoch 18/30\n",
      "30/30 - 0s - loss: 0.2227 - accuracy: 0.9894\n",
      "Epoch 19/30\n",
      "30/30 - 0s - loss: 0.2167 - accuracy: 0.9921\n",
      "Epoch 20/30\n",
      "30/30 - 0s - loss: 0.2175 - accuracy: 0.9884\n",
      "Epoch 21/30\n",
      "30/30 - 0s - loss: 0.2085 - accuracy: 0.9942\n",
      "Epoch 22/30\n",
      "30/30 - 0s - loss: 0.2109 - accuracy: 0.9825\n",
      "Epoch 23/30\n",
      "30/30 - 0s - loss: 0.2080 - accuracy: 0.9853\n",
      "Epoch 24/30\n",
      "30/30 - 0s - loss: 0.1978 - accuracy: 0.9901\n",
      "Epoch 25/30\n",
      "30/30 - 0s - loss: 0.1896 - accuracy: 0.9928\n",
      "Epoch 26/30\n",
      "30/30 - 0s - loss: 0.1835 - accuracy: 0.9949\n",
      "Epoch 27/30\n",
      "30/30 - 0s - loss: 0.1833 - accuracy: 0.9938\n",
      "Epoch 28/30\n",
      "30/30 - 0s - loss: 0.1736 - accuracy: 0.9969\n",
      "Epoch 29/30\n",
      "30/30 - 0s - loss: 0.1753 - accuracy: 0.9935\n",
      "Epoch 30/30\n",
      "30/30 - 0s - loss: 0.1764 - accuracy: 0.9928\n"
     ]
    }
   ],
   "source": [
    "n_input = X_train_n.shape[1]  \n",
    "n_hidden1 = 200\n",
    "n_hidden2 = 200\n",
    "n_hidden3 = 100\n",
    "n_hidden4 = 100\n",
    "\n",
    "\n",
    "model_mlp = Sequential([Dense(n_hidden1, input_shape=(n_input,)),\n",
    "                        BatchNormalization(),\n",
    "                        Activation('relu'),\n",
    "                        Dense(n_hidden2, input_shape=(n_hidden1,)),\n",
    "                        BatchNormalization(),\n",
    "                        Activation('relu'),\n",
    "                        Dense(n_hidden3, input_shape=(n_hidden2,)),\n",
    "                        BatchNormalization(),\n",
    "                        Activation('relu'),\n",
    "                        Dense(1, input_shape=(n_hidden3,)),\n",
    "                        BatchNormalization(),\n",
    "                        Activation('sigmoid')]) \n",
    "\n",
    "\n",
    "learning_rate = 0.001\n",
    "model_mlp.compile(loss='binary_crossentropy', optimizer=optimizers.Adam(lr=learning_rate),metrics=[\"accuracy\"]) \n",
    "n_epochs = 30\n",
    "batch_size = 100\n",
    "\n",
    "print('Training')\n",
    "history = model_mlp.fit(X_train_n, yp, epochs=n_epochs, batch_size=batch_size, verbose=2)\n",
    "y_pred_mlp = (model_mlp.predict(X_test_n) > 0.5).astype(\"int32\")\n",
    "\n",
    "submission_mlp = pd.DataFrame()\n",
    "submission_mlp[\"ID\"] = id_test\n",
    "submission_mlp[\"ABNORMAL\"] = y_pred_mlp\n",
    "submission_mlp.to_csv(Working_directory + \"submission_mlp.csv\",index=False)"
   ]
  },
  {
   "cell_type": "markdown",
   "metadata": {},
   "source": [
    "Résultat : 0.84677"
   ]
  },
  {
   "cell_type": "code",
   "execution_count": 89,
   "metadata": {},
   "outputs": [],
   "source": [
    "scores[\"MLP\"] = [history.history['accuracy'][-1], 0.84677]"
   ]
  },
  {
   "cell_type": "markdown",
   "metadata": {},
   "source": [
    "### Multiclass"
   ]
  },
  {
   "cell_type": "code",
   "execution_count": 93,
   "metadata": {},
   "outputs": [
    {
     "name": "stdout",
     "output_type": "stream",
     "text": [
      "Training\n",
      "Epoch 1/150\n",
      "30/30 - 3s - loss: 1.3445 - accuracy: 0.6197\n",
      "Epoch 2/150\n",
      "30/30 - 0s - loss: 0.9543 - accuracy: 0.7912\n",
      "Epoch 3/150\n",
      "30/30 - 0s - loss: 0.8422 - accuracy: 0.8288\n",
      "Epoch 4/150\n",
      "30/30 - 0s - loss: 0.7830 - accuracy: 0.8381\n",
      "Epoch 5/150\n",
      "30/30 - 0s - loss: 0.7272 - accuracy: 0.8579\n",
      "Epoch 6/150\n",
      "30/30 - 0s - loss: 0.6711 - accuracy: 0.8720\n",
      "Epoch 7/150\n",
      "30/30 - 0s - loss: 0.6359 - accuracy: 0.8857\n",
      "Epoch 8/150\n",
      "30/30 - 0s - loss: 0.6050 - accuracy: 0.8884\n",
      "Epoch 9/150\n",
      "30/30 - 0s - loss: 0.5652 - accuracy: 0.8980\n",
      "Epoch 10/150\n",
      "30/30 - 0s - loss: 0.5466 - accuracy: 0.9038\n",
      "Epoch 11/150\n",
      "30/30 - 0s - loss: 0.5044 - accuracy: 0.9161\n",
      "Epoch 12/150\n",
      "30/30 - 0s - loss: 0.4859 - accuracy: 0.9178\n",
      "Epoch 13/150\n",
      "30/30 - 0s - loss: 0.4797 - accuracy: 0.9089\n",
      "Epoch 14/150\n",
      "30/30 - 0s - loss: 0.4296 - accuracy: 0.9281\n",
      "Epoch 15/150\n",
      "30/30 - 0s - loss: 0.4129 - accuracy: 0.9332\n",
      "Epoch 16/150\n",
      "30/30 - 0s - loss: 0.3809 - accuracy: 0.9370\n",
      "Epoch 17/150\n",
      "30/30 - 0s - loss: 0.3665 - accuracy: 0.9415\n",
      "Epoch 18/150\n",
      "30/30 - 0s - loss: 0.3605 - accuracy: 0.9452\n",
      "Epoch 19/150\n",
      "30/30 - 0s - loss: 0.3433 - accuracy: 0.9476\n",
      "Epoch 20/150\n",
      "30/30 - 0s - loss: 0.3267 - accuracy: 0.9514\n",
      "Epoch 21/150\n",
      "30/30 - 0s - loss: 0.3039 - accuracy: 0.9558\n",
      "Epoch 22/150\n",
      "30/30 - 0s - loss: 0.2824 - accuracy: 0.9637\n",
      "Epoch 23/150\n",
      "30/30 - 0s - loss: 0.2760 - accuracy: 0.9651\n",
      "Epoch 24/150\n",
      "30/30 - 0s - loss: 0.2680 - accuracy: 0.9627\n",
      "Epoch 25/150\n",
      "30/30 - 0s - loss: 0.2748 - accuracy: 0.9565\n",
      "Epoch 26/150\n",
      "30/30 - 0s - loss: 0.2424 - accuracy: 0.9661\n",
      "Epoch 27/150\n",
      "30/30 - 0s - loss: 0.2304 - accuracy: 0.9716\n",
      "Epoch 28/150\n",
      "30/30 - 0s - loss: 0.2118 - accuracy: 0.9774\n",
      "Epoch 29/150\n",
      "30/30 - 0s - loss: 0.2422 - accuracy: 0.9630\n",
      "Epoch 30/150\n",
      "30/30 - 0s - loss: 0.2369 - accuracy: 0.9610\n",
      "Epoch 31/150\n",
      "30/30 - 0s - loss: 0.2169 - accuracy: 0.9706\n",
      "Epoch 32/150\n",
      "30/30 - 0s - loss: 0.2242 - accuracy: 0.9620\n",
      "Epoch 33/150\n",
      "30/30 - 0s - loss: 0.1855 - accuracy: 0.9808\n",
      "Epoch 34/150\n",
      "30/30 - 0s - loss: 0.1807 - accuracy: 0.9795\n",
      "Epoch 35/150\n",
      "30/30 - 0s - loss: 0.1826 - accuracy: 0.9767\n",
      "Epoch 36/150\n",
      "30/30 - 0s - loss: 0.1851 - accuracy: 0.9740\n",
      "Epoch 37/150\n",
      "30/30 - 0s - loss: 0.1603 - accuracy: 0.9836\n",
      "Epoch 38/150\n",
      "30/30 - 0s - loss: 0.1621 - accuracy: 0.9815\n",
      "Epoch 39/150\n",
      "30/30 - 0s - loss: 0.1745 - accuracy: 0.9736\n",
      "Epoch 40/150\n",
      "30/30 - 0s - loss: 0.1660 - accuracy: 0.9795\n",
      "Epoch 41/150\n",
      "30/30 - 0s - loss: 0.1421 - accuracy: 0.9853\n",
      "Epoch 42/150\n",
      "30/30 - 0s - loss: 0.1517 - accuracy: 0.9822\n",
      "Epoch 43/150\n",
      "30/30 - 0s - loss: 0.1390 - accuracy: 0.9846\n",
      "Epoch 44/150\n",
      "30/30 - 0s - loss: 0.1360 - accuracy: 0.9843\n",
      "Epoch 45/150\n",
      "30/30 - 0s - loss: 0.1441 - accuracy: 0.9832\n",
      "Epoch 46/150\n",
      "30/30 - 0s - loss: 0.1141 - accuracy: 0.9928\n",
      "Epoch 47/150\n",
      "30/30 - 0s - loss: 0.1292 - accuracy: 0.9839\n",
      "Epoch 48/150\n",
      "30/30 - 0s - loss: 0.1217 - accuracy: 0.9870\n",
      "Epoch 49/150\n",
      "30/30 - 0s - loss: 0.1091 - accuracy: 0.9908\n",
      "Epoch 50/150\n",
      "30/30 - 0s - loss: 0.1041 - accuracy: 0.9911\n",
      "Epoch 51/150\n",
      "30/30 - 0s - loss: 0.0937 - accuracy: 0.9945\n",
      "Epoch 52/150\n",
      "30/30 - 0s - loss: 0.1043 - accuracy: 0.9904\n",
      "Epoch 53/150\n",
      "30/30 - 0s - loss: 0.1523 - accuracy: 0.9733\n",
      "Epoch 54/150\n",
      "30/30 - 0s - loss: 0.1272 - accuracy: 0.9846\n",
      "Epoch 55/150\n",
      "30/30 - 0s - loss: 0.1134 - accuracy: 0.9849\n",
      "Epoch 56/150\n",
      "30/30 - 0s - loss: 0.0940 - accuracy: 0.9942\n",
      "Epoch 57/150\n",
      "30/30 - 0s - loss: 0.1082 - accuracy: 0.9887\n",
      "Epoch 58/150\n",
      "30/30 - 0s - loss: 0.0950 - accuracy: 0.9918\n",
      "Epoch 59/150\n",
      "30/30 - 0s - loss: 0.0933 - accuracy: 0.9921\n",
      "Epoch 60/150\n",
      "30/30 - 0s - loss: 0.0844 - accuracy: 0.9918\n",
      "Epoch 61/150\n",
      "30/30 - 0s - loss: 0.0784 - accuracy: 0.9952\n",
      "Epoch 62/150\n",
      "30/30 - 0s - loss: 0.1029 - accuracy: 0.9873\n",
      "Epoch 63/150\n",
      "30/30 - 0s - loss: 0.0996 - accuracy: 0.9880\n",
      "Epoch 64/150\n",
      "30/30 - 0s - loss: 0.1061 - accuracy: 0.9853\n",
      "Epoch 65/150\n",
      "30/30 - 0s - loss: 0.1171 - accuracy: 0.9812\n",
      "Epoch 66/150\n",
      "30/30 - 0s - loss: 0.1031 - accuracy: 0.9843\n",
      "Epoch 67/150\n",
      "30/30 - 0s - loss: 0.1216 - accuracy: 0.9791\n",
      "Epoch 68/150\n",
      "30/30 - 0s - loss: 0.0890 - accuracy: 0.9890\n",
      "Epoch 69/150\n",
      "30/30 - 0s - loss: 0.0800 - accuracy: 0.9942\n",
      "Epoch 70/150\n",
      "30/30 - 0s - loss: 0.0742 - accuracy: 0.9942\n",
      "Epoch 71/150\n",
      "30/30 - 0s - loss: 0.0779 - accuracy: 0.9925\n",
      "Epoch 72/150\n",
      "30/30 - 0s - loss: 0.0933 - accuracy: 0.9860\n",
      "Epoch 73/150\n",
      "30/30 - 0s - loss: 0.0906 - accuracy: 0.9877\n",
      "Epoch 74/150\n",
      "30/30 - 0s - loss: 0.0740 - accuracy: 0.9901\n",
      "Epoch 75/150\n",
      "30/30 - 0s - loss: 0.0669 - accuracy: 0.9945\n",
      "Epoch 76/150\n",
      "30/30 - 0s - loss: 0.0591 - accuracy: 0.9959\n",
      "Epoch 77/150\n",
      "30/30 - 0s - loss: 0.0614 - accuracy: 0.9955\n",
      "Epoch 78/150\n",
      "30/30 - 0s - loss: 0.0579 - accuracy: 0.9945\n",
      "Epoch 79/150\n",
      "30/30 - 0s - loss: 0.0969 - accuracy: 0.9788\n",
      "Epoch 80/150\n",
      "30/30 - 0s - loss: 0.0685 - accuracy: 0.9914\n",
      "Epoch 81/150\n",
      "30/30 - 0s - loss: 0.0775 - accuracy: 0.9880\n",
      "Epoch 82/150\n",
      "30/30 - 0s - loss: 0.0703 - accuracy: 0.9914\n",
      "Epoch 83/150\n",
      "30/30 - 0s - loss: 0.0707 - accuracy: 0.9918\n",
      "Epoch 84/150\n",
      "30/30 - 0s - loss: 0.0621 - accuracy: 0.9932\n",
      "Epoch 85/150\n",
      "30/30 - 0s - loss: 0.0538 - accuracy: 0.9949\n",
      "Epoch 86/150\n",
      "30/30 - 0s - loss: 0.0440 - accuracy: 0.9979\n",
      "Epoch 87/150\n",
      "30/30 - 0s - loss: 0.0460 - accuracy: 0.9962\n",
      "Epoch 88/150\n",
      "30/30 - 0s - loss: 0.0484 - accuracy: 0.9966\n",
      "Epoch 89/150\n",
      "30/30 - 0s - loss: 0.0661 - accuracy: 0.9914\n",
      "Epoch 90/150\n",
      "30/30 - 0s - loss: 0.0489 - accuracy: 0.9983\n",
      "Epoch 91/150\n",
      "30/30 - 0s - loss: 0.0423 - accuracy: 0.9983\n",
      "Epoch 92/150\n",
      "30/30 - 0s - loss: 0.0456 - accuracy: 0.9962\n",
      "Epoch 93/150\n",
      "30/30 - 0s - loss: 0.0533 - accuracy: 0.9921\n",
      "Epoch 94/150\n",
      "30/30 - 0s - loss: 0.0582 - accuracy: 0.9938\n",
      "Epoch 95/150\n",
      "30/30 - 0s - loss: 0.0461 - accuracy: 0.9962\n",
      "Epoch 96/150\n",
      "30/30 - 0s - loss: 0.0438 - accuracy: 0.9966\n",
      "Epoch 97/150\n",
      "30/30 - 0s - loss: 0.0401 - accuracy: 0.9973\n",
      "Epoch 98/150\n",
      "30/30 - 0s - loss: 0.0711 - accuracy: 0.9880\n",
      "Epoch 99/150\n",
      "30/30 - 0s - loss: 0.0770 - accuracy: 0.9843\n",
      "Epoch 100/150\n",
      "30/30 - 0s - loss: 0.0560 - accuracy: 0.9928\n",
      "Epoch 101/150\n",
      "30/30 - 0s - loss: 0.0462 - accuracy: 0.9945\n",
      "Epoch 102/150\n",
      "30/30 - 0s - loss: 0.0468 - accuracy: 0.9952\n",
      "Epoch 103/150\n",
      "30/30 - 0s - loss: 0.0530 - accuracy: 0.9921\n",
      "Epoch 104/150\n",
      "30/30 - 0s - loss: 0.0577 - accuracy: 0.9901\n",
      "Epoch 105/150\n",
      "30/30 - 0s - loss: 0.0449 - accuracy: 0.9949\n",
      "Epoch 106/150\n",
      "30/30 - 0s - loss: 0.0493 - accuracy: 0.9945\n",
      "Epoch 107/150\n",
      "30/30 - 0s - loss: 0.0363 - accuracy: 0.9969\n",
      "Epoch 108/150\n",
      "30/30 - 0s - loss: 0.0332 - accuracy: 0.9979\n",
      "Epoch 109/150\n",
      "30/30 - 0s - loss: 0.0358 - accuracy: 0.9976\n",
      "Epoch 110/150\n",
      "30/30 - 0s - loss: 0.0308 - accuracy: 0.9973\n",
      "Epoch 111/150\n",
      "30/30 - 0s - loss: 0.0344 - accuracy: 0.9973\n",
      "Epoch 112/150\n",
      "30/30 - 0s - loss: 0.0299 - accuracy: 0.9976\n",
      "Epoch 113/150\n",
      "30/30 - 0s - loss: 0.0394 - accuracy: 0.9955\n",
      "Epoch 114/150\n",
      "30/30 - 0s - loss: 0.0573 - accuracy: 0.9887\n",
      "Epoch 115/150\n",
      "30/30 - 0s - loss: 0.0450 - accuracy: 0.9914\n",
      "Epoch 116/150\n",
      "30/30 - 0s - loss: 0.0533 - accuracy: 0.9897\n",
      "Epoch 117/150\n",
      "30/30 - 0s - loss: 0.0459 - accuracy: 0.9945\n",
      "Epoch 118/150\n",
      "30/30 - 0s - loss: 0.0483 - accuracy: 0.9921\n",
      "Epoch 119/150\n",
      "30/30 - 0s - loss: 0.0463 - accuracy: 0.9935\n",
      "Epoch 120/150\n",
      "30/30 - 0s - loss: 0.0435 - accuracy: 0.9932\n",
      "Epoch 121/150\n",
      "30/30 - 0s - loss: 0.0499 - accuracy: 0.9904\n",
      "Epoch 122/150\n",
      "30/30 - 0s - loss: 0.0528 - accuracy: 0.9877\n",
      "Epoch 123/150\n",
      "30/30 - 0s - loss: 0.0572 - accuracy: 0.9918\n",
      "Epoch 124/150\n",
      "30/30 - 0s - loss: 0.0393 - accuracy: 0.9945\n",
      "Epoch 125/150\n",
      "30/30 - 0s - loss: 0.0353 - accuracy: 0.9966\n",
      "Epoch 126/150\n",
      "30/30 - 0s - loss: 0.0365 - accuracy: 0.9949\n",
      "Epoch 127/150\n",
      "30/30 - 0s - loss: 0.0550 - accuracy: 0.9887\n",
      "Epoch 128/150\n",
      "30/30 - 0s - loss: 0.0616 - accuracy: 0.9849\n",
      "Epoch 129/150\n",
      "30/30 - 0s - loss: 0.0558 - accuracy: 0.9901\n",
      "Epoch 130/150\n",
      "30/30 - 0s - loss: 0.0344 - accuracy: 0.9959\n",
      "Epoch 131/150\n",
      "30/30 - 0s - loss: 0.0297 - accuracy: 0.9976\n",
      "Epoch 132/150\n",
      "30/30 - 0s - loss: 0.0537 - accuracy: 0.9904\n",
      "Epoch 133/150\n",
      "30/30 - 0s - loss: 0.0337 - accuracy: 0.9962\n",
      "Epoch 134/150\n",
      "30/30 - 0s - loss: 0.0335 - accuracy: 0.9945\n",
      "Epoch 135/150\n",
      "30/30 - 0s - loss: 0.0280 - accuracy: 0.9966\n",
      "Epoch 136/150\n",
      "30/30 - 0s - loss: 0.0453 - accuracy: 0.9904\n",
      "Epoch 137/150\n",
      "30/30 - 0s - loss: 0.0369 - accuracy: 0.9942\n",
      "Epoch 138/150\n",
      "30/30 - 0s - loss: 0.0299 - accuracy: 0.9969\n",
      "Epoch 139/150\n",
      "30/30 - 0s - loss: 0.0283 - accuracy: 0.9973\n",
      "Epoch 140/150\n",
      "30/30 - 0s - loss: 0.0336 - accuracy: 0.9949\n",
      "Epoch 141/150\n",
      "30/30 - 0s - loss: 0.0639 - accuracy: 0.9846\n"
     ]
    },
    {
     "name": "stdout",
     "output_type": "stream",
     "text": [
      "Epoch 142/150\n",
      "30/30 - 0s - loss: 0.0390 - accuracy: 0.9942\n",
      "Epoch 143/150\n",
      "30/30 - 0s - loss: 0.0337 - accuracy: 0.9952\n",
      "Epoch 144/150\n",
      "30/30 - 0s - loss: 0.0381 - accuracy: 0.9949\n",
      "Epoch 145/150\n",
      "30/30 - 0s - loss: 0.0473 - accuracy: 0.9908\n",
      "Epoch 146/150\n",
      "30/30 - 0s - loss: 0.0251 - accuracy: 0.9983\n",
      "Epoch 147/150\n",
      "30/30 - 0s - loss: 0.0245 - accuracy: 0.9969\n",
      "Epoch 148/150\n",
      "30/30 - 0s - loss: 0.0360 - accuracy: 0.9942\n",
      "Epoch 149/150\n",
      "30/30 - 0s - loss: 0.0507 - accuracy: 0.9897\n",
      "Epoch 150/150\n",
      "30/30 - 0s - loss: 0.0316 - accuracy: 0.9959\n"
     ]
    }
   ],
   "source": [
    "n_input = X_train_n.shape[1]  # Number of input features\n",
    "n_hidden1 = 200\n",
    "n_hidden2 = 200\n",
    "n_hidden3 = 200 # Number of hidden nodes\n",
    "\n",
    "model_mlp_bis = Sequential([Dense(n_hidden1, input_shape=(n_input,)),\n",
    "                        BatchNormalization(),\n",
    "                        Activation('relu'),\n",
    "                        Dense(n_hidden2, input_shape=(n_hidden1,)),\n",
    "                        BatchNormalization(),\n",
    "                        Activation('relu'),\n",
    "                        Dense(n_hidden3, input_shape=(n_hidden2,)),\n",
    "                        BatchNormalization(),\n",
    "                        Activation('relu'),\n",
    "                        Dense(9, input_shape=(n_hidden3,)),\n",
    "                        BatchNormalization(),\n",
    "                        Activation('softmax')]) \n",
    "\n",
    "# create the loss and optimiser\n",
    "learning_rate = 0.001\n",
    "model_mlp_bis.compile(loss='categorical_crossentropy', optimizer=optimizers.Adam(lr=learning_rate),metrics=[\"accuracy\"]) # TO FILL IN\n",
    "# Run optimisation algorithm\n",
    "n_epochs = 150\n",
    "batch_size = 100\n",
    "\n",
    "print('Training')\n",
    "history = model_mlp_bis.fit(X_train_n, yp_bis, epochs=n_epochs, batch_size=batch_size, verbose=2)\n",
    "y_pred_mlp_bis = model_mlp_bis.predict_classes(X_test_n)\n",
    "submission_mlp_bis = pd.DataFrame()\n",
    "submission_mlp_bis[\"ID\"] = id_test\n",
    "submission_mlp_bis[\"GROUP\"] = y_pred_mlp_bis\n",
    "\n",
    "submission_mlp_bis.to_csv(Working_directory + \"submission_mlp_bis.csv\",index=False)"
   ]
  },
  {
   "cell_type": "markdown",
   "metadata": {},
   "source": [
    "Résultat : 0.66870"
   ]
  },
  {
   "cell_type": "code",
   "execution_count": 94,
   "metadata": {},
   "outputs": [],
   "source": [
    "scores_bis[\"MLP\"] = [history.history['accuracy'][-1], 0.66870]"
   ]
  },
  {
   "cell_type": "markdown",
   "metadata": {},
   "source": [
    "### MLP sans overfitting"
   ]
  },
  {
   "cell_type": "code",
   "execution_count": 63,
   "metadata": {},
   "outputs": [
    {
     "data": {
      "image/png": "[encoded data removed]",
      "text/plain": [
       "<Figure size 432x288 with 1 Axes>"
      ]
     },
     "metadata": {
      "needs_background": "light"
     },
     "output_type": "display_data"
    }
   ],
   "source": [
    "history = model_mlp.fit(X_train_n, to_categorical(yp), validation_split=0.33, epochs=100, batch_size=batch_size, verbose=0)\n",
    "\n",
    "plt.plot(history.history['accuracy'])\n",
    "plt.plot(history.history['val_accuracy'])\n",
    "plt.title('model accuracy')\n",
    "plt.ylabel('accuracy')\n",
    "plt.xlabel('epoch')\n",
    "plt.legend(['train', 'test'], loc='upper left')\n",
    "plt.show()"
   ]
  },
  {
   "cell_type": "markdown",
   "metadata": {},
   "source": [
    "**Nouveau MLP model**"
   ]
  },
  {
   "cell_type": "code",
   "execution_count": 90,
   "metadata": {},
   "outputs": [
    {
     "data": {
      "image/png": "[encoded data removed]",
      "text/plain": [
       "<Figure size 432x288 with 1 Axes>"
      ]
     },
     "metadata": {
      "needs_background": "light"
     },
     "output_type": "display_data"
    }
   ],
   "source": [
    "n_input = X_train_n.shape[1]  # Number of input features\n",
    "n_hidden = 250\n",
    "n_hidden2 = 100\n",
    "# Number of hidden nodes\n",
    "\n",
    "# create the model (using the sequential API)\n",
    "\n",
    "model_mlp2 = Sequential([Dense(n_hidden, input_shape=(n_input,)),\n",
    "                        Activation('relu'),\n",
    "                        Dense(n_hidden, input_shape=(n_hidden,)),\n",
    "                        Activation('relu'),\n",
    "                        Dense(n_hidden, input_shape=(n_hidden,)),\n",
    "                        Activation('relu'),\n",
    "                        Dense(n_hidden2, input_shape=(n_hidden2,)),\n",
    "                        Activation('relu'),\n",
    "                        Dense(n_hidden2, input_shape=(n_hidden2,)),\n",
    "                        Activation('relu'),\n",
    "                        Dense(1, input_shape=(n_hidden2,)),\n",
    "                        Activation('sigmoid')])\n",
    "\n",
    "learning_rate = 0.0001\n",
    "model_mlp2.compile(loss='binary_crossentropy', optimizer=optimizers.Adam(lr=learning_rate),metrics=[\"accuracy\"]) # TO FILL IN\n",
    "batch_size = 60\n",
    "\n",
    "history = model_mlp2.fit(X_train_n, to_categorical(yp), validation_split=0.33, epochs=200, batch_size=batch_size, verbose=0)\n",
    "\n",
    "plt.plot(history.history['accuracy'])\n",
    "plt.plot(history.history['val_accuracy'])\n",
    "plt.title('model accuracy')\n",
    "plt.ylabel('accuracy')\n",
    "plt.xlabel('epoch')\n",
    "plt.legend(['train', 'test'], loc='upper left')\n",
    "plt.show()"
   ]
  },
  {
   "cell_type": "code",
   "execution_count": 91,
   "metadata": {},
   "outputs": [
    {
     "name": "stdout",
     "output_type": "stream",
     "text": [
      "Training\n",
      "Mcc training score : 0.9556694878784913\n"
     ]
    }
   ],
   "source": [
    "model_mlp2.compile(loss='binary_crossentropy', optimizer=optimizers.Adam(lr=learning_rate),metrics=[\"accuracy\"]) # TO FILL IN\n",
    "# Run optimisation algorithm\n",
    "n_epochs = 100\n",
    "batch_size = 60\n",
    "\n",
    "print('Training')\n",
    "model_mlp.fit(X_train_n, yp, epochs=n_epochs, batch_size=batch_size, verbose=0)\n",
    "y_pred_mlp = (model_mlp.predict(X_test_n) > 0.5).astype(\"int32\")\n",
    "\n",
    "train_score_mlp2 = mcc((model_mlp.predict(X_train_n) > 0.5).astype(\"int32\"), yp)\n",
    "print(\"Mcc training score :\", train_score_mlp2)\n",
    "\n",
    "submission_mlp = pd.DataFrame()\n",
    "submission_mlp[\"ID\"] = id_test\n",
    "submission_mlp[\"ABNORMAL\"] = y_pred_mlp\n",
    "submission_mlp.to_csv(Working_directory + \"submission_mlp2.csv\",index=False)"
   ]
  },
  {
   "cell_type": "code",
   "execution_count": 92,
   "metadata": {},
   "outputs": [],
   "source": [
    "scores[\"MLP2\"] = [train_score_mlp2, 0.84635]"
   ]
  },
  {
   "cell_type": "markdown",
   "metadata": {},
   "source": [
    "Résultat : 0.84635"
   ]
  },
  {
   "cell_type": "markdown",
   "metadata": {},
   "source": [
    "### Multiclass"
   ]
  },
  {
   "cell_type": "code",
   "execution_count": 95,
   "metadata": {},
   "outputs": [
    {
     "data": {
      "image/png": "[encoded data removed]",
      "text/plain": [
       "<Figure size 432x288 with 1 Axes>"
      ]
     },
     "metadata": {
      "needs_background": "light"
     },
     "output_type": "display_data"
    }
   ],
   "source": [
    "n_input = X_train_n.shape[1]  # Number of input features\n",
    "n_hidden = 200\n",
    " # Number of hidden nodes\n",
    "\n",
    "# create the model (using the sequential API)\n",
    "\n",
    "model_mlp_bis2 = Sequential([Dense(n_hidden, input_shape=(n_input,)),\n",
    "                        Activation('relu'),\n",
    "                        Dense(n_hidden, input_shape=(n_hidden,)),\n",
    "                        Activation('relu'),\n",
    "                        Dense(n_hidden, input_shape=(n_hidden,)),\n",
    "                        Activation('relu'),\n",
    "                        Dense(n_hidden, input_shape=(n_hidden,)),\n",
    "                        Activation('relu'),\n",
    "                        Dense(n_hidden, input_shape=(n_hidden,)),\n",
    "                        Activation('relu'),\n",
    "                        Dense(n_hidden, input_shape=(n_hidden,)),\n",
    "                        Activation('relu'),\n",
    "                        Dense(9, input_shape=(n_hidden,)),\n",
    "                        Activation('softmax')])\n",
    "\n",
    "learning_rate = 0.0003\n",
    "model_mlp_bis2.compile(loss='categorical_crossentropy', optimizer=optimizers.Adam(lr=learning_rate),metrics=[\"accuracy\"]) # TO FILL IN\n",
    "batch_size = 80\n",
    "\n",
    "history = model_mlp_bis2.fit(X_train_n, to_categorical(yp_bis), validation_split=0.33, epochs=250, batch_size=batch_size, verbose=0)\n",
    "\n",
    "plt.plot(history.history['accuracy'])\n",
    "plt.plot(history.history['val_accuracy'])\n",
    "plt.title('model accuracy')\n",
    "plt.ylabel('accuracy')\n",
    "plt.xlabel('epoch')\n",
    "plt.legend(['train', 'test'], loc='upper left')\n",
    "plt.show()"
   ]
  },
  {
   "cell_type": "code",
   "execution_count": 99,
   "metadata": {},
   "outputs": [
    {
     "name": "stdout",
     "output_type": "stream",
     "text": [
      "f1 score : 1.0\n"
     ]
    }
   ],
   "source": [
    "model_mlp_bis2.fit(X_train_n, to_categorical(yp_bis), epochs=100, batch_size=80, verbose=0)\n",
    "y_pred_mlp_bis2 = np.argmax(model_mlp_bis2.predict(X_test_n), axis=-1)\n",
    "score_mlp_bis2 = f1_score(np.argmax(model_mlp_bis2.predict(X_train_n), axis=-1), yp_bis, average=\"macro\")\n",
    "\n",
    "print(\"f1 score :\", score_mlp_bis2)\n",
    "\n",
    "submission_mlp_bis2 = pd.DataFrame()\n",
    "submission_mlp_bis2[\"ID\"] = id_test\n",
    "submission_mlp_bis2[\"GROUP\"] = y_pred_mlp_bis2\n",
    "submission_mlp_bis2.to_csv(Working_directory + \"submission_mlp_bis2.csv\",index=False)"
   ]
  },
  {
   "cell_type": "markdown",
   "metadata": {},
   "source": [
    "Résultat : 0.66870"
   ]
  },
  {
   "cell_type": "code",
   "execution_count": 100,
   "metadata": {},
   "outputs": [],
   "source": [
    "scores_bis[\"MLP2\"] = [score_mlp_bis2, 0.66870]"
   ]
  },
  {
   "cell_type": "markdown",
   "metadata": {},
   "source": [
    "# <u>IV Deep Learning sur les images directement</u>\n",
    "## IV.1 -  Test sur 5 modèles différents"
   ]
  },
  {
   "cell_type": "markdown",
   "metadata": {},
   "source": [
    "Ici on prend en entrée les images en elles-mêmes"
   ]
  },
  {
   "cell_type": "code",
   "execution_count": 101,
   "metadata": {},
   "outputs": [
    {
     "name": "stdout",
     "output_type": "stream",
     "text": [
      "Resized training shape : (2921, 80, 80, 3)\n",
      "Resized testing shape : (1252, 80, 80, 3)\n"
     ]
    }
   ],
   "source": [
    "# preprocessing : resize the images\n",
    "\n",
    "warnings.filterwarnings(\"ignore\")\n",
    "preprocessing = 1\n",
    "if preprocessing==1:\n",
    "    resized_train=[]\n",
    "    for i in range(len(Images_train)):\n",
    "        size1, size2, _ = Images_train[i].shape\n",
    "        x, y = size1//2, size2//2\n",
    "        d = min(x, y)\n",
    "        imagei = Images_train[i][x-d:x+d, y-d:y+d,:]\n",
    "        imagei = resize(imagei, (80,80))\n",
    "        resized_train.append(imagei)\n",
    "    resized_train=np.array(resized_train)\n",
    "\n",
    "    resized_test=[]\n",
    "    for i in range(len(Images_test)):\n",
    "        size1, size2, _ = Images_test[i].shape\n",
    "        x, y = size1//2, size2//2\n",
    "        d = min(x, y)\n",
    "        imagei = Images_test[i][x-d:x+d, y-d:y+d,:]\n",
    "        imagei = resize(imagei, (80,80))\n",
    "        resized_test.append(imagei)\n",
    "    resized_test=np.array(resized_test)\n",
    "                          \n",
    "                          \n",
    "    \n",
    "if preprocessing == 2:\n",
    "    resized_train=[]\n",
    "    for i in range(len(Images_train)):\n",
    "        imagei = resize(Images_train[i], (80,80))\n",
    "        resized_train.append(imagei)\n",
    "    resized_train=np.array(resized_train)\n",
    "    \n",
    "    resized_test=[]\n",
    "    for i in range(len(Images_test)):\n",
    "        iimagei = resize(Images_test[i], (80,80))\n",
    "        resized_test.append(imagei)\n",
    "    resized_test=np.array(resized_test)\n",
    "    \n",
    "if preprocessing == 3:\n",
    "    resized_train=[]\n",
    "    for i in range(len(Images_train)):\n",
    "        imagei = resize(Images_train[i], (150, 150))\n",
    "        resized_train.append(imagei)\n",
    "    resized_train=np.array(resized_train)\n",
    "    \n",
    "    resized_test=[]\n",
    "    for i in range(len(Images_test)):\n",
    "        imagei = resize(Images_test[i], (150, 150))\n",
    "        resized_test.append(imagei)\n",
    "    resized_test=np.array(resized_test)\n",
    "    \n",
    "    \n",
    "warnings.filterwarnings(\"default\")\n",
    "print(\"Resized training shape :\", resized_train.shape)\n",
    "print(\"Resized testing shape :\", resized_test.shape)"
   ]
  },
  {
   "cell_type": "code",
   "execution_count": 102,
   "metadata": {},
   "outputs": [],
   "source": [
    "# shuffle\n",
    "i=np.random.randint(100)\n",
    "np.random.seed(i)\n",
    "rX_train=np.random.permutation(resized_train)\n",
    "\n",
    "np.random.seed(i)\n",
    "ry_train=np.random.permutation(y_train)\n",
    "\n",
    "np.random.seed(i)\n",
    "ry_train_bis=np.random.permutation(y_train_bis)"
   ]
  },
  {
   "cell_type": "markdown",
   "metadata": {},
   "source": [
    "### Model 1"
   ]
  },
  {
   "cell_type": "code",
   "execution_count": 103,
   "metadata": {},
   "outputs": [],
   "source": [
    "nb_filters=24\n",
    "learning_rate = 0.001\n",
    "n_epochs = 10\n",
    "batch_size = 64\n",
    "kernel_size = (3, 3)\n",
    "pool_size = (2, 2)\n",
    "\n",
    "model_cnn = Sequential([Conv2D(nb_filters, kernel_size, strides=(1, 1), padding='same'),\n",
    "                        BatchNormalization(),\n",
    "                        Activation('relu'),\n",
    "                    \n",
    "                        \n",
    "                        Conv2D(nb_filters, kernel_size, strides=(1, 1), padding='same'),\n",
    "                        BatchNormalization(),\n",
    "                        Activation('relu'),\n",
    "                        MaxPooling2D(pool_size=pool_size, strides=(2,2), padding='same'),\n",
    "                                         \n",
    "                        Flatten(),\n",
    "                        \n",
    "                        Dense(1, input_shape=(nb_filters,)),\n",
    "                        Activation('sigmoid')])\n",
    "\n",
    "model_cnn.compile(loss='binary_crossentropy', optimizer=optimizers.Adam(lr=learning_rate),metrics=[\"accuracy\"])"
   ]
  },
  {
   "cell_type": "code",
   "execution_count": 81,
   "metadata": {},
   "outputs": [
    {
     "data": {
      "image/png": "[encoded data removed]",
      "text/plain": [
       "<Figure size 432x288 with 1 Axes>"
      ]
     },
     "metadata": {
      "needs_background": "light"
     },
     "output_type": "display_data"
    }
   ],
   "source": [
    "history = model_cnn.fit(rX_train, ry_train, validation_split=0.33, epochs=30, batch_size=batch_size, verbose=0)\n",
    "\n",
    "plt.plot(history.history['accuracy'])\n",
    "plt.plot(history.history['val_accuracy'])\n",
    "plt.title('model accuracy')\n",
    "plt.ylabel('accuracy')\n",
    "plt.xlabel('epoch')\n",
    "plt.legend(['train', 'test'], loc='upper left')\n",
    "plt.show()"
   ]
  },
  {
   "cell_type": "markdown",
   "metadata": {},
   "source": [
    "### Modele 2"
   ]
  },
  {
   "cell_type": "code",
   "execution_count": 104,
   "metadata": {},
   "outputs": [],
   "source": [
    "model_cnn2 = Sequential()\n",
    "model_cnn2.add(Conv2D(input_shape=(80,80,3),filters=24,kernel_size=(3,3),padding=\"same\", activation=\"relu\"))\n",
    "model_cnn2.add(BatchNormalization())\n",
    "model_cnn2.add(MaxPooling2D(pool_size=(2,2),strides=(2,2)))\n",
    "\n",
    "\n",
    "model_cnn2.add(Conv2D(filters=24,kernel_size=(3,3),padding=\"same\", activation=\"relu\"))\n",
    "model_cnn2.add(BatchNormalization())\n",
    "model_cnn2.add(MaxPooling2D(pool_size=(2,2),strides=(2,2)))\n",
    "\n",
    "model_cnn2.add(Flatten())\n",
    "model_cnn2.add(Dense(units=1000,activation=\"relu\"))\n",
    "model_cnn2.add(Dense(units=500,activation=\"relu\"))\n",
    "model_cnn2.add(Dense(units=1, activation=\"sigmoid\"))\n",
    "\n"
   ]
  },
  {
   "cell_type": "code",
   "execution_count": 100,
   "metadata": {},
   "outputs": [
    {
     "name": "stdout",
     "output_type": "stream",
     "text": [
      "Epoch 1/30\n",
      "31/31 [==============================] - 16s 515ms/step - loss: 1.8381 - accuracy: 0.7554 - val_loss: 0.7004 - val_accuracy: 0.4492\n",
      "Epoch 2/30\n",
      "31/31 [==============================] - 19s 618ms/step - loss: 0.4467 - accuracy: 0.8390 - val_loss: 1.0498 - val_accuracy: 0.4409\n",
      "Epoch 3/30\n",
      "31/31 [==============================] - 16s 507ms/step - loss: 0.3104 - accuracy: 0.8953 - val_loss: 1.4545 - val_accuracy: 0.4461\n",
      "Epoch 4/30\n",
      "31/31 [==============================] - 15s 487ms/step - loss: 0.2116 - accuracy: 0.9216 - val_loss: 2.3157 - val_accuracy: 0.4409\n",
      "Epoch 5/30\n",
      "31/31 [==============================] - 15s 481ms/step - loss: 0.1816 - accuracy: 0.9284 - val_loss: 2.5092 - val_accuracy: 0.4409\n",
      "Epoch 6/30\n",
      "31/31 [==============================] - 15s 484ms/step - loss: 0.1091 - accuracy: 0.9615 - val_loss: 2.5270 - val_accuracy: 0.4481\n",
      "Epoch 7/30\n",
      "31/31 [==============================] - 15s 478ms/step - loss: 0.0706 - accuracy: 0.9720 - val_loss: 3.1932 - val_accuracy: 0.4461\n",
      "Epoch 8/30\n",
      "31/31 [==============================] - 15s 477ms/step - loss: 0.0883 - accuracy: 0.9684 - val_loss: 2.4988 - val_accuracy: 0.4647\n",
      "Epoch 9/30\n",
      "31/31 [==============================] - 15s 469ms/step - loss: 0.1216 - accuracy: 0.9563 - val_loss: 2.8634 - val_accuracy: 0.4741\n",
      "Epoch 10/30\n",
      "31/31 [==============================] - 15s 476ms/step - loss: 0.0530 - accuracy: 0.9834 - val_loss: 1.5808 - val_accuracy: 0.5934\n",
      "Epoch 11/30\n",
      "31/31 [==============================] - 15s 481ms/step - loss: 0.0323 - accuracy: 0.9883 - val_loss: 0.9319 - val_accuracy: 0.7127\n",
      "Epoch 12/30\n",
      "31/31 [==============================] - 16s 514ms/step - loss: 0.0359 - accuracy: 0.9840 - val_loss: 0.7484 - val_accuracy: 0.7822\n",
      "Epoch 13/30\n",
      "31/31 [==============================] - 17s 551ms/step - loss: 0.0542 - accuracy: 0.9801 - val_loss: 0.5637 - val_accuracy: 0.8465\n",
      "Epoch 14/30\n",
      "31/31 [==============================] - 15s 471ms/step - loss: 0.0658 - accuracy: 0.9763 - val_loss: 0.5138 - val_accuracy: 0.8475\n",
      "Epoch 15/30\n",
      "31/31 [==============================] - 16s 516ms/step - loss: 0.0244 - accuracy: 0.9941 - val_loss: 0.6164 - val_accuracy: 0.8174\n",
      "Epoch 16/30\n",
      "31/31 [==============================] - 14s 462ms/step - loss: 0.0364 - accuracy: 0.9886 - val_loss: 0.4353 - val_accuracy: 0.8558\n",
      "Epoch 17/30\n",
      "31/31 [==============================] - 16s 534ms/step - loss: 0.0796 - accuracy: 0.9762 - val_loss: 0.4400 - val_accuracy: 0.8714\n",
      "Epoch 18/30\n",
      "31/31 [==============================] - 16s 511ms/step - loss: 0.0175 - accuracy: 0.9927 - val_loss: 0.3965 - val_accuracy: 0.8786\n",
      "Epoch 19/30\n",
      "31/31 [==============================] - 16s 501ms/step - loss: 0.0053 - accuracy: 0.9989 - val_loss: 0.2837 - val_accuracy: 0.9098\n",
      "Epoch 20/30\n",
      "31/31 [==============================] - 16s 525ms/step - loss: 0.0019 - accuracy: 0.9999 - val_loss: 0.2807 - val_accuracy: 0.9243\n",
      "Epoch 21/30\n",
      "31/31 [==============================] - 16s 510ms/step - loss: 0.0018 - accuracy: 0.9998 - val_loss: 0.2805 - val_accuracy: 0.9232\n",
      "Epoch 22/30\n",
      "31/31 [==============================] - 15s 476ms/step - loss: 0.0010 - accuracy: 1.0000 - val_loss: 0.3026 - val_accuracy: 0.9243\n",
      "Epoch 23/30\n",
      "31/31 [==============================] - 15s 471ms/step - loss: 7.6298e-04 - accuracy: 1.0000 - val_loss: 0.2604 - val_accuracy: 0.9274\n",
      "Epoch 24/30\n",
      "31/31 [==============================] - 16s 529ms/step - loss: 3.4308e-04 - accuracy: 1.0000 - val_loss: 0.2824 - val_accuracy: 0.9295\n",
      "Epoch 25/30\n",
      "31/31 [==============================] - 16s 531ms/step - loss: 7.4712e-04 - accuracy: 1.0000 - val_loss: 0.2967 - val_accuracy: 0.9315\n",
      "Epoch 26/30\n",
      "31/31 [==============================] - 17s 532ms/step - loss: 2.3858e-04 - accuracy: 1.0000 - val_loss: 0.2860 - val_accuracy: 0.9357\n",
      "Epoch 27/30\n",
      "31/31 [==============================] - 15s 477ms/step - loss: 0.0019 - accuracy: 0.9980 - val_loss: 0.3062 - val_accuracy: 0.9274\n",
      "Epoch 28/30\n",
      "31/31 [==============================] - 15s 468ms/step - loss: 0.0056 - accuracy: 0.9979 - val_loss: 0.4294 - val_accuracy: 0.9108\n",
      "Epoch 29/30\n",
      "31/31 [==============================] - 15s 472ms/step - loss: 0.2070 - accuracy: 0.9669 - val_loss: 0.6073 - val_accuracy: 0.8651\n",
      "Epoch 30/30\n",
      "31/31 [==============================] - 15s 494ms/step - loss: 0.1577 - accuracy: 0.9537 - val_loss: 1.0837 - val_accuracy: 0.8154\n"
     ]
    },
    {
     "data": {
      "image/png": "[encoded data removed]",
      "text/plain": [
       "<Figure size 432x288 with 1 Axes>"
      ]
     },
     "metadata": {
      "needs_background": "light"
     },
     "output_type": "display_data"
    }
   ],
   "source": [
    "model_cnn2.compile(loss='binary_crossentropy', optimizer=optimizers.Adam(lr=0.001),metrics=[\"accuracy\"])\n",
    "history = model_cnn2.fit(rX_train, ry_train, validation_split=0.33, epochs=30, batch_size=batch_size, verbose=1)\n",
    "\n",
    "plt.plot(history.history['accuracy'])\n",
    "plt.plot(history.history['val_accuracy'])\n",
    "plt.title('model accuracy')\n",
    "plt.ylabel('accuracy')\n",
    "plt.xlabel('epoch')\n",
    "plt.legend(['train', 'test'], loc='upper left')\n",
    "plt.show()"
   ]
  },
  {
   "cell_type": "markdown",
   "metadata": {},
   "source": [
    "### Modele 3"
   ]
  },
  {
   "cell_type": "code",
   "execution_count": 105,
   "metadata": {},
   "outputs": [],
   "source": [
    "like_vgg19 = Sequential()\n",
    "like_vgg19.add(Conv2D(input_shape=(80,80,3),filters=64,kernel_size=(3,3),padding=\"same\", activation=\"relu\"))\n",
    "like_vgg19.add(Conv2D(filters=64,kernel_size=(3,3),padding=\"same\", activation=\"relu\"))\n",
    "like_vgg19.add(BatchNormalization())\n",
    "like_vgg19.add(MaxPooling2D(pool_size=(2,2),strides=(2,2)))\n",
    "\n",
    "like_vgg19.add(Conv2D(filters=128,kernel_size=(3,3),padding=\"same\", activation=\"relu\"))\n",
    "like_vgg19.add(Conv2D(filters=128,kernel_size=(3,3),padding=\"same\", activation=\"relu\"))\n",
    "like_vgg19.add(BatchNormalization())\n",
    "like_vgg19.add(MaxPooling2D(pool_size=(2,2),strides=(2,2)))\n",
    "\n",
    "like_vgg19.add(Conv2D(filters=256, kernel_size=(3,3), padding=\"same\", activation=\"relu\"))\n",
    "like_vgg19.add(Conv2D(filters=256, kernel_size=(3,3), padding=\"same\", activation=\"relu\"))\n",
    "like_vgg19.add(Conv2D(filters=256, kernel_size=(3,3), padding=\"same\", activation=\"relu\"))\n",
    "like_vgg19.add(Conv2D(filters=256, kernel_size=(3,3), padding=\"same\", activation=\"relu\"))\n",
    "like_vgg19.add(BatchNormalization())\n",
    "like_vgg19.add(MaxPooling2D(pool_size=(2,2),strides=(2,2)))\n",
    "\n",
    "like_vgg19.add(Conv2D(filters=512, kernel_size=(3,3), padding=\"same\", activation=\"relu\"))\n",
    "like_vgg19.add(Conv2D(filters=512, kernel_size=(3,3), padding=\"same\", activation=\"relu\"))\n",
    "like_vgg19.add(Conv2D(filters=512, kernel_size=(3,3), padding=\"same\", activation=\"relu\"))\n",
    "like_vgg19.add(Conv2D(filters=512, kernel_size=(3,3), padding=\"same\", activation=\"relu\"))\n",
    "like_vgg19.add(BatchNormalization())\n",
    "like_vgg19.add(MaxPooling2D(pool_size=(2,2),strides=(2,2)))\n",
    "\n",
    "like_vgg19.add(Conv2D(filters=512, kernel_size=(3,3), padding=\"same\", activation=\"relu\"))\n",
    "like_vgg19.add(Conv2D(filters=512, kernel_size=(3,3), padding=\"same\", activation=\"relu\"))\n",
    "like_vgg19.add(Conv2D(filters=512, kernel_size=(3,3), padding=\"same\", activation=\"relu\"))\n",
    "like_vgg19.add(Conv2D(filters=512, kernel_size=(3,3), padding=\"same\", activation=\"relu\"))\n",
    "like_vgg19.add(BatchNormalization())\n",
    "like_vgg19.add(MaxPooling2D(pool_size=(2,2),strides=(2,2)))\n",
    "\n",
    "\n",
    "like_vgg19.add(Flatten())\n",
    "like_vgg19.add(Dense(units=4096,activation=\"relu\"))\n",
    "like_vgg19.add(Dense(units=4096,activation=\"relu\"))\n",
    "like_vgg19.add(BatchNormalization())\n",
    "like_vgg19.add(Dense(units=2, activation=\"softmax\"))"
   ]
  },
  {
   "cell_type": "code",
   "execution_count": 48,
   "metadata": {},
   "outputs": [
    {
     "name": "stdout",
     "output_type": "stream",
     "text": [
      "Epoch 1/10\n",
      "28/28 [==============================] - 292s 10s/step - loss: 0.5587 - accuracy: 0.7735 - val_loss: 0.6992 - val_accuracy: 0.4564\n",
      "Epoch 2/10\n",
      "28/28 [==============================] - 306s 11s/step - loss: 0.3155 - accuracy: 0.8795 - val_loss: 0.7081 - val_accuracy: 0.4564\n",
      "Epoch 3/10\n",
      "28/28 [==============================] - 312s 11s/step - loss: 0.2770 - accuracy: 0.8846 - val_loss: 0.6938 - val_accuracy: 0.4564\n",
      "Epoch 4/10\n",
      "28/28 [==============================] - 317s 11s/step - loss: 0.2194 - accuracy: 0.9181 - val_loss: 0.6910 - val_accuracy: 0.5436\n",
      "Epoch 5/10\n",
      "28/28 [==============================] - 324s 12s/step - loss: 0.1585 - accuracy: 0.9408 - val_loss: 0.7197 - val_accuracy: 0.4564\n",
      "Epoch 6/10\n",
      "28/28 [==============================] - 346s 12s/step - loss: 0.1571 - accuracy: 0.9377 - val_loss: 0.7257 - val_accuracy: 0.4564\n",
      "Epoch 7/10\n",
      "28/28 [==============================] - 330s 12s/step - loss: 0.1419 - accuracy: 0.9470 - val_loss: 0.7754 - val_accuracy: 0.4564\n",
      "Epoch 8/10\n",
      "28/28 [==============================] - 311s 11s/step - loss: 0.0982 - accuracy: 0.9619 - val_loss: 0.7052 - val_accuracy: 0.4315\n",
      "Epoch 9/10\n",
      "28/28 [==============================] - 298s 11s/step - loss: 0.0996 - accuracy: 0.9660 - val_loss: 0.7280 - val_accuracy: 0.5436\n",
      "Epoch 10/10\n",
      "28/28 [==============================] - 312s 11s/step - loss: 0.1565 - accuracy: 0.9444 - val_loss: 0.8516 - val_accuracy: 0.5436\n"
     ]
    },
    {
     "data": {
      "image/png": "[encoded data removed]",
      "text/plain": [
       "<Figure size 432x288 with 1 Axes>"
      ]
     },
     "metadata": {
      "needs_background": "light"
     },
     "output_type": "display_data"
    }
   ],
   "source": [
    "like_vgg19.compile(loss='binary_crossentropy', optimizer=optimizers.Adam(lr=1e-4),metrics=[\"accuracy\"])\n",
    "\n",
    "\n",
    "history = like_vgg19.fit(rX_train, to_categorical(ry_train), validation_split=0.33, epochs=10, batch_size=70, verbose=1)\n",
    "\n",
    "plt.plot(history.history['accuracy'])\n",
    "plt.plot(history.history['val_accuracy'])\n",
    "plt.title('model accuracy')\n",
    "plt.ylabel('accuracy')\n",
    "plt.xlabel('epoch')\n",
    "plt.legend(['train', 'test'], loc='upper left')\n",
    "\n",
    "plt.show()"
   ]
  },
  {
   "cell_type": "markdown",
   "metadata": {},
   "source": [
    "### Model 4\n"
   ]
  },
  {
   "cell_type": "code",
   "execution_count": 106,
   "metadata": {},
   "outputs": [],
   "source": [
    "vgg19 = VGG19(weights='imagenet', include_top=False, input_shape=(80, 80, 3))\n",
    "for layer in vgg19.layers[:]:\n",
    "    layer.trainable = False\n",
    "model4 = Sequential()\n",
    "model4.add(vgg19)\n",
    "model4.add(Flatten())\n",
    "model4.add(Dense(1024, activation='relu'))\n",
    "model4.add(Dense(1, activation='sigmoid'))\n",
    "\n",
    "model4.compile(loss='binary_crossentropy', optimizer=optimizers.Adam(lr=1e-4),metrics=[\"accuracy\"])"
   ]
  },
  {
   "cell_type": "code",
   "execution_count": 128,
   "metadata": {},
   "outputs": [
    {
     "name": "stdout",
     "output_type": "stream",
     "text": [
      "Epoch 1/10\n",
      "31/31 [==============================] - 89s 3s/step - loss: 0.5652 - accuracy: 0.7139 - val_loss: 0.3461 - val_accuracy: 0.8890\n",
      "Epoch 2/10\n",
      "31/31 [==============================] - 95s 3s/step - loss: 0.3481 - accuracy: 0.8782 - val_loss: 0.2890 - val_accuracy: 0.9098\n",
      "Epoch 3/10\n",
      "31/31 [==============================] - 100s 3s/step - loss: 0.2940 - accuracy: 0.8944 - val_loss: 0.2805 - val_accuracy: 0.8911\n",
      "Epoch 4/10\n",
      "31/31 [==============================] - 98s 3s/step - loss: 0.2684 - accuracy: 0.8982 - val_loss: 0.2570 - val_accuracy: 0.9035\n",
      "Epoch 5/10\n",
      "31/31 [==============================] - 93s 3s/step - loss: 0.2704 - accuracy: 0.8992 - val_loss: 0.2481 - val_accuracy: 0.9025\n",
      "Epoch 6/10\n",
      "31/31 [==============================] - 100s 3s/step - loss: 0.2349 - accuracy: 0.9157 - val_loss: 0.2364 - val_accuracy: 0.9160\n",
      "Epoch 7/10\n",
      "31/31 [==============================] - 102s 3s/step - loss: 0.2137 - accuracy: 0.9237 - val_loss: 0.2332 - val_accuracy: 0.9098\n",
      "Epoch 8/10\n",
      "31/31 [==============================] - 94s 3s/step - loss: 0.2137 - accuracy: 0.9181 - val_loss: 0.2303 - val_accuracy: 0.9098\n",
      "Epoch 9/10\n",
      "31/31 [==============================] - 99s 3s/step - loss: 0.1971 - accuracy: 0.9341 - val_loss: 0.2331 - val_accuracy: 0.9015\n",
      "Epoch 10/10\n",
      "31/31 [==============================] - 100s 3s/step - loss: 0.1934 - accuracy: 0.9325 - val_loss: 0.2205 - val_accuracy: 0.9149\n"
     ]
    },
    {
     "data": {
      "image/png": "[encoded data removed]",
      "text/plain": [
       "<Figure size 432x288 with 1 Axes>"
      ]
     },
     "metadata": {
      "needs_background": "light"
     },
     "output_type": "display_data"
    }
   ],
   "source": [
    "history = model4.fit(rX_train, ry_train, validation_split=0.33, epochs=10, batch_size=64, verbose=1)\n",
    "\n",
    "plt.plot(history.history['accuracy'])\n",
    "plt.plot(history.history['val_accuracy'])\n",
    "plt.title('model accuracy')\n",
    "plt.ylabel('accuracy')\n",
    "plt.xlabel('epoch')\n",
    "plt.legend(['train', 'test'], loc='upper left')\n",
    "\n",
    "plt.show()"
   ]
  },
  {
   "cell_type": "markdown",
   "metadata": {},
   "source": [
    "### Model 5 - MobileNet"
   ]
  },
  {
   "cell_type": "code",
   "execution_count": 139,
   "metadata": {},
   "outputs": [
    {
     "name": "stdout",
     "output_type": "stream",
     "text": [
      "WARNING:tensorflow:`input_shape` is undefined or non-square, or `rows` is not in [128, 160, 192, 224]. Weights for input shape (224, 224) will be loaded as the default.\n"
     ]
    }
   ],
   "source": [
    "model_mob = MobileNet(weights='imagenet', include_top=False, input_shape=(80, 80, 3))\n",
    "for layer in model_mob.layers[:]:\n",
    "    layer.trainable = False\n",
    "model5 = Sequential()\n",
    "model5.add(model_mob)\n",
    "model5.add(Flatten())\n",
    "model5.add(Dropout(0.5))\n",
    "model5.add(Dense(1024, activation='relu'))\n",
    "model5.add(BatchNormalization())\n",
    "model5.add(Dense(1024, activation='relu'))\n",
    "model5.add(Dense(1, activation='sigmoid'))\n",
    "\n",
    "model5.compile(loss='binary_crossentropy', optimizer=optimizers.Adam(lr=1e-4),metrics=[\"accuracy\"])"
   ]
  },
  {
   "cell_type": "code",
   "execution_count": 33,
   "metadata": {},
   "outputs": [
    {
     "name": "stdout",
     "output_type": "stream",
     "text": [
      "Epoch 1/10\n",
      "31/31 [==============================] - 9s 263ms/step - loss: 0.5956 - accuracy: 0.6757 - val_loss: 0.3253 - val_accuracy: 0.8817\n",
      "Epoch 2/10\n",
      "31/31 [==============================] - 8s 270ms/step - loss: 0.3090 - accuracy: 0.8719 - val_loss: 0.2682 - val_accuracy: 0.8859\n",
      "Epoch 3/10\n",
      "31/31 [==============================] - 8s 264ms/step - loss: 0.2777 - accuracy: 0.8909 - val_loss: 0.2425 - val_accuracy: 0.8942\n",
      "Epoch 4/10\n",
      "31/31 [==============================] - 8s 259ms/step - loss: 0.2072 - accuracy: 0.9020 - val_loss: 0.2308 - val_accuracy: 0.9129\n",
      "Epoch 5/10\n",
      "31/31 [==============================] - 8s 255ms/step - loss: 0.1858 - accuracy: 0.9215 - val_loss: 0.2253 - val_accuracy: 0.9149\n",
      "Epoch 6/10\n",
      "31/31 [==============================] - 8s 251ms/step - loss: 0.1612 - accuracy: 0.9441 - val_loss: 0.2195 - val_accuracy: 0.9108\n",
      "Epoch 7/10\n",
      "31/31 [==============================] - 8s 258ms/step - loss: 0.1362 - accuracy: 0.9490 - val_loss: 0.2161 - val_accuracy: 0.9180\n",
      "Epoch 8/10\n",
      "31/31 [==============================] - 8s 257ms/step - loss: 0.1208 - accuracy: 0.9491 - val_loss: 0.2121 - val_accuracy: 0.9201\n",
      "Epoch 9/10\n",
      "31/31 [==============================] - 8s 256ms/step - loss: 0.1105 - accuracy: 0.9593 - val_loss: 0.2107 - val_accuracy: 0.9160\n",
      "Epoch 10/10\n",
      "31/31 [==============================] - 8s 256ms/step - loss: 0.1164 - accuracy: 0.9572 - val_loss: 0.2130 - val_accuracy: 0.9201\n"
     ]
    },
    {
     "data": {
      "image/png": "[encoded data removed]",
      "text/plain": [
       "<Figure size 432x288 with 1 Axes>"
      ]
     },
     "metadata": {
      "needs_background": "light"
     },
     "output_type": "display_data"
    }
   ],
   "source": [
    "history = model5.fit(rX_train, ry_train, validation_split=0.33, epochs=10, batch_size=64, verbose=1)\n",
    "\n",
    "plt.plot(history.history['accuracy'])\n",
    "plt.plot(history.history['val_accuracy'])\n",
    "plt.title('model accuracy')\n",
    "plt.ylabel('accuracy')\n",
    "plt.xlabel('epoch')\n",
    "plt.legend(['train', 'test'], loc='upper left')\n",
    "\n",
    "plt.show()"
   ]
  },
  {
   "cell_type": "markdown",
   "metadata": {},
   "source": [
    "## **IV.2 - Data augmentation**"
   ]
  },
  {
   "cell_type": "code",
   "execution_count": 108,
   "metadata": {},
   "outputs": [],
   "source": [
    "mean = resized_train.mean(axis=0)\n",
    "std = resized_train.mean(axis=0)\n",
    "\n",
    "images_train_n = (resized_train - mean)/std\n",
    "images_test_n = (resized_test - mean)/std"
   ]
  },
  {
   "cell_type": "code",
   "execution_count": 109,
   "metadata": {},
   "outputs": [],
   "source": [
    "i=np.random.randint(100)\n",
    "np.random.seed(i)\n",
    "images_train_p =np.random.permutation(images_train_n)\n",
    "\n",
    "np.random.seed(i)\n",
    "imy_train=np.random.permutation(y_train)\n",
    "\n",
    "np.random.seed(i)\n",
    "imy_train_bis=np.random.permutation(y_train_bis)"
   ]
  },
  {
   "cell_type": "code",
   "execution_count": 111,
   "metadata": {},
   "outputs": [],
   "source": [
    "aug = ImageDataGenerator(rotation_range=180, vertical_flip=True, horizontal_flip=True)\n",
    "new_train = np.zeros((2*images_train_p.shape[0], images_train_p.shape[1], images_train_p.shape[2], images_train_p.shape[3]))\n",
    "new_y_train = np.zeros(2*images_train_p.shape[0])\n",
    "for i in range(2):\n",
    "    train_aug = aug.flow(images_train_p, imy_train, batch_size=1)\n",
    "    for j in range(images_train_p.shape[0]):\n",
    "        new_train[i*images_train_p.shape[0]+j]=train_aug[j][0][0]\n",
    "        new_y_train[i*images_train_p.shape[0]+j]=train_aug[j][1][0]\n",
    "        "
   ]
  },
  {
   "cell_type": "markdown",
   "metadata": {},
   "source": [
    "### Model 2"
   ]
  },
  {
   "cell_type": "code",
   "execution_count": 112,
   "metadata": {},
   "outputs": [
    {
     "name": "stdout",
     "output_type": "stream",
     "text": [
      "Epoch 1/10\n",
      "62/62 [==============================] - 47s 690ms/step - loss: 1.3633 - accuracy: 0.7856 - val_loss: 0.6971 - val_accuracy: 0.5539\n",
      "Epoch 2/10\n",
      "62/62 [==============================] - 43s 690ms/step - loss: 0.3452 - accuracy: 0.8896 - val_loss: 0.8983 - val_accuracy: 0.5202\n",
      "Epoch 3/10\n",
      "62/62 [==============================] - 41s 664ms/step - loss: 0.2362 - accuracy: 0.9273 - val_loss: 0.5965 - val_accuracy: 0.6883\n",
      "Epoch 4/10\n",
      "62/62 [==============================] - 48s 781ms/step - loss: 0.1564 - accuracy: 0.9366 - val_loss: 0.6616 - val_accuracy: 0.7298\n",
      "Epoch 5/10\n",
      "62/62 [==============================] - 45s 728ms/step - loss: 0.1813 - accuracy: 0.9478 - val_loss: 0.5163 - val_accuracy: 0.7941\n",
      "Epoch 6/10\n",
      "62/62 [==============================] - 50s 803ms/step - loss: 0.0719 - accuracy: 0.9743 - val_loss: 0.8015 - val_accuracy: 0.7604\n",
      "Epoch 7/10\n",
      "62/62 [==============================] - 50s 809ms/step - loss: 0.0901 - accuracy: 0.9674 - val_loss: 0.4549 - val_accuracy: 0.8485\n",
      "Epoch 8/10\n",
      "62/62 [==============================] - 42s 674ms/step - loss: 0.0885 - accuracy: 0.9668 - val_loss: 0.3274 - val_accuracy: 0.8926\n",
      "Epoch 9/10\n",
      "62/62 [==============================] - 44s 706ms/step - loss: 0.0690 - accuracy: 0.9756 - val_loss: 0.3624 - val_accuracy: 0.8978\n",
      "Epoch 10/10\n",
      "62/62 [==============================] - 42s 674ms/step - loss: 0.0274 - accuracy: 0.9923 - val_loss: 0.3409 - val_accuracy: 0.9025\n"
     ]
    }
   ],
   "source": [
    "model_cnn2.compile(loss='binary_crossentropy', optimizer=optimizers.Adam(lr=0.001),metrics=[\"accuracy\"])\n",
    "history = model_cnn2.fit(new_train, new_y_train, epochs=10, batch_size=64, validation_split=0.33)"
   ]
  },
  {
   "cell_type": "code",
   "execution_count": 114,
   "metadata": {},
   "outputs": [
    {
     "data": {
      "image/png": "[encoded data removed]",
      "text/plain": [
       "<Figure size 432x288 with 1 Axes>"
      ]
     },
     "metadata": {
      "needs_background": "light"
     },
     "output_type": "display_data"
    }
   ],
   "source": [
    "plt.plot(history.history['accuracy'])\n",
    "plt.plot(history.history['val_accuracy'])\n",
    "plt.title('model accuracy')\n",
    "plt.ylabel('accuracy')\n",
    "plt.xlabel('epoch')\n",
    "plt.legend(['train', 'test'], loc='upper left')\n",
    "\n",
    "plt.show()"
   ]
  },
  {
   "cell_type": "code",
   "execution_count": 119,
   "metadata": {},
   "outputs": [
    {
     "name": "stdout",
     "output_type": "stream",
     "text": [
      "Mcc training score : 0.8952226932636531\n"
     ]
    },
    {
     "name": "stderr",
     "output_type": "stream",
     "text": [
      "C:\\Users\\mokar\\anaconda3\\lib\\site-packages\\pandas\\core\\indexes\\base.py:395: DeprecationWarning: `np.bool` is a deprecated alias for the builtin `bool`. To silence this warning, use `bool` by itself. Doing this will not modify any behavior and is safe. If you specifically wanted the numpy scalar type, use `np.bool_` here.\n",
      "Deprecated in NumPy 1.20; for more details and guidance: https://numpy.org/devdocs/release/1.20.0-notes.html#deprecations\n",
      "  elif issubclass(data.dtype.type, np.bool) or is_bool_dtype(data):\n"
     ]
    }
   ],
   "source": [
    "y_pred_CNN2 =  (model_cnn2.predict(images_test_n) > 0.5).astype(\"int32\")\n",
    "\n",
    "train_score_cnn2 = mcc((model_cnn2.predict(new_train) > 0.5).astype(\"int32\"), new_y_train)\n",
    "\n",
    "print(\"Mcc training score :\", train_score_cnn2)\n",
    "submission_CNN2 = pd.DataFrame()\n",
    "submission_CNN2[\"ID\"] = id_test\n",
    "submission_CNN2[\"ABNORMAL\"] = y_pred_CNN2\n",
    "\n",
    "submission_CNN2.to_csv(Working_directory + \"submission_cnn2.2.csv\",index=False)"
   ]
  },
  {
   "cell_type": "markdown",
   "metadata": {},
   "source": [
    "Résultat : 0.77823"
   ]
  },
  {
   "cell_type": "code",
   "execution_count": 121,
   "metadata": {},
   "outputs": [],
   "source": [
    "scores[\"CNN2\"] = [train_score_cnn2, 0.77823]"
   ]
  },
  {
   "cell_type": "markdown",
   "metadata": {},
   "source": [
    "### Model 4"
   ]
  },
  {
   "cell_type": "code",
   "execution_count": 122,
   "metadata": {},
   "outputs": [
    {
     "name": "stdout",
     "output_type": "stream",
     "text": [
      "Epoch 1/5\n",
      "69/69 [==============================] - 191s 3s/step - loss: 0.5243 - accuracy: 0.7398 - val_loss: 0.2623 - val_accuracy: 0.9192\n",
      "Epoch 2/5\n",
      "69/69 [==============================] - 197s 3s/step - loss: 0.2627 - accuracy: 0.9100 - val_loss: 0.2243 - val_accuracy: 0.9261\n",
      "Epoch 3/5\n",
      "69/69 [==============================] - 187s 3s/step - loss: 0.2218 - accuracy: 0.9252 - val_loss: 0.2069 - val_accuracy: 0.9329\n",
      "Epoch 4/5\n",
      "69/69 [==============================] - 172s 3s/step - loss: 0.1901 - accuracy: 0.9304 - val_loss: 0.1949 - val_accuracy: 0.9363\n",
      "Epoch 5/5\n",
      "69/69 [==============================] - 181s 3s/step - loss: 0.1704 - accuracy: 0.9402 - val_loss: 0.1851 - val_accuracy: 0.9370\n"
     ]
    }
   ],
   "source": [
    "model4.compile(loss='binary_crossentropy', optimizer=optimizers.Adam(lr=1e-4),metrics=[\"accuracy\"])\n",
    "history = model4.fit(new_train, new_y_train, epochs=5, batch_size=64, validation_split=0.25)"
   ]
  },
  {
   "cell_type": "code",
   "execution_count": 123,
   "metadata": {},
   "outputs": [
    {
     "data": {
      "image/png": "[encoded data removed]",
      "text/plain": [
       "<Figure size 432x288 with 1 Axes>"
      ]
     },
     "metadata": {
      "needs_background": "light"
     },
     "output_type": "display_data"
    }
   ],
   "source": [
    "plt.plot(history.history['accuracy'])\n",
    "plt.plot(history.history['val_accuracy'])\n",
    "plt.title('model accuracy')\n",
    "plt.ylabel('accuracy')\n",
    "plt.xlabel('epoch')\n",
    "plt.legend(['train', 'test'], loc='upper left')\n",
    "\n",
    "plt.show()"
   ]
  },
  {
   "cell_type": "code",
   "execution_count": 125,
   "metadata": {},
   "outputs": [
    {
     "name": "stdout",
     "output_type": "stream",
     "text": [
      "Mcc training score : 0.8760262368839964\n"
     ]
    },
    {
     "name": "stderr",
     "output_type": "stream",
     "text": [
      "C:\\Users\\mokar\\anaconda3\\lib\\site-packages\\pandas\\core\\indexes\\base.py:395: DeprecationWarning: `np.bool` is a deprecated alias for the builtin `bool`. To silence this warning, use `bool` by itself. Doing this will not modify any behavior and is safe. If you specifically wanted the numpy scalar type, use `np.bool_` here.\n",
      "Deprecated in NumPy 1.20; for more details and guidance: https://numpy.org/devdocs/release/1.20.0-notes.html#deprecations\n",
      "  elif issubclass(data.dtype.type, np.bool) or is_bool_dtype(data):\n"
     ]
    }
   ],
   "source": [
    "y_pred_model4 =  (model4.predict(images_test_n) > 0.5).astype(\"int32\")\n",
    "train_score_cnn4 = mcc((model4.predict(new_train) > 0.5).astype(\"int32\"), new_y_train)\n",
    "\n",
    "print(\"Mcc training score :\", train_score_cnn4)\n",
    "\n",
    "submission_model4 = pd.DataFrame()\n",
    "submission_model4[\"ID\"] = id_test\n",
    "submission_model4[\"ABNORMAL\"] = y_pred_model4\n",
    "submission_model4.to_csv(Working_directory + \"submission_model4.4.csv\",index=False)"
   ]
  },
  {
   "cell_type": "code",
   "execution_count": 126,
   "metadata": {},
   "outputs": [],
   "source": [
    "scores[\"CNN4\"] = [train_score_cnn4, 0.88336]"
   ]
  },
  {
   "cell_type": "markdown",
   "metadata": {},
   "source": [
    "### Model 5"
   ]
  },
  {
   "cell_type": "code",
   "execution_count": 140,
   "metadata": {
    "scrolled": true
   },
   "outputs": [
    {
     "name": "stdout",
     "output_type": "stream",
     "text": [
      "Epoch 1/20\n",
      "90/90 [==============================] - 17s 165ms/step - loss: 0.3995 - accuracy: 0.8148\n",
      "Epoch 2/20\n",
      "90/90 [==============================] - 17s 191ms/step - loss: 0.2111 - accuracy: 0.9187\n",
      "Epoch 3/20\n",
      "90/90 [==============================] - 17s 189ms/step - loss: 0.1685 - accuracy: 0.9316\n",
      "Epoch 4/20\n",
      "90/90 [==============================] - 18s 197ms/step - loss: 0.1401 - accuracy: 0.9414\n",
      "Epoch 5/20\n",
      "90/90 [==============================] - 18s 195ms/step - loss: 0.1239 - accuracy: 0.9540\n",
      "Epoch 6/20\n",
      "90/90 [==============================] - 17s 193ms/step - loss: 0.1142 - accuracy: 0.9563\n",
      "Epoch 7/20\n",
      "90/90 [==============================] - 17s 185ms/step - loss: 0.0914 - accuracy: 0.9663\n",
      "Epoch 8/20\n",
      "90/90 [==============================] - 17s 187ms/step - loss: 0.0894 - accuracy: 0.9634\n",
      "Epoch 9/20\n",
      "90/90 [==============================] - 17s 190ms/step - loss: 0.0801 - accuracy: 0.9697\n",
      "Epoch 10/20\n",
      "90/90 [==============================] - 17s 187ms/step - loss: 0.0701 - accuracy: 0.9727\n",
      "Epoch 11/20\n",
      "90/90 [==============================] - 18s 196ms/step - loss: 0.0654 - accuracy: 0.9733\n",
      "Epoch 12/20\n",
      "90/90 [==============================] - 18s 195ms/step - loss: 0.0516 - accuracy: 0.9822\n",
      "Epoch 13/20\n",
      "90/90 [==============================] - 17s 189ms/step - loss: 0.0531 - accuracy: 0.9813\n",
      "Epoch 14/20\n",
      "90/90 [==============================] - 17s 192ms/step - loss: 0.0561 - accuracy: 0.9779\n",
      "Epoch 15/20\n",
      "90/90 [==============================] - 22s 241ms/step - loss: 0.0397 - accuracy: 0.9858\n",
      "Epoch 16/20\n",
      "90/90 [==============================] - 19s 211ms/step - loss: 0.0436 - accuracy: 0.9832\n",
      "Epoch 17/20\n",
      "90/90 [==============================] - 17s 193ms/step - loss: 0.0345 - accuracy: 0.9851\n",
      "Epoch 18/20\n",
      "90/90 [==============================] - 17s 186ms/step - loss: 0.0387 - accuracy: 0.9856\n",
      "Epoch 19/20\n",
      "90/90 [==============================] - 17s 185ms/step - loss: 0.0389 - accuracy: 0.9860\n",
      "Epoch 20/20\n",
      "90/90 [==============================] - 16s 183ms/step - loss: 0.0323 - accuracy: 0.9904\n"
     ]
    }
   ],
   "source": [
    "model5.compile(loss='binary_crossentropy', optimizer=optimizers.Adam(lr=1e-4),metrics=[\"accuracy\"])\n",
    "history = model5.fit(new_train, new_y_train , epochs=20, batch_size=65)\n"
   ]
  },
  {
   "cell_type": "code",
   "execution_count": 141,
   "metadata": {},
   "outputs": [
    {
     "name": "stdout",
     "output_type": "stream",
     "text": [
      "Mcc training score : 1.0\n"
     ]
    },
    {
     "name": "stderr",
     "output_type": "stream",
     "text": [
      "C:\\Users\\mokar\\anaconda3\\lib\\site-packages\\pandas\\core\\indexes\\base.py:395: DeprecationWarning: `np.bool` is a deprecated alias for the builtin `bool`. To silence this warning, use `bool` by itself. Doing this will not modify any behavior and is safe. If you specifically wanted the numpy scalar type, use `np.bool_` here.\n",
      "Deprecated in NumPy 1.20; for more details and guidance: https://numpy.org/devdocs/release/1.20.0-notes.html#deprecations\n",
      "  elif issubclass(data.dtype.type, np.bool) or is_bool_dtype(data):\n"
     ]
    }
   ],
   "source": [
    "y_pred_model5 =  (model5.predict(images_test_n) > 0.5).astype(\"int32\")\n",
    "train_score_cnn5 = mcc((model5.predict(new_train) > 0.5).astype(\"int32\"), new_y_train)\n",
    "\n",
    "print(\"Mcc training score :\", train_score_cnn5)\n",
    "\n",
    "submission_model5 = pd.DataFrame()\n",
    "submission_model5[\"ID\"] = id_test\n",
    "submission_model5[\"ABNORMAL\"] = y_pred_model5\n",
    "submission_model5.to_csv(Working_directory + \"submission_model5.csv\",index=False)"
   ]
  },
  {
   "cell_type": "markdown",
   "metadata": {},
   "source": [
    "Résultat : 0.84665"
   ]
  },
  {
   "cell_type": "code",
   "execution_count": 142,
   "metadata": {},
   "outputs": [],
   "source": [
    "scores[\"CNN5\"] = [train_score_cnn5, 0.84665]"
   ]
  },
  {
   "cell_type": "markdown",
   "metadata": {},
   "source": [
    "### Model 2 - Multiclass"
   ]
  },
  {
   "cell_type": "code",
   "execution_count": 14,
   "metadata": {},
   "outputs": [],
   "source": [
    "aug = ImageDataGenerator(rotation_range=180, vertical_flip=True, horizontal_flip=True)\n",
    "new_train_bis = np.zeros((2*images_train_p.shape[0], images_train_p.shape[1], images_train_p.shape[2], images_train_p.shape[3]))\n",
    "new_y_train_bis = np.zeros(2*images_train_p.shape[0])\n",
    "for i in range(2):\n",
    "    train_aug = aug.flow(images_train_p, imy_train_bis, batch_size=1)\n",
    "    for j in range(images_train_p.shape[0]):\n",
    "        new_train_bis[i*images_train_p.shape[0]+j]=train_aug[j][0][0]\n",
    "        new_y_train_bis[i*images_train_p.shape[0]+j]=train_aug[j][1][0]"
   ]
  },
  {
   "cell_type": "code",
   "execution_count": 15,
   "metadata": {},
   "outputs": [],
   "source": [
    "new_y_train_bis = to_categorical(new_y_train_bis)"
   ]
  },
  {
   "cell_type": "code",
   "execution_count": 166,
   "metadata": {},
   "outputs": [],
   "source": [
    "model_cnn2_bis = Sequential()\n",
    "model_cnn2_bis.add(Conv2D(input_shape=(80,80,3),filters=24,kernel_size=(3,3),padding=\"same\", activation=\"relu\"))\n",
    "model_cnn2_bis.add(BatchNormalization())\n",
    "model_cnn2_bis.add(MaxPooling2D(pool_size=(2,2),strides=(2,2)))\n",
    "\n",
    "\n",
    "model_cnn2_bis.add(Conv2D(filters=24,kernel_size=(3,3),padding=\"same\", activation=\"relu\"))\n",
    "model_cnn2_bis.add(BatchNormalization())\n",
    "model_cnn2_bis.add(MaxPooling2D(pool_size=(2,2),strides=(2,2)))\n",
    "\n",
    "model_cnn2_bis.add(Conv2D(filters=24,kernel_size=(3,3),padding=\"same\", activation=\"relu\"))\n",
    "model_cnn2_bis.add(BatchNormalization())\n",
    "model_cnn2_bis.add(MaxPooling2D(pool_size=(2,2),strides=(2,2)))\n",
    "\n",
    "model_cnn2_bis.add(Flatten())\n",
    "model_cnn2_bis.add(Dense(units=1000,activation=\"relu\"))\n",
    "model_cnn2_bis.add(Dense(units=1000,activation=\"relu\"))\n",
    "model_cnn2_bis.add(Dense(units=9, activation=\"softmax\"))\n",
    "\n",
    "model_cnn2_bis.compile(loss='categorical_crossentropy', optimizer=optimizers.Adam(lr=0.0005),metrics=[\"accuracy\"])"
   ]
  },
  {
   "cell_type": "code",
   "execution_count": 167,
   "metadata": {},
   "outputs": [
    {
     "name": "stdout",
     "output_type": "stream",
     "text": [
      "Epoch 1/20\n",
      "22/22 [==============================] - 14s 618ms/step - loss: 1.7950 - accuracy: 0.4742 - val_loss: 2.0447 - val_accuracy: 0.2977\n",
      "Epoch 2/20\n",
      "22/22 [==============================] - 17s 778ms/step - loss: 0.8165 - accuracy: 0.7280 - val_loss: 1.9787 - val_accuracy: 0.3371\n",
      "Epoch 3/20\n",
      "22/22 [==============================] - 16s 734ms/step - loss: 0.5720 - accuracy: 0.7994 - val_loss: 2.0091 - val_accuracy: 0.3724\n",
      "Epoch 4/20\n",
      "22/22 [==============================] - 16s 714ms/step - loss: 0.5326 - accuracy: 0.8053 - val_loss: 2.2198 - val_accuracy: 0.3226\n",
      "Epoch 5/20\n",
      "22/22 [==============================] - 16s 723ms/step - loss: 0.4943 - accuracy: 0.8166 - val_loss: 2.4063 - val_accuracy: 0.3703\n",
      "Epoch 6/20\n",
      "22/22 [==============================] - 16s 717ms/step - loss: 0.4201 - accuracy: 0.8615 - val_loss: 2.5770 - val_accuracy: 0.3475\n",
      "Epoch 7/20\n",
      "22/22 [==============================] - 16s 734ms/step - loss: 0.3889 - accuracy: 0.8643 - val_loss: 2.9137 - val_accuracy: 0.3299\n",
      "Epoch 8/20\n",
      "22/22 [==============================] - 16s 737ms/step - loss: 0.3829 - accuracy: 0.8655 - val_loss: 3.1727 - val_accuracy: 0.3174\n",
      "Epoch 9/20\n",
      "22/22 [==============================] - 16s 723ms/step - loss: 0.3917 - accuracy: 0.8595 - val_loss: 2.7993 - val_accuracy: 0.3631\n",
      "Epoch 10/20\n",
      "22/22 [==============================] - 16s 715ms/step - loss: 0.3755 - accuracy: 0.8540 - val_loss: 3.1351 - val_accuracy: 0.3631\n",
      "Epoch 11/20\n",
      "22/22 [==============================] - 16s 733ms/step - loss: 0.3588 - accuracy: 0.8737 - val_loss: 2.9106 - val_accuracy: 0.3662\n",
      "Epoch 12/20\n",
      "22/22 [==============================] - 16s 724ms/step - loss: 0.3021 - accuracy: 0.8930 - val_loss: 2.5648 - val_accuracy: 0.4761\n",
      "Epoch 13/20\n",
      "22/22 [==============================] - 16s 718ms/step - loss: 0.2570 - accuracy: 0.9038 - val_loss: 2.1717 - val_accuracy: 0.5031\n",
      "Epoch 14/20\n",
      "22/22 [==============================] - 16s 733ms/step - loss: 0.3809 - accuracy: 0.8724 - val_loss: 1.7505 - val_accuracy: 0.5685\n",
      "Epoch 15/20\n",
      "22/22 [==============================] - 16s 724ms/step - loss: 0.2716 - accuracy: 0.8924 - val_loss: 1.7171 - val_accuracy: 0.6079\n",
      "Epoch 16/20\n",
      "22/22 [==============================] - 16s 728ms/step - loss: 0.2341 - accuracy: 0.9130 - val_loss: 1.5102 - val_accuracy: 0.6421\n",
      "Epoch 17/20\n",
      "22/22 [==============================] - 16s 719ms/step - loss: 0.2087 - accuracy: 0.9286 - val_loss: 1.0663 - val_accuracy: 0.7282\n",
      "Epoch 18/20\n",
      "22/22 [==============================] - 16s 751ms/step - loss: 0.2819 - accuracy: 0.9041 - val_loss: 0.9299 - val_accuracy: 0.7469\n",
      "Epoch 19/20\n",
      "22/22 [==============================] - 16s 740ms/step - loss: 0.2079 - accuracy: 0.9213 - val_loss: 0.8108 - val_accuracy: 0.7656\n",
      "Epoch 20/20\n",
      "22/22 [==============================] - 16s 715ms/step - loss: 0.1854 - accuracy: 0.9294 - val_loss: 0.7094 - val_accuracy: 0.7956\n"
     ]
    }
   ],
   "source": [
    "history = model_cnn2_bis.fit(train_aug_bis, epochs=20, steps_per_epoch=len(train_aug_bis), validation_data=val_aug_bis)"
   ]
  },
  {
   "cell_type": "code",
   "execution_count": 168,
   "metadata": {},
   "outputs": [
    {
     "data": {
      "image/png": "[encoded data removed]",
      "text/plain": [
       "<Figure size 432x288 with 1 Axes>"
      ]
     },
     "metadata": {
      "needs_background": "light"
     },
     "output_type": "display_data"
    }
   ],
   "source": [
    "plt.plot(history.history['accuracy'])\n",
    "plt.plot(history.history['val_accuracy'])\n",
    "plt.title('model accuracy')\n",
    "plt.ylabel('accuracy')\n",
    "plt.xlabel('epoch')\n",
    "plt.legend(['train', 'test'], loc='upper left')\n",
    "\n",
    "plt.show()"
   ]
  },
  {
   "cell_type": "code",
   "execution_count": 169,
   "metadata": {},
   "outputs": [],
   "source": [
    "y_pred_CNN2_bis = np.argmax(model_cnn2_bis.predict(images_test_n), axis=-1)\n",
    "submission_CNN2_bis = pd.DataFrame()\n",
    "submission_CNN2_bis[\"ID\"] = id_test\n",
    "submission_CNN2_bis[\"GROUP\"] = y_pred_CNN2_bis\n",
    "\n",
    "submission_CNN2_bis.to_csv(Working_directory + \"submission_cnn3_bis.csv\",index=False)"
   ]
  },
  {
   "cell_type": "code",
   "execution_count": 127,
   "metadata": {},
   "outputs": [],
   "source": [
    "scores_bis[\"CNN2\"] = [0.9294, 0.70592]"
   ]
  },
  {
   "cell_type": "markdown",
   "metadata": {},
   "source": [
    "### Model 4 - Multiclass"
   ]
  },
  {
   "cell_type": "code",
   "execution_count": 16,
   "metadata": {},
   "outputs": [],
   "source": [
    "vgg19 = VGG19(weights='imagenet', include_top=False, input_shape=(80, 80, 3))\n",
    "for layer in vgg19.layers[:]:\n",
    "    layer.trainable = False\n",
    "model4_bis = Sequential()\n",
    "model4_bis.add(vgg19)\n",
    "model4_bis.add(Flatten())\n",
    "model4_bis.add(Dense(1024, activation='relu'))\n",
    "model4_bis.add(Dense(9, activation='softmax'))\n",
    "\n",
    "model4_bis.compile(loss='categorical_crossentropy', optimizer=optimizers.Adam(lr=1e-4),metrics=[\"accuracy\"])"
   ]
  },
  {
   "cell_type": "code",
   "execution_count": 17,
   "metadata": {},
   "outputs": [
    {
     "data": {
      "text/plain": [
       "(5842, 9)"
      ]
     },
     "execution_count": 17,
     "metadata": {},
     "output_type": "execute_result"
    }
   ],
   "source": [
    "new_y_train_bis.shape"
   ]
  },
  {
   "cell_type": "code",
   "execution_count": 19,
   "metadata": {},
   "outputs": [
    {
     "name": "stdout",
     "output_type": "stream",
     "text": [
      "Epoch 1/5\n",
      "69/69 [==============================] - 165s 2s/step - loss: 1.0654 - accuracy: 0.6953 - val_loss: 0.8271 - val_accuracy: 0.7331\n",
      "Epoch 2/5\n",
      "69/69 [==============================] - 173s 3s/step - loss: 0.7196 - accuracy: 0.7738 - val_loss: 0.6961 - val_accuracy: 0.7652\n",
      "Epoch 3/5\n",
      "69/69 [==============================] - 169s 2s/step - loss: 0.6135 - accuracy: 0.8003 - val_loss: 0.6408 - val_accuracy: 0.7775\n",
      "Epoch 4/5\n",
      "69/69 [==============================] - 176s 3s/step - loss: 0.5482 - accuracy: 0.8181 - val_loss: 0.5950 - val_accuracy: 0.7864\n",
      "Epoch 5/5\n",
      "69/69 [==============================] - 183s 3s/step - loss: 0.5070 - accuracy: 0.8325 - val_loss: 0.5779 - val_accuracy: 0.7892\n"
     ]
    }
   ],
   "source": [
    "history = model4_bis.fit(new_train_bis, new_y_train_bis, epochs=5, batch_size=64, validation_split = 0.25)"
   ]
  },
  {
   "cell_type": "code",
   "execution_count": 21,
   "metadata": {},
   "outputs": [
    {
     "data": {
      "image/png": "[encoded data removed]",
      "text/plain": [
       "<Figure size 432x288 with 1 Axes>"
      ]
     },
     "metadata": {
      "needs_background": "light"
     },
     "output_type": "display_data"
    }
   ],
   "source": [
    "plt.plot(history.history['accuracy'])\n",
    "plt.plot(history.history['val_accuracy'])\n",
    "plt.title('model accuracy')\n",
    "plt.ylabel('accuracy')\n",
    "plt.xlabel('epoch')\n",
    "plt.legend(['train', 'test'], loc='upper left')\n",
    "\n",
    "plt.show()"
   ]
  },
  {
   "cell_type": "code",
   "execution_count": 20,
   "metadata": {},
   "outputs": [
    {
     "name": "stderr",
     "output_type": "stream",
     "text": [
      "C:\\Users\\mokar\\anaconda3\\lib\\site-packages\\pandas\\core\\indexes\\base.py:395: DeprecationWarning: `np.bool` is a deprecated alias for the builtin `bool`. To silence this warning, use `bool` by itself. Doing this will not modify any behavior and is safe. If you specifically wanted the numpy scalar type, use `np.bool_` here.\n",
      "Deprecated in NumPy 1.20; for more details and guidance: https://numpy.org/devdocs/release/1.20.0-notes.html#deprecations\n",
      "  elif issubclass(data.dtype.type, np.bool) or is_bool_dtype(data):\n"
     ]
    }
   ],
   "source": [
    "y_pred_model4_bis = np.argmax(model4_bis.predict(images_test_n), axis=-1)\n",
    "submission_model4_bis = pd.DataFrame()\n",
    "submission_model4_bis[\"ID\"] = id_test\n",
    "submission_model4_bis[\"GROUP\"] = y_pred_model4_bis\n",
    "\n",
    "submission_model4_bis.to_csv(Working_directory + \"submission_cnn3_bis.csv\",index=False)"
   ]
  },
  {
   "cell_type": "code",
   "execution_count": 128,
   "metadata": {},
   "outputs": [],
   "source": [
    "scores_bis[\"CNN4\"] = [0.8325, 0.64358]"
   ]
  },
  {
   "cell_type": "markdown",
   "metadata": {},
   "source": [
    "# <u>V - Autres méthodes</u>\n",
    "## V.1 - Deep features"
   ]
  },
  {
   "cell_type": "code",
   "execution_count": 103,
   "metadata": {},
   "outputs": [
    {
     "name": "stdout",
     "output_type": "stream",
     "text": [
      "Model: \"sequential_16\"\n",
      "_________________________________________________________________\n",
      "Layer (type)                 Output Shape              Param #   \n",
      "=================================================================\n",
      "vgg19 (Functional)           (None, 2, 2, 512)         20024384  \n",
      "_________________________________________________________________\n",
      "flatten_10 (Flatten)         (None, 2048)              0         \n",
      "=================================================================\n",
      "Total params: 20,024,384\n",
      "Trainable params: 20,024,384\n",
      "Non-trainable params: 0\n",
      "_________________________________________________________________\n"
     ]
    }
   ],
   "source": [
    "vgg=VGG19(weights='imagenet', include_top=False, input_shape=(80, 80, 3))\n",
    "extract_model = Sequential()\n",
    "extract_model.add(vgg)\n",
    "extract_model.add(Flatten())\n",
    "\n",
    "extract_model.summary()"
   ]
  },
  {
   "cell_type": "code",
   "execution_count": 111,
   "metadata": {},
   "outputs": [],
   "source": [
    "vgg_train = extract_model.predict(rX_train)\n",
    "vgg_test = extract_model.predict(resized_test)\n",
    "\n",
    "scaler = StandardScaler()\n",
    "scaler.fit(vgg_train)\n",
    "vgg_train_n = scaler.transform(vgg_train)\n",
    "vgg_test_n = scaler.transform(vgg_test)"
   ]
  },
  {
   "cell_type": "code",
   "execution_count": 118,
   "metadata": {},
   "outputs": [],
   "source": [
    "pd.DataFrame(vgg_train_n).to_csv(Working_directory + \"features_train3.csv\", index=None)\n",
    "pd.DataFrame(vgg_test_n).to_csv(Working_directory + \"features_test3.csv\", index=None)"
   ]
  },
  {
   "cell_type": "code",
   "execution_count": 119,
   "metadata": {},
   "outputs": [],
   "source": [
    "pca = PCA(0.99)\n",
    "pca.fit(vgg_train_n)\n",
    "train_pca = pca.transform(vgg_train_n)\n",
    "test_pca = pca.transform(vgg_test_n)"
   ]
  },
  {
   "cell_type": "code",
   "execution_count": 122,
   "metadata": {},
   "outputs": [
    {
     "name": "stdout",
     "output_type": "stream",
     "text": [
      "Epoch 1/50\n",
      "31/31 [==============================] - 3s 23ms/step - loss: 0.5864 - accuracy: 0.6800 - val_loss: 0.6010 - val_accuracy: 0.7656\n",
      "Epoch 2/50\n",
      "31/31 [==============================] - 0s 8ms/step - loss: 0.3200 - accuracy: 0.8606 - val_loss: 0.5430 - val_accuracy: 0.7822\n",
      "Epoch 3/50\n",
      "31/31 [==============================] - 0s 6ms/step - loss: 0.2472 - accuracy: 0.9074 - val_loss: 0.4688 - val_accuracy: 0.7842\n",
      "Epoch 4/50\n",
      "31/31 [==============================] - 0s 9ms/step - loss: 0.1740 - accuracy: 0.9345 - val_loss: 0.4432 - val_accuracy: 0.7853\n",
      "Epoch 5/50\n",
      "31/31 [==============================] - 0s 7ms/step - loss: 0.1455 - accuracy: 0.9461 - val_loss: 0.4340 - val_accuracy: 0.7863\n",
      "Epoch 6/50\n",
      "31/31 [==============================] - 0s 9ms/step - loss: 0.1047 - accuracy: 0.9656 - val_loss: 0.4617 - val_accuracy: 0.7801\n",
      "Epoch 7/50\n",
      "31/31 [==============================] - 0s 11ms/step - loss: 0.0751 - accuracy: 0.9771 - val_loss: 0.4873 - val_accuracy: 0.7873\n",
      "Epoch 8/50\n",
      "31/31 [==============================] - 0s 8ms/step - loss: 0.0790 - accuracy: 0.9722 - val_loss: 0.4971 - val_accuracy: 0.7884\n",
      "Epoch 9/50\n",
      "31/31 [==============================] - 0s 6ms/step - loss: 0.0545 - accuracy: 0.9822 - val_loss: 0.6048 - val_accuracy: 0.7780\n",
      "Epoch 10/50\n",
      "31/31 [==============================] - 0s 9ms/step - loss: 0.0644 - accuracy: 0.9811 - val_loss: 0.6414 - val_accuracy: 0.7905\n",
      "Epoch 11/50\n",
      "31/31 [==============================] - 0s 9ms/step - loss: 0.0568 - accuracy: 0.9800 - val_loss: 0.6908 - val_accuracy: 0.7925\n",
      "Epoch 12/50\n",
      "31/31 [==============================] - 0s 10ms/step - loss: 0.0403 - accuracy: 0.9879 - val_loss: 0.7352 - val_accuracy: 0.7873\n",
      "Epoch 13/50\n",
      "31/31 [==============================] - 0s 6ms/step - loss: 0.0494 - accuracy: 0.9856 - val_loss: 0.7840 - val_accuracy: 0.7873\n",
      "Epoch 14/50\n",
      "31/31 [==============================] - 0s 5ms/step - loss: 0.0554 - accuracy: 0.9797 - val_loss: 0.8002 - val_accuracy: 0.7863\n",
      "Epoch 15/50\n",
      "31/31 [==============================] - 0s 6ms/step - loss: 0.0506 - accuracy: 0.9815 - val_loss: 0.8379 - val_accuracy: 0.7863\n",
      "Epoch 16/50\n",
      "31/31 [==============================] - 0s 10ms/step - loss: 0.0375 - accuracy: 0.9868 - val_loss: 0.8641 - val_accuracy: 0.7853\n",
      "Epoch 17/50\n",
      "31/31 [==============================] - 0s 10ms/step - loss: 0.0417 - accuracy: 0.9843 - val_loss: 0.8677 - val_accuracy: 0.7894\n",
      "Epoch 18/50\n",
      "31/31 [==============================] - 0s 6ms/step - loss: 0.0428 - accuracy: 0.9806 - val_loss: 0.9498 - val_accuracy: 0.7936\n",
      "Epoch 19/50\n",
      "31/31 [==============================] - 0s 10ms/step - loss: 0.0350 - accuracy: 0.9881 - val_loss: 0.9150 - val_accuracy: 0.7822\n",
      "Epoch 20/50\n",
      "31/31 [==============================] - 0s 10ms/step - loss: 0.0279 - accuracy: 0.9902 - val_loss: 0.9531 - val_accuracy: 0.7811\n",
      "Epoch 21/50\n",
      "31/31 [==============================] - 0s 7ms/step - loss: 0.0413 - accuracy: 0.9825 - val_loss: 1.0175 - val_accuracy: 0.7739\n",
      "Epoch 22/50\n",
      "31/31 [==============================] - 0s 7ms/step - loss: 0.0322 - accuracy: 0.9875 - val_loss: 0.9920 - val_accuracy: 0.7842\n",
      "Epoch 23/50\n",
      "31/31 [==============================] - 0s 6ms/step - loss: 0.0208 - accuracy: 0.9918 - val_loss: 0.9403 - val_accuracy: 0.7956\n",
      "Epoch 24/50\n",
      "31/31 [==============================] - 0s 6ms/step - loss: 0.0369 - accuracy: 0.9895 - val_loss: 1.0247 - val_accuracy: 0.7884\n",
      "Epoch 25/50\n",
      "31/31 [==============================] - 0s 6ms/step - loss: 0.0399 - accuracy: 0.9839 - val_loss: 1.0507 - val_accuracy: 0.7884\n",
      "Epoch 26/50\n",
      "31/31 [==============================] - 0s 6ms/step - loss: 0.0263 - accuracy: 0.9916 - val_loss: 1.0116 - val_accuracy: 0.7739\n",
      "Epoch 27/50\n",
      "31/31 [==============================] - 0s 6ms/step - loss: 0.0387 - accuracy: 0.9853 - val_loss: 1.1054 - val_accuracy: 0.7853\n",
      "Epoch 28/50\n",
      "31/31 [==============================] - 0s 6ms/step - loss: 0.0512 - accuracy: 0.9805 - val_loss: 1.0172 - val_accuracy: 0.7988\n",
      "Epoch 29/50\n",
      "31/31 [==============================] - 0s 8ms/step - loss: 0.0333 - accuracy: 0.9909 - val_loss: 1.0045 - val_accuracy: 0.8071\n",
      "Epoch 30/50\n",
      "31/31 [==============================] - 0s 6ms/step - loss: 0.0199 - accuracy: 0.9946 - val_loss: 1.0007 - val_accuracy: 0.8071\n",
      "Epoch 31/50\n",
      "31/31 [==============================] - 0s 6ms/step - loss: 0.0250 - accuracy: 0.9910 - val_loss: 1.0878 - val_accuracy: 0.7884\n",
      "Epoch 32/50\n",
      "31/31 [==============================] - 0s 6ms/step - loss: 0.0220 - accuracy: 0.9903 - val_loss: 1.0357 - val_accuracy: 0.7884\n",
      "Epoch 33/50\n",
      "31/31 [==============================] - 0s 6ms/step - loss: 0.0148 - accuracy: 0.9956 - val_loss: 0.9818 - val_accuracy: 0.7915\n",
      "Epoch 34/50\n",
      "31/31 [==============================] - 0s 6ms/step - loss: 0.0138 - accuracy: 0.9942 - val_loss: 1.0024 - val_accuracy: 0.7915\n",
      "Epoch 35/50\n",
      "31/31 [==============================] - 0s 8ms/step - loss: 0.0118 - accuracy: 0.9971 - val_loss: 1.0801 - val_accuracy: 0.7822\n",
      "Epoch 36/50\n",
      "31/31 [==============================] - 0s 6ms/step - loss: 0.0238 - accuracy: 0.9921 - val_loss: 1.0413 - val_accuracy: 0.7759\n",
      "Epoch 37/50\n",
      "31/31 [==============================] - 0s 10ms/step - loss: 0.0175 - accuracy: 0.9942 - val_loss: 1.0116 - val_accuracy: 0.7946\n",
      "Epoch 38/50\n",
      "31/31 [==============================] - 0s 8ms/step - loss: 0.0199 - accuracy: 0.9939 - val_loss: 1.1087 - val_accuracy: 0.7894\n",
      "Epoch 39/50\n",
      "31/31 [==============================] - 0s 8ms/step - loss: 0.0083 - accuracy: 0.9976 - val_loss: 1.0520 - val_accuracy: 0.8060\n",
      "Epoch 40/50\n",
      "31/31 [==============================] - 0s 11ms/step - loss: 0.0097 - accuracy: 0.9964 - val_loss: 1.0503 - val_accuracy: 0.8050\n",
      "Epoch 41/50\n",
      "31/31 [==============================] - 0s 11ms/step - loss: 0.0344 - accuracy: 0.9906 - val_loss: 1.1144 - val_accuracy: 0.7863\n",
      "Epoch 42/50\n",
      "31/31 [==============================] - 0s 7ms/step - loss: 0.0282 - accuracy: 0.9930 - val_loss: 1.0585 - val_accuracy: 0.8019\n",
      "Epoch 43/50\n",
      "31/31 [==============================] - 0s 10ms/step - loss: 0.0143 - accuracy: 0.9963 - val_loss: 1.1029 - val_accuracy: 0.7863\n",
      "Epoch 44/50\n",
      "31/31 [==============================] - 0s 11ms/step - loss: 0.0173 - accuracy: 0.9936 - val_loss: 1.0992 - val_accuracy: 0.8112\n",
      "Epoch 45/50\n",
      "31/31 [==============================] - 0s 10ms/step - loss: 0.0307 - accuracy: 0.9893 - val_loss: 1.1681 - val_accuracy: 0.7801\n",
      "Epoch 46/50\n",
      "31/31 [==============================] - 0s 8ms/step - loss: 0.0246 - accuracy: 0.9928 - val_loss: 1.1188 - val_accuracy: 0.7988\n",
      "Epoch 47/50\n",
      "31/31 [==============================] - 0s 10ms/step - loss: 0.0220 - accuracy: 0.9929 - val_loss: 1.0826 - val_accuracy: 0.8071\n",
      "Epoch 48/50\n",
      "31/31 [==============================] - 0s 11ms/step - loss: 0.0196 - accuracy: 0.9962 - val_loss: 1.1136 - val_accuracy: 0.8071\n",
      "Epoch 49/50\n",
      "31/31 [==============================] - 0s 9ms/step - loss: 0.0167 - accuracy: 0.9939 - val_loss: 1.1028 - val_accuracy: 0.8039\n",
      "Epoch 50/50\n",
      "31/31 [==============================] - 0s 9ms/step - loss: 0.0050 - accuracy: 0.9986 - val_loss: 1.1174 - val_accuracy: 0.7956\n"
     ]
    },
    {
     "data": {
      "image/png": "[encoded data removed]",
      "text/plain": [
       "<Figure size 432x288 with 1 Axes>"
      ]
     },
     "metadata": {
      "needs_background": "light"
     },
     "output_type": "display_data"
    }
   ],
   "source": [
    "n_input = train_pca.shape[1]  # Number of input features\n",
    "n_hidden = 150\n",
    "n_hidden2 = 200\n",
    "# Number of hidden nodes\n",
    "\n",
    "# create the model (using the sequential API)\n",
    "\n",
    "model_mlp3 = Sequential([Dense(n_hidden, input_shape=(n_input,)),\n",
    "                        Activation('relu'),\n",
    "                        BatchNormalization(),\n",
    "                        Dense(n_hidden, input_shape=(n_hidden,)),\n",
    "                        Activation('relu'),\n",
    "                        BatchNormalization(),\n",
    "                        Dense(n_hidden, input_shape=(n_hidden,)),\n",
    "                        Activation('relu'),\n",
    "                        BatchNormalization(),\n",
    "                        Dense(n_hidden2, input_shape=(n_hidden2,)),\n",
    "                        Activation('relu'),\n",
    "                        BatchNormalization(),\n",
    "                        Dense(n_hidden2, input_shape=(n_hidden2,)),\n",
    "                        Activation('relu'),\n",
    "                        Dense(1, input_shape=(n_hidden2,)),\n",
    "                        Activation('sigmoid')])\n",
    "\n",
    "learning_rate = 0.001\n",
    "model_mlp3.compile(loss='binary_crossentropy', optimizer=optimizers.Adam(lr=learning_rate),metrics=[\"accuracy\"]) # TO FILL IN\n",
    "batch_size = 64\n",
    "\n",
    "history = model_mlp3.fit(train_pca, ry_train, validation_split=0.33, epochs=50, batch_size=batch_size, verbose=1)\n",
    "\n",
    "plt.plot(history.history['accuracy'])\n",
    "plt.plot(history.history['val_accuracy'])\n",
    "plt.title('model accuracy')\n",
    "plt.ylabel('accuracy')\n",
    "plt.xlabel('epoch')\n",
    "plt.legend(['train', 'test'], loc='upper left')\n",
    "plt.show()"
   ]
  },
  {
   "cell_type": "code",
   "execution_count": 125,
   "metadata": {},
   "outputs": [
    {
     "name": "stdout",
     "output_type": "stream",
     "text": [
      "Best Validation score: 0.6323448710499815\n",
      "Best training params: {'C': 10, 'gamma': 0.01}\n"
     ]
    }
   ],
   "source": [
    "import warnings\n",
    "warnings.filterwarnings(\"ignore\")\n",
    "\n",
    "\n",
    "p_grid_nlsvm = {'C': [0.001, 0.01, 0.1, 1, 10, 100],\n",
    "              'gamma': [0.001, 0.01, 0.1, 1, 10, 100], }\n",
    "NLsvm = SVC(kernel='rbf')\n",
    "grid_nlsvm = GridSearchCV(estimator= NLsvm,param_grid=p_grid_nlsvm, scoring=make_scorer(mcc), cv=5 )\n",
    "grid_nlsvm.fit(train_pca, ry_train)\n",
    "warnings.filterwarnings(\"default\")\n",
    "print(\"Best Validation score: {}\".format(grid_nlsvm.best_score_))\n",
    "print(\"Best training params: {}\".format(grid_nlsvm.best_params_))"
   ]
  },
  {
   "cell_type": "markdown",
   "metadata": {},
   "source": [
    "## V.2 - PCA"
   ]
  },
  {
   "cell_type": "code",
   "execution_count": 256,
   "metadata": {},
   "outputs": [],
   "source": [
    "train_vector = rX_train.mean(axis=-1).reshape(rX_train.shape[0],rX_train.shape[1]*rX_train.shape[2])\n",
    "test_vector = resized_test.mean(axis=-1).reshape(resized_test.shape[0], resized_test.shape[1]*resized_test.shape[2])"
   ]
  },
  {
   "cell_type": "code",
   "execution_count": 257,
   "metadata": {},
   "outputs": [
    {
     "name": "stdout",
     "output_type": "stream",
     "text": [
      "(1252, 163)\n"
     ]
    }
   ],
   "source": [
    "pca2 = PCA(0.99)\n",
    "pca2.fit(train_vector)\n",
    "train_pca2 = pca2.transform(train_vector)\n",
    "test_pca2 = pca2.transform(test_vector)\n",
    "print(test_pca2.shape)"
   ]
  },
  {
   "cell_type": "code",
   "execution_count": 259,
   "metadata": {},
   "outputs": [
    {
     "name": "stdout",
     "output_type": "stream",
     "text": [
      "Best Validation score: 0.6758547739370676\n",
      "Best training params: {'C': 1, 'gamma': 0.01}\n"
     ]
    }
   ],
   "source": [
    "warnings.filterwarnings(\"ignore\")\n",
    "p_grid_nlsvm = {'C': [0.001, 0.01, 0.1, 1, 10, 100],\n",
    "              'gamma': [0.001, 0.01, 0.1, 1, 10, 100], }\n",
    "NLsvm = SVC(kernel='rbf')\n",
    "grid_nlsvm = GridSearchCV(estimator= NLsvm,param_grid=p_grid_nlsvm, scoring=make_scorer(mcc), cv=5 )\n",
    "grid_nlsvm.fit(train_pca2, ry_train)\n",
    "print(\"Best Validation score: {}\".format(grid_nlsvm.best_score_))\n",
    "print(\"Best training params: {}\".format(grid_nlsvm.best_params_))\n",
    "warnings.filterwarnings(\"default\")"
   ]
  },
  {
   "cell_type": "markdown",
   "metadata": {},
   "source": [
    "## V.3 - Somme des résultats\n"
   ]
  },
  {
   "cell_type": "code",
   "execution_count": 244,
   "metadata": {},
   "outputs": [],
   "source": [
    "y1 = to_categorical(pd.read_csv(Working_directory +\"submission_model4.4.csv\")[\"ABNORMAL\"])\n",
    "y2 = to_categorical(pd.read_csv(Working_directory +\"submission_model4.3.csv\")[\"ABNORMAL\"])\n",
    "y3 = to_categorical(pd.read_csv(Working_directory +\"submission_cnn3.csv\")[\"ABNORMAL\"])\n",
    "y4 = to_categorical(pd.read_csv(Working_directory +\"submission_mlp.csv\")[\"ABNORMAL\"])\n",
    "y5 = to_categorical(pd.read_csv(Working_directory +\"submission_nlsvm2.csv\")[\"ABNORMAL\"])\n",
    "\n",
    "y_sum = np.argmax((y1 + y2 + y3 + y4 + y5), axis=-1)\n",
    "\n",
    "submission_sum = pd.DataFrame()\n",
    "submission_sum[\"ID\"] = id_test\n",
    "submission_sum[\"ABNORMAL\"] = y_sum\n",
    "\n",
    "submission_sum.to_csv(Working_directory + \"submission_sum.csv\",index=False)"
   ]
  },
  {
   "cell_type": "markdown",
   "metadata": {},
   "source": [
    "Résultat : 0.91221"
   ]
  },
  {
   "cell_type": "code",
   "execution_count": 148,
   "metadata": {},
   "outputs": [],
   "source": [
    "scores[\"sum\"] = [np.nan, 0.91221]"
   ]
  },
  {
   "cell_type": "code",
   "execution_count": 23,
   "metadata": {},
   "outputs": [],
   "source": [
    "y1 = to_categorical(pd.read_csv(Working_directory +\"submission_model4.4.csv\")[\"ABNORMAL\"])\n",
    "y2 = to_categorical(pd.read_csv(Working_directory +\"submission_model4.3.csv\")[\"ABNORMAL\"])\n",
    "y3 = to_categorical(pd.read_csv(Working_directory +\"submission_cnn3.csv\")[\"ABNORMAL\"])\n",
    "y4 = to_categorical(pd.read_csv(Working_directory +\"submission_mlp.csv\")[\"ABNORMAL\"])\n",
    "y5 = to_categorical(pd.read_csv(Working_directory +\"submission_nlsvm2.csv\")[\"ABNORMAL\"])\n",
    "y6 = to_categorical(pd.read_csv(Working_directory +\"submission_RF2.2.csv\")[\"ABNORMAL\"])\n",
    "y7 = to_categorical(pd.read_csv(Working_directory +\"submission_Ada_cv2.3.csv\")[\"ABNORMAL\"])\n",
    "y8 = to_categorical(pd.read_csv(Working_directory +\"submission_mlp2.csv\")[\"ABNORMAL\"])\n",
    "y9 = to_categorical(pd.read_csv(Working_directory +\"submission_cnn4.csv\")[\"ABNORMAL\"])\n",
    "y10 = to_categorical(pd.read_csv(Working_directory +\"submission_model4.csv\")[\"ABNORMAL\"])\n",
    "\n",
    "y_sum2 = np.argmax((y1 + y2 + y3 + y4 + y5 + y6 + y7 + y8 + y9 + y10), axis=-1)\n",
    "\n",
    "submission_sum2 = pd.DataFrame()\n",
    "submission_sum2[\"ID\"] = id_test\n",
    "submission_sum2[\"ABNORMAL\"] = y_sum2\n",
    "\n",
    "submission_sum2.to_csv(Working_directory + \"submission_sum2.csv\",index=False)\n"
   ]
  },
  {
   "cell_type": "markdown",
   "metadata": {},
   "source": [
    "Résultat : 0.92350"
   ]
  },
  {
   "cell_type": "code",
   "execution_count": 149,
   "metadata": {},
   "outputs": [],
   "source": [
    "scores[\"sum2\"] = [np.nan, 0.92350]"
   ]
  },
  {
   "cell_type": "markdown",
   "metadata": {},
   "source": [
    "Multiclass:\n"
   ]
  },
  {
   "cell_type": "code",
   "execution_count": 26,
   "metadata": {},
   "outputs": [],
   "source": [
    "y1_bis = to_categorical(pd.read_csv(Working_directory +\"submission_ovr2.csv\")[\"GROUP\"])\n",
    "y2_bis = to_categorical(pd.read_csv(Working_directory +\"submission_RF_bis2.2csv\")[\"GROUP\"])\n",
    "y3_bis = to_categorical(pd.read_csv(Working_directory +\"submission_mlp_bis2.csv\")[\"GROUP\"])\n",
    "y4_bis = to_categorical(pd.read_csv(Working_directory +\"submission_mlp_bis.csv\")[\"GROUP\"])\n",
    "y5_bis = to_categorical(pd.read_csv(Working_directory +\"submission_RF_bis2.csv\")[\"GROUP\"])\n",
    "\n",
    "y_sum_bis = np.argmax((y1_bis + y2_bis + y3_bis + y4_bis + y5_bis), axis=-1)\n",
    "\n",
    "submission_sum_bis = pd.DataFrame()\n",
    "submission_sum_bis[\"ID\"] = id_test\n",
    "submission_sum_bis[\"GROUP\"] = y_sum_bis\n",
    "\n",
    "submission_sum_bis.to_csv(Working_directory + \"submission_sum_bis.csv\",index=False)"
   ]
  },
  {
   "cell_type": "code",
   "execution_count": 150,
   "metadata": {},
   "outputs": [],
   "source": [
    "scores_bis[\"sum\"] = [np.nan, 0.67876]"
   ]
  },
  {
   "cell_type": "markdown",
   "metadata": {},
   "source": [
    "Résultat :  0.67876"
   ]
  },
  {
   "cell_type": "markdown",
   "metadata": {},
   "source": [
    "# VI - Conclusion"
   ]
  },
  {
   "cell_type": "code",
   "execution_count": 151,
   "metadata": {},
   "outputs": [],
   "source": [
    "scores.to_csv(Working_directory + \"scores.csv\")"
   ]
  },
  {
   "cell_type": "code",
   "execution_count": 152,
   "metadata": {},
   "outputs": [],
   "source": [
    "scores_bis.to_csv(Working_directory + \"scores_bis.csv\")"
   ]
  },
  {
   "cell_type": "code",
   "execution_count": 157,
   "metadata": {
    "scrolled": true
   },
   "outputs": [
    {
     "data": {
      "text/html": [
       "<div>\n",
       "<style scoped>\n",
       "    .dataframe tbody tr th:only-of-type {\n",
       "        vertical-align: middle;\n",
       "    }\n",
       "\n",
       "    .dataframe tbody tr th {\n",
       "        vertical-align: top;\n",
       "    }\n",
       "\n",
       "    .dataframe thead th {\n",
       "        text-align: right;\n",
       "    }\n",
       "</style>\n",
       "<table border=\"1\" class=\"dataframe\">\n",
       "  <thead>\n",
       "    <tr style=\"text-align: right;\">\n",
       "      <th></th>\n",
       "      <th>LDA</th>\n",
       "      <th>QDA</th>\n",
       "      <th>KNN</th>\n",
       "      <th>LSVM</th>\n",
       "      <th>NLSVM</th>\n",
       "      <th>NLSVM2</th>\n",
       "      <th>RF2</th>\n",
       "      <th>AdaBoost2</th>\n",
       "      <th>MLP</th>\n",
       "      <th>MLP2</th>\n",
       "      <th>CNN2</th>\n",
       "      <th>CNN4</th>\n",
       "      <th>CNN5</th>\n",
       "      <th>sum</th>\n",
       "      <th>sum2</th>\n",
       "    </tr>\n",
       "  </thead>\n",
       "  <tbody>\n",
       "    <tr>\n",
       "      <th>Train</th>\n",
       "      <td>0.798283</td>\n",
       "      <td>0.696799</td>\n",
       "      <td>0.84344</td>\n",
       "      <td>0.838846</td>\n",
       "      <td>0.842674</td>\n",
       "      <td>0.965375</td>\n",
       "      <td>0.993077</td>\n",
       "      <td>0.939798</td>\n",
       "      <td>0.992811</td>\n",
       "      <td>0.955669</td>\n",
       "      <td>0.895223</td>\n",
       "      <td>0.876026</td>\n",
       "      <td>1.00000</td>\n",
       "      <td>NaN</td>\n",
       "      <td>NaN</td>\n",
       "    </tr>\n",
       "    <tr>\n",
       "      <th>Test</th>\n",
       "      <td>0.777810</td>\n",
       "      <td>0.653390</td>\n",
       "      <td>0.73830</td>\n",
       "      <td>0.756630</td>\n",
       "      <td>0.810230</td>\n",
       "      <td>0.808840</td>\n",
       "      <td>0.801210</td>\n",
       "      <td>0.786340</td>\n",
       "      <td>0.846770</td>\n",
       "      <td>0.846350</td>\n",
       "      <td>0.778230</td>\n",
       "      <td>0.883360</td>\n",
       "      <td>0.84665</td>\n",
       "      <td>0.91221</td>\n",
       "      <td>0.9235</td>\n",
       "    </tr>\n",
       "  </tbody>\n",
       "</table>\n",
       "</div>"
      ],
      "text/plain": [
       "            LDA       QDA      KNN      LSVM     NLSVM    NLSVM2       RF2  \\\n",
       "Train  0.798283  0.696799  0.84344  0.838846  0.842674  0.965375  0.993077   \n",
       "Test   0.777810  0.653390  0.73830  0.756630  0.810230  0.808840  0.801210   \n",
       "\n",
       "       AdaBoost2       MLP      MLP2      CNN2      CNN4     CNN5      sum  \\\n",
       "Train   0.939798  0.992811  0.955669  0.895223  0.876026  1.00000      NaN   \n",
       "Test    0.786340  0.846770  0.846350  0.778230  0.883360  0.84665  0.91221   \n",
       "\n",
       "         sum2  \n",
       "Train     NaN  \n",
       "Test   0.9235  "
      ]
     },
     "execution_count": 157,
     "metadata": {},
     "output_type": "execute_result"
    }
   ],
   "source": [
    "scores"
   ]
  },
  {
   "cell_type": "code",
   "execution_count": 160,
   "metadata": {
    "scrolled": true
   },
   "outputs": [
    {
     "data": {
      "image/png": "[encoded data removed]",
      "text/plain": [
       "<Figure size 432x288 with 1 Axes>"
      ]
     },
     "metadata": {
      "needs_background": "light"
     },
     "output_type": "display_data"
    }
   ],
   "source": [
    "plt.bar(scores.columns, scores.iloc[0],color=\"tomato\", label=\"Training scores\", alpha=0.6)\n",
    "plt.bar(scores.columns, scores.iloc[1],color=\"royalblue\", label=\"Testing scores\", alpha=0.6)\n",
    "plt.legend(loc='lower center')\n",
    "plt.xticks(scores.columns,  rotation=90)\n",
    "plt.show()"
   ]
  },
  {
   "cell_type": "code",
   "execution_count": 158,
   "metadata": {},
   "outputs": [
    {
     "data": {
      "text/html": [
       "<div>\n",
       "<style scoped>\n",
       "    .dataframe tbody tr th:only-of-type {\n",
       "        vertical-align: middle;\n",
       "    }\n",
       "\n",
       "    .dataframe tbody tr th {\n",
       "        vertical-align: top;\n",
       "    }\n",
       "\n",
       "    .dataframe thead th {\n",
       "        text-align: right;\n",
       "    }\n",
       "</style>\n",
       "<table border=\"1\" class=\"dataframe\">\n",
       "  <thead>\n",
       "    <tr style=\"text-align: right;\">\n",
       "      <th></th>\n",
       "      <th>LDA</th>\n",
       "      <th>QDA</th>\n",
       "      <th>KNN</th>\n",
       "      <th>LDA2</th>\n",
       "      <th>SVM_OvR_2</th>\n",
       "      <th>RF2</th>\n",
       "      <th>MLP</th>\n",
       "      <th>MLP2</th>\n",
       "      <th>CNN2</th>\n",
       "      <th>CNN4</th>\n",
       "      <th>sum</th>\n",
       "    </tr>\n",
       "  </thead>\n",
       "  <tbody>\n",
       "    <tr>\n",
       "      <th>Train</th>\n",
       "      <td>0.680676</td>\n",
       "      <td>0.727094</td>\n",
       "      <td>0.72039</td>\n",
       "      <td>0.723998</td>\n",
       "      <td>0.83768</td>\n",
       "      <td>0.997679</td>\n",
       "      <td>0.995892</td>\n",
       "      <td>1.0000</td>\n",
       "      <td>0.92940</td>\n",
       "      <td>0.83250</td>\n",
       "      <td>NaN</td>\n",
       "    </tr>\n",
       "    <tr>\n",
       "      <th>Test</th>\n",
       "      <td>0.599870</td>\n",
       "      <td>0.513790</td>\n",
       "      <td>0.51379</td>\n",
       "      <td>0.706840</td>\n",
       "      <td>0.69823</td>\n",
       "      <td>0.671710</td>\n",
       "      <td>0.668700</td>\n",
       "      <td>0.6687</td>\n",
       "      <td>0.70592</td>\n",
       "      <td>0.64358</td>\n",
       "      <td>0.67876</td>\n",
       "    </tr>\n",
       "  </tbody>\n",
       "</table>\n",
       "</div>"
      ],
      "text/plain": [
       "            LDA       QDA      KNN      LDA2  SVM_OvR_2       RF2       MLP  \\\n",
       "Train  0.680676  0.727094  0.72039  0.723998    0.83768  0.997679  0.995892   \n",
       "Test   0.599870  0.513790  0.51379  0.706840    0.69823  0.671710  0.668700   \n",
       "\n",
       "         MLP2     CNN2     CNN4      sum  \n",
       "Train  1.0000  0.92940  0.83250      NaN  \n",
       "Test   0.6687  0.70592  0.64358  0.67876  "
      ]
     },
     "execution_count": 158,
     "metadata": {},
     "output_type": "execute_result"
    }
   ],
   "source": [
    "scores_bis"
   ]
  },
  {
   "cell_type": "code",
   "execution_count": 161,
   "metadata": {},
   "outputs": [
    {
     "data": {
      "image/png": "[encoded data removed]",
      "text/plain": [
       "<Figure size 432x288 with 1 Axes>"
      ]
     },
     "metadata": {
      "needs_background": "light"
     },
     "output_type": "display_data"
    }
   ],
   "source": [
    "plt.bar(scores_bis.columns, scores_bis.iloc[0],color=\"tomato\", label=\"Training scores\", alpha=0.6)\n",
    "plt.bar(scores_bis.columns, scores_bis.iloc[1],color=\"royalblue\", label=\"Testing scores\", alpha=0.6)\n",
    "plt.legend(loc='lower center')\n",
    "plt.xticks(scores_bis.columns,  rotation=90)\n",
    "plt.show()"
   ]
  },
  {
   "cell_type": "code",
   "execution_count": null,
   "metadata": {},
   "outputs": [],
   "source": []
  }
 ],
 "metadata": {
  "kernelspec": {
   "display_name": "Python 3",
   "language": "python",
   "name": "python3"
  },
  "language_info": {
   "codemirror_mode": {
    "name": "ipython",
    "version": 3
   },
   "file_extension": ".py",
   "mimetype": "text/x-python",
   "name": "python",
   "nbconvert_exporter": "python",
   "pygments_lexer": "ipython3",
   "version": "3.8.3"
  }
 },
 "nbformat": 4,
 "nbformat_minor": 4
}
